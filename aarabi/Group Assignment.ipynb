{
 "cells": [
  {
   "cell_type": "markdown",
   "id": "a5ab66b4",
   "metadata": {},
   "source": [
    "Loading and understanding the Data structure"
   ]
  },
  {
   "cell_type": "code",
   "execution_count": 6,
   "id": "370db7a6-30e8-4ca8-a672-09e678684919",
   "metadata": {},
   "outputs": [
    {
     "data": {
      "text/html": [
       "<div>\n",
       "<style scoped>\n",
       "    .dataframe tbody tr th:only-of-type {\n",
       "        vertical-align: middle;\n",
       "    }\n",
       "\n",
       "    .dataframe tbody tr th {\n",
       "        vertical-align: top;\n",
       "    }\n",
       "\n",
       "    .dataframe thead th {\n",
       "        text-align: right;\n",
       "    }\n",
       "</style>\n",
       "<table border=\"1\" class=\"dataframe\">\n",
       "  <thead>\n",
       "    <tr style=\"text-align: right;\">\n",
       "      <th></th>\n",
       "      <th>index</th>\n",
       "      <th>InvoiceNo</th>\n",
       "      <th>StockCode</th>\n",
       "      <th>Description</th>\n",
       "      <th>Quantity</th>\n",
       "      <th>InvoiceDate</th>\n",
       "      <th>UnitPrice</th>\n",
       "      <th>CustomerID</th>\n",
       "      <th>Country</th>\n",
       "    </tr>\n",
       "  </thead>\n",
       "  <tbody>\n",
       "    <tr>\n",
       "      <th>0</th>\n",
       "      <td>0</td>\n",
       "      <td>536365</td>\n",
       "      <td>85123A</td>\n",
       "      <td>WHITE HANGING HEART T-LIGHT HOLDER</td>\n",
       "      <td>6</td>\n",
       "      <td>12/1/2010 8:26</td>\n",
       "      <td>2.55</td>\n",
       "      <td>17850.0</td>\n",
       "      <td>United Kingdom</td>\n",
       "    </tr>\n",
       "    <tr>\n",
       "      <th>1</th>\n",
       "      <td>1</td>\n",
       "      <td>536365</td>\n",
       "      <td>71053</td>\n",
       "      <td>WHITE METAL LANTERN</td>\n",
       "      <td>6</td>\n",
       "      <td>12/1/2010 8:26</td>\n",
       "      <td>3.39</td>\n",
       "      <td>17850.0</td>\n",
       "      <td>United Kingdom</td>\n",
       "    </tr>\n",
       "    <tr>\n",
       "      <th>2</th>\n",
       "      <td>2</td>\n",
       "      <td>536365</td>\n",
       "      <td>84406B</td>\n",
       "      <td>CREAM CUPID HEARTS COAT HANGER</td>\n",
       "      <td>8</td>\n",
       "      <td>12/1/2010 8:26</td>\n",
       "      <td>2.75</td>\n",
       "      <td>17850.0</td>\n",
       "      <td>United Kingdom</td>\n",
       "    </tr>\n",
       "    <tr>\n",
       "      <th>3</th>\n",
       "      <td>3</td>\n",
       "      <td>536365</td>\n",
       "      <td>84029G</td>\n",
       "      <td>KNITTED UNION FLAG HOT WATER BOTTLE</td>\n",
       "      <td>6</td>\n",
       "      <td>12/1/2010 8:26</td>\n",
       "      <td>3.39</td>\n",
       "      <td>17850.0</td>\n",
       "      <td>United Kingdom</td>\n",
       "    </tr>\n",
       "    <tr>\n",
       "      <th>4</th>\n",
       "      <td>4</td>\n",
       "      <td>536365</td>\n",
       "      <td>84029E</td>\n",
       "      <td>RED WOOLLY HOTTIE WHITE HEART.</td>\n",
       "      <td>6</td>\n",
       "      <td>12/1/2010 8:26</td>\n",
       "      <td>3.39</td>\n",
       "      <td>17850.0</td>\n",
       "      <td>United Kingdom</td>\n",
       "    </tr>\n",
       "  </tbody>\n",
       "</table>\n",
       "</div>"
      ],
      "text/plain": [
       "   index InvoiceNo StockCode                          Description  Quantity  \\\n",
       "0      0    536365    85123A   WHITE HANGING HEART T-LIGHT HOLDER         6   \n",
       "1      1    536365     71053                  WHITE METAL LANTERN         6   \n",
       "2      2    536365    84406B       CREAM CUPID HEARTS COAT HANGER         8   \n",
       "3      3    536365    84029G  KNITTED UNION FLAG HOT WATER BOTTLE         6   \n",
       "4      4    536365    84029E       RED WOOLLY HOTTIE WHITE HEART.         6   \n",
       "\n",
       "      InvoiceDate  UnitPrice  CustomerID         Country  \n",
       "0  12/1/2010 8:26       2.55     17850.0  United Kingdom  \n",
       "1  12/1/2010 8:26       3.39     17850.0  United Kingdom  \n",
       "2  12/1/2010 8:26       2.75     17850.0  United Kingdom  \n",
       "3  12/1/2010 8:26       3.39     17850.0  United Kingdom  \n",
       "4  12/1/2010 8:26       3.39     17850.0  United Kingdom  "
      ]
     },
     "execution_count": 6,
     "metadata": {},
     "output_type": "execute_result"
    }
   ],
   "source": [
    "#import library and load the dataset\n",
    "import pandas as pd\n",
    "\n",
    "df = pd.read_csv(\"online_retail.csv\")\n",
    "df.head()"
   ]
  },
  {
   "cell_type": "code",
   "execution_count": 13,
   "id": "0408a755",
   "metadata": {},
   "outputs": [
    {
     "data": {
      "text/plain": [
       "(406829, 9)"
      ]
     },
     "execution_count": 13,
     "metadata": {},
     "output_type": "execute_result"
    }
   ],
   "source": [
    "#Check no.of rows and colunms\n",
    "df.shape"
   ]
  },
  {
   "cell_type": "code",
   "execution_count": 15,
   "id": "96370096",
   "metadata": {},
   "outputs": [
    {
     "data": {
      "text/plain": [
       "index            int64\n",
       "InvoiceNo       object\n",
       "StockCode       object\n",
       "Description     object\n",
       "Quantity         int64\n",
       "InvoiceDate     object\n",
       "UnitPrice      float64\n",
       "CustomerID     float64\n",
       "Country         object\n",
       "dtype: object"
      ]
     },
     "execution_count": 15,
     "metadata": {},
     "output_type": "execute_result"
    }
   ],
   "source": [
    "#Check the data types\n",
    "df.dtypes"
   ]
  },
  {
   "cell_type": "markdown",
   "id": "82dbfcb0",
   "metadata": {},
   "source": [
    "# Handling Missing Values, Duplicates, negative values and data types"
   ]
  },
  {
   "cell_type": "code",
   "execution_count": 7,
   "id": "54883a2e",
   "metadata": {},
   "outputs": [
    {
     "data": {
      "text/plain": [
       "index               0\n",
       "InvoiceNo           0\n",
       "StockCode           0\n",
       "Description      1454\n",
       "Quantity            0\n",
       "InvoiceDate         0\n",
       "UnitPrice           0\n",
       "CustomerID     135080\n",
       "Country             0\n",
       "dtype: int64"
      ]
     },
     "execution_count": 7,
     "metadata": {},
     "output_type": "execute_result"
    }
   ],
   "source": [
    "#check missing values\n",
    "df.isna().sum()"
   ]
  },
  {
   "cell_type": "code",
   "execution_count": 18,
   "id": "ce73afc0",
   "metadata": {},
   "outputs": [],
   "source": [
    "#replace the missing value with the Unknown but can create issues in the analysis of customer segmentation\n",
    "#df['CustomerID'] = df['CustomerID'].fillna('Unknown')"
   ]
  },
  {
   "cell_type": "code",
   "execution_count": null,
   "id": "b5cb8f43",
   "metadata": {},
   "outputs": [],
   "source": [
    "#Drop the customerID with missing values \n",
    "df = df.dropna(subset=['CustomerID'])\n"
   ]
  },
  {
   "cell_type": "code",
   "execution_count": 11,
   "id": "c18a2284",
   "metadata": {},
   "outputs": [],
   "source": [
    "#Fill missing description with unknown\n",
    "df['Description'] = df['Description'].fillna('Unknown')\n"
   ]
  },
  {
   "cell_type": "code",
   "execution_count": 16,
   "id": "2df4db42",
   "metadata": {},
   "outputs": [
    {
     "name": "stdout",
     "output_type": "stream",
     "text": [
      "index          0\n",
      "InvoiceNo      0\n",
      "StockCode      0\n",
      "Description    0\n",
      "Quantity       0\n",
      "InvoiceDate    0\n",
      "UnitPrice      0\n",
      "CustomerID     0\n",
      "Country        0\n",
      "dtype: int64\n"
     ]
    }
   ],
   "source": [
    "#Ensure no missing values are available in the dataset\n",
    "print(df.isnull().sum())  \n"
   ]
  },
  {
   "cell_type": "code",
   "execution_count": null,
   "id": "59039662",
   "metadata": {},
   "outputs": [
    {
     "data": {
      "text/plain": [
       "0"
      ]
     },
     "execution_count": 17,
     "metadata": {},
     "output_type": "execute_result"
    }
   ],
   "source": [
    "#Check duplicated rows\n",
    "df.duplicated().sum()\n"
   ]
  },
  {
   "cell_type": "code",
   "execution_count": null,
   "id": "446b8bf8",
   "metadata": {},
   "outputs": [],
   "source": [
    "# Remove negative values in quantity and prices colunm since those values cannot be negative \n",
    "df = df[(df['Quantity'] > 0) & (df['UnitPrice'] > 0)]"
   ]
  },
  {
   "cell_type": "code",
   "execution_count": 25,
   "id": "f85e82f1",
   "metadata": {},
   "outputs": [
    {
     "data": {
      "text/plain": [
       "index                   int64\n",
       "InvoiceNo              object\n",
       "StockCode              object\n",
       "Description            object\n",
       "Quantity                int64\n",
       "InvoiceDate    datetime64[ns]\n",
       "UnitPrice             float64\n",
       "CustomerID             object\n",
       "Country              category\n",
       "dtype: object"
      ]
     },
     "execution_count": 25,
     "metadata": {},
     "output_type": "execute_result"
    }
   ],
   "source": [
    "# Convert InvoiceNo and StockCode to string \n",
    "df['InvoiceNo'] = df['InvoiceNo'].astype(str)\n",
    "df['StockCode'] = df['StockCode'].astype(str)\n",
    "\n",
    "# Convert InvoiceDate to datetime format if we need to do time based analysis\n",
    "df['InvoiceDate'] = pd.to_datetime(df['InvoiceDate'])\n",
    "\n",
    "# Convert CustomerID to string \n",
    "df['CustomerID'] = df['CustomerID'].astype(str)\n",
    "\n",
    "# Convert Country to categorical type \n",
    "df['Country'] = df['Country'].astype('category')\n",
    "\n",
    "df.dtypes\n"
   ]
  },
  {
   "cell_type": "markdown",
   "id": "707af9ed",
   "metadata": {},
   "source": [
    "# Feature Engineering for analysis"
   ]
  },
  {
   "cell_type": "code",
   "execution_count": null,
   "id": "e9663ecf",
   "metadata": {},
   "outputs": [
    {
     "data": {
      "text/html": [
       "<div>\n",
       "<style scoped>\n",
       "    .dataframe tbody tr th:only-of-type {\n",
       "        vertical-align: middle;\n",
       "    }\n",
       "\n",
       "    .dataframe tbody tr th {\n",
       "        vertical-align: top;\n",
       "    }\n",
       "\n",
       "    .dataframe thead th {\n",
       "        text-align: right;\n",
       "    }\n",
       "</style>\n",
       "<table border=\"1\" class=\"dataframe\">\n",
       "  <thead>\n",
       "    <tr style=\"text-align: right;\">\n",
       "      <th></th>\n",
       "      <th>index</th>\n",
       "      <th>InvoiceNo</th>\n",
       "      <th>StockCode</th>\n",
       "      <th>Description</th>\n",
       "      <th>Quantity</th>\n",
       "      <th>InvoiceDate</th>\n",
       "      <th>UnitPrice</th>\n",
       "      <th>CustomerID</th>\n",
       "      <th>Country</th>\n",
       "      <th>TotalPrice</th>\n",
       "    </tr>\n",
       "  </thead>\n",
       "  <tbody>\n",
       "    <tr>\n",
       "      <th>0</th>\n",
       "      <td>0</td>\n",
       "      <td>536365</td>\n",
       "      <td>85123A</td>\n",
       "      <td>WHITE HANGING HEART T-LIGHT HOLDER</td>\n",
       "      <td>6</td>\n",
       "      <td>2010-12-01 08:26:00</td>\n",
       "      <td>2.55</td>\n",
       "      <td>17850.0</td>\n",
       "      <td>United Kingdom</td>\n",
       "      <td>15.30</td>\n",
       "    </tr>\n",
       "    <tr>\n",
       "      <th>1</th>\n",
       "      <td>1</td>\n",
       "      <td>536365</td>\n",
       "      <td>71053</td>\n",
       "      <td>WHITE METAL LANTERN</td>\n",
       "      <td>6</td>\n",
       "      <td>2010-12-01 08:26:00</td>\n",
       "      <td>3.39</td>\n",
       "      <td>17850.0</td>\n",
       "      <td>United Kingdom</td>\n",
       "      <td>20.34</td>\n",
       "    </tr>\n",
       "    <tr>\n",
       "      <th>2</th>\n",
       "      <td>2</td>\n",
       "      <td>536365</td>\n",
       "      <td>84406B</td>\n",
       "      <td>CREAM CUPID HEARTS COAT HANGER</td>\n",
       "      <td>8</td>\n",
       "      <td>2010-12-01 08:26:00</td>\n",
       "      <td>2.75</td>\n",
       "      <td>17850.0</td>\n",
       "      <td>United Kingdom</td>\n",
       "      <td>22.00</td>\n",
       "    </tr>\n",
       "    <tr>\n",
       "      <th>3</th>\n",
       "      <td>3</td>\n",
       "      <td>536365</td>\n",
       "      <td>84029G</td>\n",
       "      <td>KNITTED UNION FLAG HOT WATER BOTTLE</td>\n",
       "      <td>6</td>\n",
       "      <td>2010-12-01 08:26:00</td>\n",
       "      <td>3.39</td>\n",
       "      <td>17850.0</td>\n",
       "      <td>United Kingdom</td>\n",
       "      <td>20.34</td>\n",
       "    </tr>\n",
       "    <tr>\n",
       "      <th>4</th>\n",
       "      <td>4</td>\n",
       "      <td>536365</td>\n",
       "      <td>84029E</td>\n",
       "      <td>RED WOOLLY HOTTIE WHITE HEART.</td>\n",
       "      <td>6</td>\n",
       "      <td>2010-12-01 08:26:00</td>\n",
       "      <td>3.39</td>\n",
       "      <td>17850.0</td>\n",
       "      <td>United Kingdom</td>\n",
       "      <td>20.34</td>\n",
       "    </tr>\n",
       "  </tbody>\n",
       "</table>\n",
       "</div>"
      ],
      "text/plain": [
       "   index InvoiceNo StockCode                          Description  Quantity  \\\n",
       "0      0    536365    85123A   WHITE HANGING HEART T-LIGHT HOLDER         6   \n",
       "1      1    536365     71053                  WHITE METAL LANTERN         6   \n",
       "2      2    536365    84406B       CREAM CUPID HEARTS COAT HANGER         8   \n",
       "3      3    536365    84029G  KNITTED UNION FLAG HOT WATER BOTTLE         6   \n",
       "4      4    536365    84029E       RED WOOLLY HOTTIE WHITE HEART.         6   \n",
       "\n",
       "          InvoiceDate  UnitPrice CustomerID         Country  TotalPrice  \n",
       "0 2010-12-01 08:26:00       2.55    17850.0  United Kingdom       15.30  \n",
       "1 2010-12-01 08:26:00       3.39    17850.0  United Kingdom       20.34  \n",
       "2 2010-12-01 08:26:00       2.75    17850.0  United Kingdom       22.00  \n",
       "3 2010-12-01 08:26:00       3.39    17850.0  United Kingdom       20.34  \n",
       "4 2010-12-01 08:26:00       3.39    17850.0  United Kingdom       20.34  "
      ]
     },
     "execution_count": 35,
     "metadata": {},
     "output_type": "execute_result"
    }
   ],
   "source": [
    "# 01Create TotalPrice to get the revenue per transaction\n",
    "df['TotalPrice'] = df['Quantity'] * df['UnitPrice']\n",
    "df.head()"
   ]
  },
  {
   "cell_type": "code",
   "execution_count": 53,
   "id": "d223e19c",
   "metadata": {},
   "outputs": [
    {
     "name": "stdout",
     "output_type": "stream",
     "text": [
      "   Year  Month  Day  Weekday  Hour  IsWeekend\n",
      "0  2010     12    1        2     8          0\n",
      "1  2010     12    1        2     8          0\n",
      "2  2010     12    1        2     8          0\n",
      "3  2010     12    1        2     8          0\n",
      "4  2010     12    1        2     8          0\n"
     ]
    }
   ],
   "source": [
    "#02Create additional columns by categorizing the Date for the analysis of seasonal trends\n",
    "\n",
    "# categorize date components into year, month, day, weekday,working hour and weekend\n",
    "df['Year'] = df['InvoiceDate'].dt.year\n",
    "df['Month'] = df['InvoiceDate'].dt.month\n",
    "df['Day'] = df['InvoiceDate'].dt.day\n",
    "df['Weekday'] = df['InvoiceDate'].dt.weekday  # Monday = 0, Sunday = 6\n",
    "df['Hour'] = df['InvoiceDate'].dt.hour\n",
    "\n",
    "# Create a feature for working hours \n",
    "df['IsWorkingHour'] = df['Hour'].apply(lambda x: 1 if 9 <= x <= 18 else 0)\n",
    "\n",
    "# Check if the purchase was made on a weekend\n",
    "df['IsWeekend'] = df['Weekday'].apply(lambda x: 1 if x >= 5 else 0)\n",
    "\n",
    "#Display created columns\n",
    "print(df[['Year', 'Month', 'Day', 'Weekday', 'Hour', 'IsWeekend']].head())"
   ]
  },
  {
   "cell_type": "code",
   "execution_count": null,
   "id": "d55fa8fe",
   "metadata": {},
   "outputs": [
    {
     "name": "stdout",
     "output_type": "stream",
     "text": [
      "   CustomerID         InvoiceDate  Recency\n",
      "0     17850.0 2010-12-01 08:26:00      371\n",
      "9     13047.0 2010-12-01 08:34:00       31\n",
      "26    12583.0 2010-12-01 08:45:00        2\n",
      "46    13748.0 2010-12-01 09:00:00       95\n",
      "65    15100.0 2010-12-01 09:09:00      333\n",
      "       CustomerID  Recency\n",
      "18115     18061.0       21\n",
      "181300    14699.0      213\n",
      "488328    16956.0       17\n",
      "200241    15705.0      200\n",
      "368916    13364.0       70\n"
     ]
    }
   ],
   "source": [
    "#03Customer recency\n",
    "import datetime\n",
    "latest_date = df['InvoiceDate'].max()  # Get last transaction date\n",
    "df['Recency'] = df.groupby('CustomerID')['InvoiceDate'].transform(lambda x: (latest_date - x.max()).days)\n",
    "\n",
    "#print 5 rows of customer recency by ensuring one row per customerID\n",
    "print(df[['CustomerID', 'InvoiceDate', 'Recency']].drop_duplicates(subset=['CustomerID']).head(5))\n",
    "\n",
    "#print a random customer's recency\n",
    "print(df[['CustomerID', 'Recency']].drop_duplicates().sample(5))\n"
   ]
  },
  {
   "cell_type": "code",
   "execution_count": null,
   "id": "8b116049",
   "metadata": {},
   "outputs": [
    {
     "name": "stdout",
     "output_type": "stream",
     "text": [
      "  CustomerID  TotalPrice\n",
      "0    12346.0    77183.60\n",
      "1    12347.0     4310.00\n",
      "2    12348.0     1797.24\n",
      "3    12349.0     1757.55\n",
      "4    12350.0      334.40\n",
      "  CustomerID  InvoiceNo\n",
      "0    12346.0          1\n",
      "1    12347.0          7\n",
      "2    12348.0          4\n",
      "3    12349.0          1\n",
      "4    12350.0          1\n",
      "  CustomerID    TotalPrice\n",
      "0    12346.0  77183.600000\n",
      "1    12347.0     23.681319\n",
      "2    12348.0     57.975484\n",
      "3    12349.0     24.076027\n",
      "4    12350.0     19.670588\n"
     ]
    }
   ],
   "source": [
    "#04Create customer-based aggregations to find the total spend, total number of purchases and average order value per customer\n",
    "\n",
    "\n",
    "# Total spend per customer\n",
    "customer_spending = df.groupby('CustomerID')['TotalPrice'].sum().reset_index()\n",
    "\n",
    "# Total number of purchases per customer\n",
    "customer_frequency = df.groupby('CustomerID')['InvoiceNo'].nunique().reset_index()\n",
    "\n",
    "# Average order value per customer\n",
    "customer_avg_order = df.groupby('CustomerID')['TotalPrice'].mean().reset_index()\n",
    "\n",
    "print(customer_spending.head())\n",
    "print(customer_frequency.head())\n",
    "print(customer_avg_order.head())"
   ]
  },
  {
   "cell_type": "code",
   "execution_count": null,
   "id": "cbfd677e",
   "metadata": {},
   "outputs": [
    {
     "name": "stdout",
     "output_type": "stream",
     "text": [
      "                             Description  Quantity\n",
      "2319         PAPER CRAFT , LITTLE BIRDIE     80995\n",
      "1992      MEDIUM CERAMIC TOP STORAGE JAR     77916\n",
      "3786   WORLD WAR 2 GLIDERS ASSTD DESIGNS     54415\n",
      "1762             JUMBO BAG RED RETROSPOT     46181\n",
      "3698  WHITE HANGING HEART T-LIGHT HOLDER     36725\n",
      "216        ASSORTED COLOUR BIRD ORNAMENT     35362\n",
      "2269     PACK OF 72 RETROSPOT CAKE CASES     33693\n",
      "2600                      POPCORN HOLDER     30931\n",
      "2656                  RABBIT NIGHT LIGHT     27202\n",
      "2047             MINI PAINT SET VINTAGE      26076\n"
     ]
    }
   ],
   "source": [
    "#05Find the popular product based on the purchase quantity grouping by description\n",
    "\n",
    "# Aggregate total quantity sold per product (grouping by Description)\n",
    "popular_products = df.groupby('Description')['Quantity'].sum().reset_index()\n",
    "\n",
    "# Sort by most sold products\n",
    "popular_products = popular_products.sort_values(by='Quantity', ascending=False)\n",
    "\n",
    "# Add a flag for popular products (Top 100)\n",
    "df['IsPopularProduct'] = df['Description'].apply(lambda x: 1 if x in popular_products['Description'][:100].values else 0)\n",
    "\n",
    "# Display top products\n",
    "print(popular_products.head(10))"
   ]
  },
  {
   "cell_type": "markdown",
   "id": "d0cf4e64",
   "metadata": {},
   "source": [
    "# Exploratory Data Analysis"
   ]
  },
  {
   "cell_type": "code",
   "execution_count": null,
   "id": "c4a2cc01",
   "metadata": {},
   "outputs": [
    {
     "data": {
      "text/html": [
       "<div>\n",
       "<style scoped>\n",
       "    .dataframe tbody tr th:only-of-type {\n",
       "        vertical-align: middle;\n",
       "    }\n",
       "\n",
       "    .dataframe tbody tr th {\n",
       "        vertical-align: top;\n",
       "    }\n",
       "\n",
       "    .dataframe thead th {\n",
       "        text-align: right;\n",
       "    }\n",
       "</style>\n",
       "<table border=\"1\" class=\"dataframe\">\n",
       "  <thead>\n",
       "    <tr style=\"text-align: right;\">\n",
       "      <th></th>\n",
       "      <th>index</th>\n",
       "      <th>Quantity</th>\n",
       "      <th>InvoiceDate</th>\n",
       "      <th>UnitPrice</th>\n",
       "      <th>TotalPrice</th>\n",
       "      <th>Year</th>\n",
       "      <th>Month</th>\n",
       "      <th>Day</th>\n",
       "      <th>Weekday</th>\n",
       "      <th>Hour</th>\n",
       "      <th>IsWorkingHour</th>\n",
       "      <th>IsWeekend</th>\n",
       "      <th>IsPopularProduct</th>\n",
       "    </tr>\n",
       "  </thead>\n",
       "  <tbody>\n",
       "    <tr>\n",
       "      <th>count</th>\n",
       "      <td>397884.000000</td>\n",
       "      <td>397884.000000</td>\n",
       "      <td>397884</td>\n",
       "      <td>397884.000000</td>\n",
       "      <td>397884.000000</td>\n",
       "      <td>397884.000000</td>\n",
       "      <td>397884.000000</td>\n",
       "      <td>397884.000000</td>\n",
       "      <td>397884.000000</td>\n",
       "      <td>397884.000000</td>\n",
       "      <td>397884.000000</td>\n",
       "      <td>397884.000000</td>\n",
       "      <td>397884.000000</td>\n",
       "    </tr>\n",
       "    <tr>\n",
       "      <th>mean</th>\n",
       "      <td>278462.993893</td>\n",
       "      <td>12.988238</td>\n",
       "      <td>2011-07-10 23:41:23.511023360</td>\n",
       "      <td>3.116488</td>\n",
       "      <td>22.397000</td>\n",
       "      <td>2010.934260</td>\n",
       "      <td>7.612475</td>\n",
       "      <td>15.042186</td>\n",
       "      <td>2.614546</td>\n",
       "      <td>12.728202</td>\n",
       "      <td>0.966842</td>\n",
       "      <td>0.157767</td>\n",
       "      <td>0.154671</td>\n",
       "    </tr>\n",
       "    <tr>\n",
       "      <th>min</th>\n",
       "      <td>0.000000</td>\n",
       "      <td>1.000000</td>\n",
       "      <td>2010-12-01 08:26:00</td>\n",
       "      <td>0.001000</td>\n",
       "      <td>0.001000</td>\n",
       "      <td>2010.000000</td>\n",
       "      <td>1.000000</td>\n",
       "      <td>1.000000</td>\n",
       "      <td>0.000000</td>\n",
       "      <td>6.000000</td>\n",
       "      <td>0.000000</td>\n",
       "      <td>0.000000</td>\n",
       "      <td>0.000000</td>\n",
       "    </tr>\n",
       "    <tr>\n",
       "      <th>25%</th>\n",
       "      <td>148333.750000</td>\n",
       "      <td>2.000000</td>\n",
       "      <td>2011-04-07 11:12:00</td>\n",
       "      <td>1.250000</td>\n",
       "      <td>4.680000</td>\n",
       "      <td>2011.000000</td>\n",
       "      <td>5.000000</td>\n",
       "      <td>7.000000</td>\n",
       "      <td>1.000000</td>\n",
       "      <td>11.000000</td>\n",
       "      <td>1.000000</td>\n",
       "      <td>0.000000</td>\n",
       "      <td>0.000000</td>\n",
       "    </tr>\n",
       "    <tr>\n",
       "      <th>50%</th>\n",
       "      <td>284902.500000</td>\n",
       "      <td>6.000000</td>\n",
       "      <td>2011-07-31 14:39:00</td>\n",
       "      <td>1.950000</td>\n",
       "      <td>11.800000</td>\n",
       "      <td>2011.000000</td>\n",
       "      <td>8.000000</td>\n",
       "      <td>15.000000</td>\n",
       "      <td>2.000000</td>\n",
       "      <td>13.000000</td>\n",
       "      <td>1.000000</td>\n",
       "      <td>0.000000</td>\n",
       "      <td>0.000000</td>\n",
       "    </tr>\n",
       "    <tr>\n",
       "      <th>75%</th>\n",
       "      <td>410074.250000</td>\n",
       "      <td>12.000000</td>\n",
       "      <td>2011-10-20 14:33:00</td>\n",
       "      <td>3.750000</td>\n",
       "      <td>19.800000</td>\n",
       "      <td>2011.000000</td>\n",
       "      <td>11.000000</td>\n",
       "      <td>22.000000</td>\n",
       "      <td>4.000000</td>\n",
       "      <td>14.000000</td>\n",
       "      <td>1.000000</td>\n",
       "      <td>0.000000</td>\n",
       "      <td>0.000000</td>\n",
       "    </tr>\n",
       "    <tr>\n",
       "      <th>max</th>\n",
       "      <td>541908.000000</td>\n",
       "      <td>80995.000000</td>\n",
       "      <td>2011-12-09 12:50:00</td>\n",
       "      <td>8142.750000</td>\n",
       "      <td>168469.600000</td>\n",
       "      <td>2011.000000</td>\n",
       "      <td>12.000000</td>\n",
       "      <td>31.000000</td>\n",
       "      <td>6.000000</td>\n",
       "      <td>20.000000</td>\n",
       "      <td>1.000000</td>\n",
       "      <td>1.000000</td>\n",
       "      <td>1.000000</td>\n",
       "    </tr>\n",
       "    <tr>\n",
       "      <th>std</th>\n",
       "      <td>152770.852038</td>\n",
       "      <td>179.331775</td>\n",
       "      <td>NaN</td>\n",
       "      <td>22.097877</td>\n",
       "      <td>309.071041</td>\n",
       "      <td>0.247828</td>\n",
       "      <td>3.416520</td>\n",
       "      <td>8.653746</td>\n",
       "      <td>1.928310</td>\n",
       "      <td>2.273519</td>\n",
       "      <td>0.179049</td>\n",
       "      <td>0.364523</td>\n",
       "      <td>0.361591</td>\n",
       "    </tr>\n",
       "  </tbody>\n",
       "</table>\n",
       "</div>"
      ],
      "text/plain": [
       "               index       Quantity                    InvoiceDate  \\\n",
       "count  397884.000000  397884.000000                         397884   \n",
       "mean   278462.993893      12.988238  2011-07-10 23:41:23.511023360   \n",
       "min         0.000000       1.000000            2010-12-01 08:26:00   \n",
       "25%    148333.750000       2.000000            2011-04-07 11:12:00   \n",
       "50%    284902.500000       6.000000            2011-07-31 14:39:00   \n",
       "75%    410074.250000      12.000000            2011-10-20 14:33:00   \n",
       "max    541908.000000   80995.000000            2011-12-09 12:50:00   \n",
       "std    152770.852038     179.331775                            NaN   \n",
       "\n",
       "           UnitPrice     TotalPrice           Year          Month  \\\n",
       "count  397884.000000  397884.000000  397884.000000  397884.000000   \n",
       "mean        3.116488      22.397000    2010.934260       7.612475   \n",
       "min         0.001000       0.001000    2010.000000       1.000000   \n",
       "25%         1.250000       4.680000    2011.000000       5.000000   \n",
       "50%         1.950000      11.800000    2011.000000       8.000000   \n",
       "75%         3.750000      19.800000    2011.000000      11.000000   \n",
       "max      8142.750000  168469.600000    2011.000000      12.000000   \n",
       "std        22.097877     309.071041       0.247828       3.416520   \n",
       "\n",
       "                 Day        Weekday           Hour  IsWorkingHour  \\\n",
       "count  397884.000000  397884.000000  397884.000000  397884.000000   \n",
       "mean       15.042186       2.614546      12.728202       0.966842   \n",
       "min         1.000000       0.000000       6.000000       0.000000   \n",
       "25%         7.000000       1.000000      11.000000       1.000000   \n",
       "50%        15.000000       2.000000      13.000000       1.000000   \n",
       "75%        22.000000       4.000000      14.000000       1.000000   \n",
       "max        31.000000       6.000000      20.000000       1.000000   \n",
       "std         8.653746       1.928310       2.273519       0.179049   \n",
       "\n",
       "           IsWeekend  IsPopularProduct  \n",
       "count  397884.000000     397884.000000  \n",
       "mean        0.157767          0.154671  \n",
       "min         0.000000          0.000000  \n",
       "25%         0.000000          0.000000  \n",
       "50%         0.000000          0.000000  \n",
       "75%         0.000000          0.000000  \n",
       "max         1.000000          1.000000  \n",
       "std         0.364523          0.361591  "
      ]
     },
     "execution_count": 46,
     "metadata": {},
     "output_type": "execute_result"
    }
   ],
   "source": [
    "#get summary statistics of dataset\n",
    "df.describe()"
   ]
  },
  {
   "cell_type": "code",
   "execution_count": 55,
   "id": "9a452b91",
   "metadata": {},
   "outputs": [
    {
     "data": {
      "image/png": "[encoded data removed]",
      "text/plain": [
       "<Figure size 800x400 with 1 Axes>"
      ]
     },
     "metadata": {},
     "output_type": "display_data"
    }
   ],
   "source": [
    "#Monthly sales analysis\n",
    "\n",
    "import matplotlib.pyplot as plt\n",
    "import seaborn as sns\n",
    "\n",
    "monthly_sales = df.groupby(['Year', 'Month'])['TotalPrice'].sum().reset_index()\n",
    "\n",
    "plt.figure(figsize=(8,4))\n",
    "sns.lineplot(data=monthly_sales, x='Month', y='TotalPrice', hue='Year', marker='o')\n",
    "plt.title('Monthly Sales Trend')\n",
    "plt.xlabel('Month')\n",
    "plt.ylabel('Total Sales')\n",
    "plt.grid()\n",
    "plt.show()\n"
   ]
  },
  {
   "cell_type": "code",
   "execution_count": 56,
   "id": "53bedaa7",
   "metadata": {},
   "outputs": [
    {
     "name": "stderr",
     "output_type": "stream",
     "text": [
      "C:\\Users\\User\\AppData\\Local\\Temp\\ipykernel_11316\\126377677.py:12: FutureWarning: \n",
      "\n",
      "Passing `palette` without assigning `hue` is deprecated and will be removed in v0.14.0. Assign the `y` variable to `hue` and set `legend=False` for the same effect.\n",
      "\n",
      "  sns.barplot(x='Quantity', y='Description', data=top_10_products, palette='viridis')\n"
     ]
    },
    {
     "data": {
      "image/png": "[encoded data removed]",
      "text/plain": [
       "<Figure size 1200x600 with 1 Axes>"
      ]
     },
     "metadata": {},
     "output_type": "display_data"
    }
   ],
   "source": [
    "import matplotlib.pyplot as plt\n",
    "import seaborn as sns\n",
    "\n",
    "# Aggregate total quantity sold per product\n",
    "popular_products = df.groupby('Description')['Quantity'].sum().reset_index()\n",
    "\n",
    "# Sort by highest quantity and take the top 10\n",
    "top_10_products = popular_products.sort_values(by='Quantity', ascending=False).head(10)\n",
    "\n",
    "# Plot bar chart\n",
    "plt.figure(figsize=(12, 6))\n",
    "sns.barplot(x='Quantity', y='Description', data=top_10_products, palette='viridis')\n",
    "\n",
    "# Add labels and title\n",
    "plt.xlabel('Total Quantity Sold')\n",
    "plt.ylabel('Product Description')\n",
    "plt.title('Top 10 Popular Products by Quantity')\n",
    "plt.show()\n"
   ]
  },
  {
   "cell_type": "code",
   "execution_count": null,
   "id": "3fec82d4",
   "metadata": {},
   "outputs": [],
   "source": []
  }
 ],
 "metadata": {
  "kernelspec": {
   "display_name": "base",
   "language": "python",
   "name": "python3"
  },
  "language_info": {
   "codemirror_mode": {
    "name": "ipython",
    "version": 3
   },
   "file_extension": ".py",
   "mimetype": "text/x-python",
   "name": "python",
   "nbconvert_exporter": "python",
   "pygments_lexer": "ipython3",
   "version": "3.12.7"
  }
 },
 "nbformat": 4,
 "nbformat_minor": 5
}
