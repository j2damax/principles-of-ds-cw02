{
 "cells": [
  {
   "cell_type": "markdown",
   "id": "a5ab66b4",
   "metadata": {},
   "source": [
    "Loading and understanding the Data structure"
   ]
  },
  {
   "cell_type": "code",
   "execution_count": 2,
   "id": "370db7a6-30e8-4ca8-a672-09e678684919",
   "metadata": {},
   "outputs": [
    {
     "data": {
      "text/html": [
       "<div>\n",
       "<style scoped>\n",
       "    .dataframe tbody tr th:only-of-type {\n",
       "        vertical-align: middle;\n",
       "    }\n",
       "\n",
       "    .dataframe tbody tr th {\n",
       "        vertical-align: top;\n",
       "    }\n",
       "\n",
       "    .dataframe thead th {\n",
       "        text-align: right;\n",
       "    }\n",
       "</style>\n",
       "<table border=\"1\" class=\"dataframe\">\n",
       "  <thead>\n",
       "    <tr style=\"text-align: right;\">\n",
       "      <th></th>\n",
       "      <th>index</th>\n",
       "      <th>InvoiceNo</th>\n",
       "      <th>StockCode</th>\n",
       "      <th>Description</th>\n",
       "      <th>Quantity</th>\n",
       "      <th>InvoiceDate</th>\n",
       "      <th>UnitPrice</th>\n",
       "      <th>CustomerID</th>\n",
       "      <th>Country</th>\n",
       "    </tr>\n",
       "  </thead>\n",
       "  <tbody>\n",
       "    <tr>\n",
       "      <th>0</th>\n",
       "      <td>0</td>\n",
       "      <td>536365</td>\n",
       "      <td>85123A</td>\n",
       "      <td>WHITE HANGING HEART T-LIGHT HOLDER</td>\n",
       "      <td>6</td>\n",
       "      <td>12/1/2010 8:26</td>\n",
       "      <td>2.55</td>\n",
       "      <td>17850.0</td>\n",
       "      <td>United Kingdom</td>\n",
       "    </tr>\n",
       "    <tr>\n",
       "      <th>1</th>\n",
       "      <td>1</td>\n",
       "      <td>536365</td>\n",
       "      <td>71053</td>\n",
       "      <td>WHITE METAL LANTERN</td>\n",
       "      <td>6</td>\n",
       "      <td>12/1/2010 8:26</td>\n",
       "      <td>3.39</td>\n",
       "      <td>17850.0</td>\n",
       "      <td>United Kingdom</td>\n",
       "    </tr>\n",
       "    <tr>\n",
       "      <th>2</th>\n",
       "      <td>2</td>\n",
       "      <td>536365</td>\n",
       "      <td>84406B</td>\n",
       "      <td>CREAM CUPID HEARTS COAT HANGER</td>\n",
       "      <td>8</td>\n",
       "      <td>12/1/2010 8:26</td>\n",
       "      <td>2.75</td>\n",
       "      <td>17850.0</td>\n",
       "      <td>United Kingdom</td>\n",
       "    </tr>\n",
       "    <tr>\n",
       "      <th>3</th>\n",
       "      <td>3</td>\n",
       "      <td>536365</td>\n",
       "      <td>84029G</td>\n",
       "      <td>KNITTED UNION FLAG HOT WATER BOTTLE</td>\n",
       "      <td>6</td>\n",
       "      <td>12/1/2010 8:26</td>\n",
       "      <td>3.39</td>\n",
       "      <td>17850.0</td>\n",
       "      <td>United Kingdom</td>\n",
       "    </tr>\n",
       "    <tr>\n",
       "      <th>4</th>\n",
       "      <td>4</td>\n",
       "      <td>536365</td>\n",
       "      <td>84029E</td>\n",
       "      <td>RED WOOLLY HOTTIE WHITE HEART.</td>\n",
       "      <td>6</td>\n",
       "      <td>12/1/2010 8:26</td>\n",
       "      <td>3.39</td>\n",
       "      <td>17850.0</td>\n",
       "      <td>United Kingdom</td>\n",
       "    </tr>\n",
       "  </tbody>\n",
       "</table>\n",
       "</div>"
      ],
      "text/plain": [
       "   index InvoiceNo StockCode                          Description  Quantity  \\\n",
       "0      0    536365    85123A   WHITE HANGING HEART T-LIGHT HOLDER         6   \n",
       "1      1    536365     71053                  WHITE METAL LANTERN         6   \n",
       "2      2    536365    84406B       CREAM CUPID HEARTS COAT HANGER         8   \n",
       "3      3    536365    84029G  KNITTED UNION FLAG HOT WATER BOTTLE         6   \n",
       "4      4    536365    84029E       RED WOOLLY HOTTIE WHITE HEART.         6   \n",
       "\n",
       "      InvoiceDate  UnitPrice  CustomerID         Country  \n",
       "0  12/1/2010 8:26       2.55     17850.0  United Kingdom  \n",
       "1  12/1/2010 8:26       3.39     17850.0  United Kingdom  \n",
       "2  12/1/2010 8:26       2.75     17850.0  United Kingdom  \n",
       "3  12/1/2010 8:26       3.39     17850.0  United Kingdom  \n",
       "4  12/1/2010 8:26       3.39     17850.0  United Kingdom  "
      ]
     },
     "execution_count": 2,
     "metadata": {},
     "output_type": "execute_result"
    }
   ],
   "source": [
    "#import library and load the dataset\n",
    "import pandas as pd\n",
    "\n",
    "file_path = r\"C:\\Users\\User\\Documents\\My Documents\\CW2 Group\\online_retail.csv\"\n",
    "\n",
    "df = pd.read_csv(file_path)\n",
    "df.head()"
   ]
  },
  {
   "cell_type": "code",
   "execution_count": 3,
   "id": "0408a755",
   "metadata": {},
   "outputs": [
    {
     "data": {
      "text/plain": [
       "(541909, 9)"
      ]
     },
     "execution_count": 3,
     "metadata": {},
     "output_type": "execute_result"
    }
   ],
   "source": [
    "#Check no.of rows and colunms\n",
    "df.shape"
   ]
  },
  {
   "cell_type": "code",
   "execution_count": 4,
   "id": "96370096",
   "metadata": {},
   "outputs": [
    {
     "data": {
      "text/plain": [
       "index            int64\n",
       "InvoiceNo       object\n",
       "StockCode       object\n",
       "Description     object\n",
       "Quantity         int64\n",
       "InvoiceDate     object\n",
       "UnitPrice      float64\n",
       "CustomerID     float64\n",
       "Country         object\n",
       "dtype: object"
      ]
     },
     "execution_count": 4,
     "metadata": {},
     "output_type": "execute_result"
    }
   ],
   "source": [
    "#Check the data types\n",
    "df.dtypes"
   ]
  },
  {
   "cell_type": "markdown",
   "id": "82dbfcb0",
   "metadata": {},
   "source": [
    "# Exploratory Data Analysis"
   ]
  },
  {
   "cell_type": "code",
   "execution_count": 5,
   "id": "54883a2e",
   "metadata": {},
   "outputs": [
    {
     "data": {
      "text/plain": [
       "index               0\n",
       "InvoiceNo           0\n",
       "StockCode           0\n",
       "Description      1454\n",
       "Quantity            0\n",
       "InvoiceDate         0\n",
       "UnitPrice           0\n",
       "CustomerID     135080\n",
       "Country             0\n",
       "dtype: int64"
      ]
     },
     "execution_count": 5,
     "metadata": {},
     "output_type": "execute_result"
    }
   ],
   "source": [
    "#check missing values\n",
    "df.isna().sum()"
   ]
  },
  {
   "cell_type": "code",
   "execution_count": 6,
   "id": "ce73afc0",
   "metadata": {},
   "outputs": [],
   "source": [
    "#replace the missing value with the Unknown but can create issues in the analysis of customer segmentation\n",
    "#df['CustomerID'] = df['CustomerID'].fillna('Unknown')"
   ]
  },
  {
   "cell_type": "code",
   "execution_count": 7,
   "id": "b5cb8f43",
   "metadata": {},
   "outputs": [],
   "source": [
    "#Drop the customerID with missing values \n",
    "df = df.dropna(subset=['CustomerID'])\n"
   ]
  },
  {
   "cell_type": "code",
   "execution_count": 8,
   "id": "c18a2284",
   "metadata": {},
   "outputs": [],
   "source": [
    "#Fill missing description with unknown\n",
    "df['Description'] = df['Description'].fillna('Unknown')\n"
   ]
  },
  {
   "cell_type": "code",
   "execution_count": 9,
   "id": "2df4db42",
   "metadata": {},
   "outputs": [
    {
     "name": "stdout",
     "output_type": "stream",
     "text": [
      "index          0\n",
      "InvoiceNo      0\n",
      "StockCode      0\n",
      "Description    0\n",
      "Quantity       0\n",
      "InvoiceDate    0\n",
      "UnitPrice      0\n",
      "CustomerID     0\n",
      "Country        0\n",
      "dtype: int64\n"
     ]
    }
   ],
   "source": [
    "#Ensure no missing values are available in the dataset\n",
    "print(df.isnull().sum())  \n"
   ]
  },
  {
   "cell_type": "code",
   "execution_count": 10,
   "id": "59039662",
   "metadata": {},
   "outputs": [
    {
     "name": "stdout",
     "output_type": "stream",
     "text": [
      "No of duplicated rows: 0\n"
     ]
    }
   ],
   "source": [
    "#Check duplicated rows\n",
    "duplicated_rows=df.duplicated().sum()\n",
    "print(\"No of duplicated rows:\",duplicated_rows )\n"
   ]
  },
  {
   "cell_type": "code",
   "execution_count": 11,
   "id": "446b8bf8",
   "metadata": {},
   "outputs": [
    {
     "name": "stdout",
     "output_type": "stream",
     "text": [
      "No of negative quanity:  8905\n",
      "No of negative unit price:  40\n"
     ]
    }
   ],
   "source": [
    "#Find negative values\n",
    "print(\"No of negative quanity: \", df[df[\"Quantity\"] <= 0].shape[0])\n",
    "print(\"No of negative unit price: \", df[df[\"UnitPrice\"] <= 0].shape[0])"
   ]
  },
  {
   "cell_type": "code",
   "execution_count": 12,
   "id": "ed27e927",
   "metadata": {},
   "outputs": [],
   "source": [
    "#Removing neagtive value of Quanity \n",
    "df = df[df['Quantity'] > 0]"
   ]
  },
  {
   "cell_type": "code",
   "execution_count": 13,
   "id": "0b259842",
   "metadata": {},
   "outputs": [],
   "source": [
    "#Removing neagtive value of Quanity \n",
    "df = df[df['UnitPrice'] > 0]"
   ]
  },
  {
   "cell_type": "code",
   "execution_count": 14,
   "id": "1007118d",
   "metadata": {},
   "outputs": [
    {
     "name": "stdout",
     "output_type": "stream",
     "text": [
      "No of negative quanity:  0\n",
      "No of negative unit price:  0\n"
     ]
    }
   ],
   "source": [
    "# Ensure there's no negative values for quantity and unitprice\n",
    "print(\"No of negative quanity: \", df[df[\"Quantity\"] <= 0].shape[0])\n",
    "print(\"No of negative unit price: \", df[df[\"UnitPrice\"] <= 0].shape[0])"
   ]
  },
  {
   "cell_type": "code",
   "execution_count": 15,
   "id": "f85e82f1",
   "metadata": {},
   "outputs": [
    {
     "data": {
      "text/plain": [
       "index                  object\n",
       "InvoiceNo              object\n",
       "StockCode              object\n",
       "Description            object\n",
       "Quantity                int64\n",
       "InvoiceDate    datetime64[ns]\n",
       "UnitPrice             float64\n",
       "CustomerID             object\n",
       "Country              category\n",
       "dtype: object"
      ]
     },
     "execution_count": 15,
     "metadata": {},
     "output_type": "execute_result"
    }
   ],
   "source": [
    "# Convert InvoiceNo and StockCode to string \n",
    "df['InvoiceNo'] = df['InvoiceNo'].astype(str)\n",
    "df['StockCode'] = df['StockCode'].astype(str)\n",
    "\n",
    "# Convert InvoiceDate to datetime format if we need to do time based analysis\n",
    "df['InvoiceDate'] = pd.to_datetime(df['InvoiceDate'])\n",
    "\n",
    "# Convert CustomerID to string \n",
    "df['CustomerID'] = df['CustomerID'].astype(str)\n",
    "\n",
    "# Convert Country to categorical type \n",
    "df['Country'] = df['Country'].astype('category')\n",
    "\n",
    "#Convert index to string type\n",
    "df['index'] = df['index'].astype(str)  \n",
    "\n",
    "df.dtypes\n"
   ]
  },
  {
   "cell_type": "code",
   "execution_count": 16,
   "id": "e9663ecf",
   "metadata": {},
   "outputs": [
    {
     "data": {
      "text/html": [
       "<div>\n",
       "<style scoped>\n",
       "    .dataframe tbody tr th:only-of-type {\n",
       "        vertical-align: middle;\n",
       "    }\n",
       "\n",
       "    .dataframe tbody tr th {\n",
       "        vertical-align: top;\n",
       "    }\n",
       "\n",
       "    .dataframe thead th {\n",
       "        text-align: right;\n",
       "    }\n",
       "</style>\n",
       "<table border=\"1\" class=\"dataframe\">\n",
       "  <thead>\n",
       "    <tr style=\"text-align: right;\">\n",
       "      <th></th>\n",
       "      <th>index</th>\n",
       "      <th>InvoiceNo</th>\n",
       "      <th>StockCode</th>\n",
       "      <th>Description</th>\n",
       "      <th>Quantity</th>\n",
       "      <th>InvoiceDate</th>\n",
       "      <th>UnitPrice</th>\n",
       "      <th>CustomerID</th>\n",
       "      <th>Country</th>\n",
       "      <th>TotalPrice</th>\n",
       "    </tr>\n",
       "  </thead>\n",
       "  <tbody>\n",
       "    <tr>\n",
       "      <th>0</th>\n",
       "      <td>0</td>\n",
       "      <td>536365</td>\n",
       "      <td>85123A</td>\n",
       "      <td>WHITE HANGING HEART T-LIGHT HOLDER</td>\n",
       "      <td>6</td>\n",
       "      <td>2010-12-01 08:26:00</td>\n",
       "      <td>2.55</td>\n",
       "      <td>17850.0</td>\n",
       "      <td>United Kingdom</td>\n",
       "      <td>15.30</td>\n",
       "    </tr>\n",
       "    <tr>\n",
       "      <th>1</th>\n",
       "      <td>1</td>\n",
       "      <td>536365</td>\n",
       "      <td>71053</td>\n",
       "      <td>WHITE METAL LANTERN</td>\n",
       "      <td>6</td>\n",
       "      <td>2010-12-01 08:26:00</td>\n",
       "      <td>3.39</td>\n",
       "      <td>17850.0</td>\n",
       "      <td>United Kingdom</td>\n",
       "      <td>20.34</td>\n",
       "    </tr>\n",
       "    <tr>\n",
       "      <th>2</th>\n",
       "      <td>2</td>\n",
       "      <td>536365</td>\n",
       "      <td>84406B</td>\n",
       "      <td>CREAM CUPID HEARTS COAT HANGER</td>\n",
       "      <td>8</td>\n",
       "      <td>2010-12-01 08:26:00</td>\n",
       "      <td>2.75</td>\n",
       "      <td>17850.0</td>\n",
       "      <td>United Kingdom</td>\n",
       "      <td>22.00</td>\n",
       "    </tr>\n",
       "    <tr>\n",
       "      <th>3</th>\n",
       "      <td>3</td>\n",
       "      <td>536365</td>\n",
       "      <td>84029G</td>\n",
       "      <td>KNITTED UNION FLAG HOT WATER BOTTLE</td>\n",
       "      <td>6</td>\n",
       "      <td>2010-12-01 08:26:00</td>\n",
       "      <td>3.39</td>\n",
       "      <td>17850.0</td>\n",
       "      <td>United Kingdom</td>\n",
       "      <td>20.34</td>\n",
       "    </tr>\n",
       "    <tr>\n",
       "      <th>4</th>\n",
       "      <td>4</td>\n",
       "      <td>536365</td>\n",
       "      <td>84029E</td>\n",
       "      <td>RED WOOLLY HOTTIE WHITE HEART.</td>\n",
       "      <td>6</td>\n",
       "      <td>2010-12-01 08:26:00</td>\n",
       "      <td>3.39</td>\n",
       "      <td>17850.0</td>\n",
       "      <td>United Kingdom</td>\n",
       "      <td>20.34</td>\n",
       "    </tr>\n",
       "  </tbody>\n",
       "</table>\n",
       "</div>"
      ],
      "text/plain": [
       "  index InvoiceNo StockCode                          Description  Quantity  \\\n",
       "0     0    536365    85123A   WHITE HANGING HEART T-LIGHT HOLDER         6   \n",
       "1     1    536365     71053                  WHITE METAL LANTERN         6   \n",
       "2     2    536365    84406B       CREAM CUPID HEARTS COAT HANGER         8   \n",
       "3     3    536365    84029G  KNITTED UNION FLAG HOT WATER BOTTLE         6   \n",
       "4     4    536365    84029E       RED WOOLLY HOTTIE WHITE HEART.         6   \n",
       "\n",
       "          InvoiceDate  UnitPrice CustomerID         Country  TotalPrice  \n",
       "0 2010-12-01 08:26:00       2.55    17850.0  United Kingdom       15.30  \n",
       "1 2010-12-01 08:26:00       3.39    17850.0  United Kingdom       20.34  \n",
       "2 2010-12-01 08:26:00       2.75    17850.0  United Kingdom       22.00  \n",
       "3 2010-12-01 08:26:00       3.39    17850.0  United Kingdom       20.34  \n",
       "4 2010-12-01 08:26:00       3.39    17850.0  United Kingdom       20.34  "
      ]
     },
     "execution_count": 16,
     "metadata": {},
     "output_type": "execute_result"
    }
   ],
   "source": [
    "#Create TotalPrice  per transaction\n",
    "df['TotalPrice'] = df['Quantity'] * df['UnitPrice']\n",
    "df.head()"
   ]
  },
  {
   "cell_type": "code",
   "execution_count": 17,
   "id": "d223e19c",
   "metadata": {},
   "outputs": [],
   "source": [
    "#02Create additional columns by categorizing the Date for the analysis of seasonal trends\n",
    "\n",
    "# categorize date components into year, month, day, weekday,working hour and weekend\n",
    "#df['Year'] = df['InvoiceDate'].dt.year\n",
    "#df['Month'] = df['InvoiceDate'].dt.month\n",
    "#df['Day'] = df['InvoiceDate'].dt.day\n",
    "#df['Weekday'] = df['InvoiceDate'].dt.weekday  # Monday = 0, Sunday = 6\n",
    "#df['Hour'] = df['InvoiceDate'].dt.hour\n",
    "\n",
    "# Create a feature for working hours \n",
    "#df['IsWorkingHour'] = df['Hour'].apply(lambda x: 1 if 9 <= x <= 18 else 0)\n",
    "\n",
    "# Check if the purchase was made on a weekend\n",
    "#df['IsWeekend'] = df['Weekday'].apply(lambda x: 1 if x >= 5 else 0)\n",
    "\n",
    "#Display created columns\n",
    "#print(df[['Year', 'Month', 'Day', 'Weekday', 'Hour', 'IsWeekend']].head())"
   ]
  },
  {
   "cell_type": "code",
   "execution_count": 18,
   "id": "d55fa8fe",
   "metadata": {},
   "outputs": [
    {
     "name": "stdout",
     "output_type": "stream",
     "text": [
      "   CustomerID         InvoiceDate  Recency\n",
      "0     17850.0 2010-12-01 08:26:00      371\n",
      "9     13047.0 2010-12-01 08:34:00       31\n",
      "26    12583.0 2010-12-01 08:45:00        2\n",
      "46    13748.0 2010-12-01 09:00:00       95\n",
      "65    15100.0 2010-12-01 09:09:00      333\n",
      "       CustomerID  Recency\n",
      "236390    17877.0      169\n",
      "72850     14442.0      204\n",
      "19899     12797.0      365\n",
      "177543    15757.0       65\n",
      "530144    15318.0        3\n"
     ]
    }
   ],
   "source": [
    "#Customer recency\n",
    "import datetime\n",
    "latest_date = df['InvoiceDate'].max()  # Get last transaction date\n",
    "df['Recency'] = df.groupby('CustomerID')['InvoiceDate'].transform(lambda x: (latest_date - x.max()).days)\n",
    "\n",
    "#print 5 rows of customer recency by ensuring one row per customerID\n",
    "print(df[['CustomerID', 'InvoiceDate', 'Recency']].drop_duplicates(subset=['CustomerID']).head(5))\n",
    "\n",
    "#print a random customer's recency to ensure that recency values aren’t biased\n",
    "print(df[['CustomerID', 'Recency']].drop_duplicates().sample(5)) \n"
   ]
  },
  {
   "cell_type": "code",
   "execution_count": 19,
   "id": "dac748f6",
   "metadata": {},
   "outputs": [
    {
     "data": {
      "image/png": "[encoded data removed]",
      "text/plain": [
       "<Figure size 1000x500 with 1 Axes>"
      ]
     },
     "metadata": {},
     "output_type": "display_data"
    }
   ],
   "source": [
    "import matplotlib.pyplot as plt\n",
    "import seaborn as sns\n",
    "\n",
    "# Extract unique customers and their recency\n",
    "unique_customers = df[['CustomerID', 'Recency']].drop_duplicates()\n",
    "\n",
    "# Plot histogram\n",
    "plt.figure(figsize=(10, 5))\n",
    "sns.histplot(unique_customers['Recency'], bins=30, kde=True, color=\"blue\")\n",
    "plt.xlabel(\"Recency (Days Since Last Purchase)\")\n",
    "plt.ylabel(\"Number of Customers\")\n",
    "plt.title(\"Distribution of Customer Recency\")\n",
    "plt.show()\n",
    "\n",
    "#Customers with lower recency are recent buyers.\n",
    "#Customers with higher recency haven't bought anything in a while.\n"
   ]
  },
  {
   "cell_type": "code",
   "execution_count": 20,
   "id": "8b116049",
   "metadata": {},
   "outputs": [
    {
     "name": "stdout",
     "output_type": "stream",
     "text": [
      "  CustomerID  TotalPrice\n",
      "0    12346.0    77183.60\n",
      "1    12347.0     4310.00\n",
      "2    12348.0     1797.24\n",
      "3    12349.0     1757.55\n",
      "4    12350.0      334.40\n"
     ]
    }
   ],
   "source": [
    "#Create customer-based aggregations to find the total spend, total number of purchases and average order value per customer\n",
    "#High value customers can be targeted for loyalty program\n",
    "\n",
    "# Total spend per customer\n",
    "customer_spending = df.groupby('CustomerID')['TotalPrice'].sum().reset_index()\n",
    "print(customer_spending.head())\n"
   ]
  },
  {
   "cell_type": "code",
   "execution_count": 21,
   "id": "c2faaa55",
   "metadata": {},
   "outputs": [
    {
     "name": "stdout",
     "output_type": "stream",
     "text": [
      "  CustomerID    TotalPrice\n",
      "0    12346.0  77183.600000\n",
      "1    12347.0     23.681319\n",
      "2    12348.0     57.975484\n",
      "3    12349.0     24.076027\n",
      "4    12350.0     19.670588\n"
     ]
    }
   ],
   "source": [
    "# Average order value per customer\n",
    "customer_avg_order = df.groupby('CustomerID')['TotalPrice'].mean().reset_index()\n",
    "print(customer_avg_order.head())"
   ]
  },
  {
   "cell_type": "code",
   "execution_count": 22,
   "id": "e40234f4",
   "metadata": {},
   "outputs": [
    {
     "name": "stdout",
     "output_type": "stream",
     "text": [
      "  CustomerID  InvoiceNo\n",
      "0    12346.0          1\n",
      "1    12347.0          7\n",
      "2    12348.0          4\n",
      "3    12349.0          1\n",
      "4    12350.0          1\n"
     ]
    }
   ],
   "source": [
    "# Total number of purchases per customer\n",
    "customer_frequency = df.groupby('CustomerID')['InvoiceNo'].nunique().reset_index()\n",
    "print(customer_frequency.head())"
   ]
  },
  {
   "cell_type": "code",
   "execution_count": 23,
   "id": "cbfd677e",
   "metadata": {},
   "outputs": [
    {
     "name": "stdout",
     "output_type": "stream",
     "text": [
      "                             Description  Quantity\n",
      "2319         PAPER CRAFT , LITTLE BIRDIE     80995\n",
      "1992      MEDIUM CERAMIC TOP STORAGE JAR     77916\n",
      "3786   WORLD WAR 2 GLIDERS ASSTD DESIGNS     54415\n",
      "1762             JUMBO BAG RED RETROSPOT     46181\n",
      "3698  WHITE HANGING HEART T-LIGHT HOLDER     36725\n",
      "216        ASSORTED COLOUR BIRD ORNAMENT     35362\n",
      "2269     PACK OF 72 RETROSPOT CAKE CASES     33693\n",
      "2600                      POPCORN HOLDER     30931\n",
      "2656                  RABBIT NIGHT LIGHT     27202\n",
      "2047             MINI PAINT SET VINTAGE      26076\n"
     ]
    }
   ],
   "source": [
    "#Find the popular product based on the purchase quantity grouping by description\n",
    "\n",
    "# Total quantity sold per product (grouping by Description)\n",
    "popular_products = df.groupby('Description')['Quantity'].sum().reset_index()\n",
    "\n",
    "# Find most sold products\n",
    "popular_products = popular_products.sort_values(by='Quantity', ascending=False)\n",
    "\n",
    "# Get popular products (Top 100)\n",
    "df['IsPopularProduct'] = df['Description'].apply(lambda x: 1 if x in popular_products['Description'][:100].values else 0)\n",
    "\n",
    "# Display top products\n",
    "print(popular_products.head(10))"
   ]
  },
  {
   "cell_type": "code",
   "execution_count": 24,
   "id": "c4a2cc01",
   "metadata": {},
   "outputs": [
    {
     "data": {
      "text/html": [
       "<div>\n",
       "<style scoped>\n",
       "    .dataframe tbody tr th:only-of-type {\n",
       "        vertical-align: middle;\n",
       "    }\n",
       "\n",
       "    .dataframe tbody tr th {\n",
       "        vertical-align: top;\n",
       "    }\n",
       "\n",
       "    .dataframe thead th {\n",
       "        text-align: right;\n",
       "    }\n",
       "</style>\n",
       "<table border=\"1\" class=\"dataframe\">\n",
       "  <thead>\n",
       "    <tr style=\"text-align: right;\">\n",
       "      <th></th>\n",
       "      <th>Quantity</th>\n",
       "      <th>InvoiceDate</th>\n",
       "      <th>UnitPrice</th>\n",
       "      <th>TotalPrice</th>\n",
       "      <th>Recency</th>\n",
       "      <th>IsPopularProduct</th>\n",
       "    </tr>\n",
       "  </thead>\n",
       "  <tbody>\n",
       "    <tr>\n",
       "      <th>count</th>\n",
       "      <td>397884.000000</td>\n",
       "      <td>397884</td>\n",
       "      <td>397884.000000</td>\n",
       "      <td>397884.000000</td>\n",
       "      <td>397884.000000</td>\n",
       "      <td>397884.000000</td>\n",
       "    </tr>\n",
       "    <tr>\n",
       "      <th>mean</th>\n",
       "      <td>12.988238</td>\n",
       "      <td>2011-07-10 23:41:23.511023360</td>\n",
       "      <td>3.116488</td>\n",
       "      <td>22.397000</td>\n",
       "      <td>40.125680</td>\n",
       "      <td>0.154671</td>\n",
       "    </tr>\n",
       "    <tr>\n",
       "      <th>min</th>\n",
       "      <td>1.000000</td>\n",
       "      <td>2010-12-01 08:26:00</td>\n",
       "      <td>0.001000</td>\n",
       "      <td>0.001000</td>\n",
       "      <td>0.000000</td>\n",
       "      <td>0.000000</td>\n",
       "    </tr>\n",
       "    <tr>\n",
       "      <th>25%</th>\n",
       "      <td>2.000000</td>\n",
       "      <td>2011-04-07 11:12:00</td>\n",
       "      <td>1.250000</td>\n",
       "      <td>4.680000</td>\n",
       "      <td>3.000000</td>\n",
       "      <td>0.000000</td>\n",
       "    </tr>\n",
       "    <tr>\n",
       "      <th>50%</th>\n",
       "      <td>6.000000</td>\n",
       "      <td>2011-07-31 14:39:00</td>\n",
       "      <td>1.950000</td>\n",
       "      <td>11.800000</td>\n",
       "      <td>15.000000</td>\n",
       "      <td>0.000000</td>\n",
       "    </tr>\n",
       "    <tr>\n",
       "      <th>75%</th>\n",
       "      <td>12.000000</td>\n",
       "      <td>2011-10-20 14:33:00</td>\n",
       "      <td>3.750000</td>\n",
       "      <td>19.800000</td>\n",
       "      <td>42.000000</td>\n",
       "      <td>0.000000</td>\n",
       "    </tr>\n",
       "    <tr>\n",
       "      <th>max</th>\n",
       "      <td>80995.000000</td>\n",
       "      <td>2011-12-09 12:50:00</td>\n",
       "      <td>8142.750000</td>\n",
       "      <td>168469.600000</td>\n",
       "      <td>373.000000</td>\n",
       "      <td>1.000000</td>\n",
       "    </tr>\n",
       "    <tr>\n",
       "      <th>std</th>\n",
       "      <td>179.331775</td>\n",
       "      <td>NaN</td>\n",
       "      <td>22.097877</td>\n",
       "      <td>309.071041</td>\n",
       "      <td>65.471933</td>\n",
       "      <td>0.361591</td>\n",
       "    </tr>\n",
       "  </tbody>\n",
       "</table>\n",
       "</div>"
      ],
      "text/plain": [
       "            Quantity                    InvoiceDate      UnitPrice  \\\n",
       "count  397884.000000                         397884  397884.000000   \n",
       "mean       12.988238  2011-07-10 23:41:23.511023360       3.116488   \n",
       "min         1.000000            2010-12-01 08:26:00       0.001000   \n",
       "25%         2.000000            2011-04-07 11:12:00       1.250000   \n",
       "50%         6.000000            2011-07-31 14:39:00       1.950000   \n",
       "75%        12.000000            2011-10-20 14:33:00       3.750000   \n",
       "max     80995.000000            2011-12-09 12:50:00    8142.750000   \n",
       "std       179.331775                            NaN      22.097877   \n",
       "\n",
       "          TotalPrice        Recency  IsPopularProduct  \n",
       "count  397884.000000  397884.000000     397884.000000  \n",
       "mean       22.397000      40.125680          0.154671  \n",
       "min         0.001000       0.000000          0.000000  \n",
       "25%         4.680000       3.000000          0.000000  \n",
       "50%        11.800000      15.000000          0.000000  \n",
       "75%        19.800000      42.000000          0.000000  \n",
       "max    168469.600000     373.000000          1.000000  \n",
       "std       309.071041      65.471933          0.361591  "
      ]
     },
     "execution_count": 24,
     "metadata": {},
     "output_type": "execute_result"
    }
   ],
   "source": [
    "#get summary statistics of dataset\n",
    "df.describe()"
   ]
  },
  {
   "cell_type": "code",
   "execution_count": 25,
   "id": "9a452b91",
   "metadata": {},
   "outputs": [],
   "source": [
    "#Monthly sales analysis where can identify  better marketing strategies according to the peak sales months\n",
    "\n",
    "#import matplotlib.pyplot as plt\n",
    "#import seaborn as sns\n",
    "\n",
    "#monthly_sales = df.groupby(['Year', 'Month'])['TotalPrice'].sum().reset_index()\n",
    "\n",
    "#plt.figure(figsize=(8,4))\n",
    "#sns.lineplot(data=monthly_sales, x='Month', y='TotalPrice', hue='Year', marker='o')\n",
    "#plt.title('Monthly Sales Trend')\n",
    "#plt.xlabel('Month')\n",
    "#plt.ylabel('Total Sales')\n",
    "#plt.grid()\n",
    "#plt.show()\n"
   ]
  },
  {
   "cell_type": "code",
   "execution_count": 26,
   "id": "53bedaa7",
   "metadata": {},
   "outputs": [
    {
     "name": "stderr",
     "output_type": "stream",
     "text": [
      "C:\\Users\\User\\AppData\\Local\\Temp\\ipykernel_9716\\126377677.py:12: FutureWarning: \n",
      "\n",
      "Passing `palette` without assigning `hue` is deprecated and will be removed in v0.14.0. Assign the `y` variable to `hue` and set `legend=False` for the same effect.\n",
      "\n",
      "  sns.barplot(x='Quantity', y='Description', data=top_10_products, palette='viridis')\n"
     ]
    },
    {
     "data": {
      "image/png": "[encoded data removed]",
      "text/plain": [
       "<Figure size 1200x600 with 1 Axes>"
      ]
     },
     "metadata": {},
     "output_type": "display_data"
    }
   ],
   "source": [
    "import matplotlib.pyplot as plt\n",
    "import seaborn as sns\n",
    "\n",
    "# Aggregate total quantity sold per product\n",
    "popular_products = df.groupby('Description')['Quantity'].sum().reset_index()\n",
    "\n",
    "# Sort by highest quantity and take the top 10\n",
    "top_10_products = popular_products.sort_values(by='Quantity', ascending=False).head(10)\n",
    "\n",
    "# Plot bar chart\n",
    "plt.figure(figsize=(12, 6))\n",
    "sns.barplot(x='Quantity', y='Description', data=top_10_products, palette='viridis')\n",
    "\n",
    "# Add labels and title\n",
    "plt.xlabel('Total Quantity Sold')\n",
    "plt.ylabel('Product Description')\n",
    "plt.title('Top 10 Popular Products by Quantity')\n",
    "plt.show()\n"
   ]
  },
  {
   "cell_type": "code",
   "execution_count": 27,
   "id": "27c822f5",
   "metadata": {},
   "outputs": [
    {
     "name": "stdout",
     "output_type": "stream",
     "text": [
      "Total Revenue: 8911407.90\n"
     ]
    }
   ],
   "source": [
    "# Total revenue across all transactions\n",
    "total_revenue = df['TotalPrice'].sum()\n",
    "print(f\"Total Revenue: {total_revenue:.2f}\")\n"
   ]
  },
  {
   "cell_type": "code",
   "execution_count": 28,
   "id": "3fec82d4",
   "metadata": {},
   "outputs": [
    {
     "name": "stdout",
     "output_type": "stream",
     "text": [
      "           Country   TotalPrice\n",
      "35  United Kingdom  7308391.554\n",
      "23     Netherlands   285446.340\n",
      "10            EIRE   265545.900\n",
      "14         Germany   228867.140\n",
      "13          France   209024.050\n",
      "0        Australia   138521.310\n",
      "30           Spain    61577.110\n",
      "32     Switzerland    56443.950\n",
      "3          Belgium    41196.340\n",
      "31          Sweden    38378.330\n"
     ]
    },
    {
     "name": "stderr",
     "output_type": "stream",
     "text": [
      "C:\\Users\\User\\AppData\\Local\\Temp\\ipykernel_9716\\256680056.py:2: FutureWarning: The default of observed=False is deprecated and will be changed to True in a future version of pandas. Pass observed=False to retain current behavior or observed=True to adopt the future default and silence this warning.\n",
      "  country_sales = df.groupby('Country')['TotalPrice'].sum().reset_index()\n"
     ]
    }
   ],
   "source": [
    "# Calculate total sales per country\n",
    "country_sales = df.groupby('Country')['TotalPrice'].sum().reset_index()\n",
    "\n",
    "# Sort in descending order\n",
    "top_countries = country_sales.sort_values(by='TotalPrice', ascending=False).head(10)\n",
    "\n",
    "# Display top 10 countries by sales\n",
    "print(top_countries)\n"
   ]
  },
  {
   "cell_type": "code",
   "execution_count": 29,
   "id": "a2f594b5",
   "metadata": {},
   "outputs": [
    {
     "name": "stderr",
     "output_type": "stream",
     "text": [
      "C:\\Users\\User\\AppData\\Local\\Temp\\ipykernel_9716\\587565128.py:2: FutureWarning: The default of observed=False is deprecated and will be changed to True in a future version of pandas. Pass observed=False to retain current behavior or observed=True to adopt the future default and silence this warning.\n",
      "  top_countries = (df.groupby('Country')['Revenue'].sum().sort_values(ascending=False).head(10))\n"
     ]
    },
    {
     "ename": "KeyError",
     "evalue": "'Column not found: Revenue'",
     "output_type": "error",
     "traceback": [
      "\u001b[1;31m---------------------------------------------------------------------------\u001b[0m",
      "\u001b[1;31mKeyError\u001b[0m                                  Traceback (most recent call last)",
      "Cell \u001b[1;32mIn[29], line 2\u001b[0m\n\u001b[0;32m      1\u001b[0m \u001b[38;5;66;03m# Visualizing Top 10 Countries by Revenue\u001b[39;00m\n\u001b[1;32m----> 2\u001b[0m top_countries \u001b[38;5;241m=\u001b[39m (df\u001b[38;5;241m.\u001b[39mgroupby(\u001b[38;5;124m'\u001b[39m\u001b[38;5;124mCountry\u001b[39m\u001b[38;5;124m'\u001b[39m)[\u001b[38;5;124m'\u001b[39m\u001b[38;5;124mRevenue\u001b[39m\u001b[38;5;124m'\u001b[39m]\u001b[38;5;241m.\u001b[39msum()\u001b[38;5;241m.\u001b[39msort_values(ascending\u001b[38;5;241m=\u001b[39m\u001b[38;5;28;01mFalse\u001b[39;00m)\u001b[38;5;241m.\u001b[39mhead(\u001b[38;5;241m10\u001b[39m))\n\u001b[0;32m      4\u001b[0m plt\u001b[38;5;241m.\u001b[39mfigure(figsize\u001b[38;5;241m=\u001b[39m(\u001b[38;5;241m10\u001b[39m, \u001b[38;5;241m5\u001b[39m))\n\u001b[0;32m      5\u001b[0m top_countries\u001b[38;5;241m.\u001b[39mplot(kind\u001b[38;5;241m=\u001b[39m\u001b[38;5;124m'\u001b[39m\u001b[38;5;124mbar\u001b[39m\u001b[38;5;124m'\u001b[39m)\n",
      "File \u001b[1;32mc:\\ProgramData\\anaconda3\\Lib\\site-packages\\pandas\\core\\groupby\\generic.py:1951\u001b[0m, in \u001b[0;36mDataFrameGroupBy.__getitem__\u001b[1;34m(self, key)\u001b[0m\n\u001b[0;32m   1944\u001b[0m \u001b[38;5;28;01mif\u001b[39;00m \u001b[38;5;28misinstance\u001b[39m(key, \u001b[38;5;28mtuple\u001b[39m) \u001b[38;5;129;01mand\u001b[39;00m \u001b[38;5;28mlen\u001b[39m(key) \u001b[38;5;241m>\u001b[39m \u001b[38;5;241m1\u001b[39m:\n\u001b[0;32m   1945\u001b[0m     \u001b[38;5;66;03m# if len == 1, then it becomes a SeriesGroupBy and this is actually\u001b[39;00m\n\u001b[0;32m   1946\u001b[0m     \u001b[38;5;66;03m# valid syntax, so don't raise\u001b[39;00m\n\u001b[0;32m   1947\u001b[0m     \u001b[38;5;28;01mraise\u001b[39;00m \u001b[38;5;167;01mValueError\u001b[39;00m(\n\u001b[0;32m   1948\u001b[0m         \u001b[38;5;124m\"\u001b[39m\u001b[38;5;124mCannot subset columns with a tuple with more than one element. \u001b[39m\u001b[38;5;124m\"\u001b[39m\n\u001b[0;32m   1949\u001b[0m         \u001b[38;5;124m\"\u001b[39m\u001b[38;5;124mUse a list instead.\u001b[39m\u001b[38;5;124m\"\u001b[39m\n\u001b[0;32m   1950\u001b[0m     )\n\u001b[1;32m-> 1951\u001b[0m \u001b[38;5;28;01mreturn\u001b[39;00m \u001b[38;5;28msuper\u001b[39m()\u001b[38;5;241m.\u001b[39m\u001b[38;5;21m__getitem__\u001b[39m(key)\n",
      "File \u001b[1;32mc:\\ProgramData\\anaconda3\\Lib\\site-packages\\pandas\\core\\base.py:244\u001b[0m, in \u001b[0;36mSelectionMixin.__getitem__\u001b[1;34m(self, key)\u001b[0m\n\u001b[0;32m    242\u001b[0m \u001b[38;5;28;01melse\u001b[39;00m:\n\u001b[0;32m    243\u001b[0m     \u001b[38;5;28;01mif\u001b[39;00m key \u001b[38;5;129;01mnot\u001b[39;00m \u001b[38;5;129;01min\u001b[39;00m \u001b[38;5;28mself\u001b[39m\u001b[38;5;241m.\u001b[39mobj:\n\u001b[1;32m--> 244\u001b[0m         \u001b[38;5;28;01mraise\u001b[39;00m \u001b[38;5;167;01mKeyError\u001b[39;00m(\u001b[38;5;124mf\u001b[39m\u001b[38;5;124m\"\u001b[39m\u001b[38;5;124mColumn not found: \u001b[39m\u001b[38;5;132;01m{\u001b[39;00mkey\u001b[38;5;132;01m}\u001b[39;00m\u001b[38;5;124m\"\u001b[39m)\n\u001b[0;32m    245\u001b[0m     ndim \u001b[38;5;241m=\u001b[39m \u001b[38;5;28mself\u001b[39m\u001b[38;5;241m.\u001b[39mobj[key]\u001b[38;5;241m.\u001b[39mndim\n\u001b[0;32m    246\u001b[0m     \u001b[38;5;28;01mreturn\u001b[39;00m \u001b[38;5;28mself\u001b[39m\u001b[38;5;241m.\u001b[39m_gotitem(key, ndim\u001b[38;5;241m=\u001b[39mndim)\n",
      "\u001b[1;31mKeyError\u001b[0m: 'Column not found: Revenue'"
     ]
    }
   ],
   "source": [
    "# Visualizing Top 10 Countries by Revenue\n",
    "top_countries = (df.groupby('Country')['Revenue'].sum().sort_values(ascending=False).head(10))\n",
    "\n",
    "plt.figure(figsize=(10, 5))\n",
    "top_countries.plot(kind='bar')\n",
    "plt.title(\"Top 10 Countries by Revenue\")\n",
    "plt.xlabel(\"Country\")\n",
    "plt.ylabel(\"Total Revenue\")\n",
    "plt.xticks(rotation=45, ha='right')\n",
    "plt.show()"
   ]
  },
  {
   "cell_type": "code",
   "execution_count": null,
   "id": "d2ccfdc7",
   "metadata": {},
   "outputs": [
    {
     "name": "stderr",
     "output_type": "stream",
     "text": [
      "C:\\Users\\User\\AppData\\Local\\Temp\\ipykernel_16160\\4192456523.py:10: FutureWarning: \n",
      "\n",
      "Passing `palette` without assigning `hue` is deprecated and will be removed in v0.14.0. Assign the `x` variable to `hue` and set `legend=False` for the same effect.\n",
      "\n",
      "  sns.barplot(x=\"InvoiceNo\", y=\"Revenue\", data=top_invoices, palette=\"Blues_r\")\n"
     ]
    },
    {
     "data": {
      "image/png": "[encoded data removed]",
      "text/plain": [
       "<Figure size 1200x600 with 1 Axes>"
      ]
     },
     "metadata": {},
     "output_type": "display_data"
    }
   ],
   "source": [
    "import matplotlib.pyplot as plt\n",
    "import seaborn as sns\n",
    "\n",
    "total_revenue_per_invoice = df.groupby('InvoiceNo')['Revenue'].sum().reset_index()\n",
    "\n",
    "# Getting top 20 invoices by revenue\n",
    "top_invoices = total_revenue_per_invoice.sort_values(by=\"Revenue\", ascending=False).head(20)\n",
    "\n",
    "plt.figure(figsize=(12,6))\n",
    "sns.barplot(x=\"InvoiceNo\", y=\"Revenue\", data=top_invoices, palette=\"Blues_r\")\n",
    "plt.xticks(rotation=90)\n",
    "plt.title(\"Top 20 Invoices by Revenue\")\n",
    "plt.xlabel(\"Invoice Number\")\n",
    "plt.ylabel(\"Total Revenue\")\n",
    "plt.show()\n"
   ]
  },
  {
   "cell_type": "code",
   "execution_count": null,
   "id": "26315ceb",
   "metadata": {},
   "outputs": [
    {
     "data": {
      "image/png": "[encoded data removed]",
      "text/plain": [
       "<Figure size 1000x500 with 1 Axes>"
      ]
     },
     "metadata": {},
     "output_type": "display_data"
    }
   ],
   "source": [
    "#Distribution of total sale\n",
    "plt.figure(figsize=(10,5))\n",
    "sns.histplot(df['TotalPrice'], bins=100, kde=True)\n",
    "plt.title('Distribution of Total Sales')\n",
    "plt.show()\n"
   ]
  },
  {
   "cell_type": "markdown",
   "id": "518ff845",
   "metadata": {},
   "source": [
    "# Market basket Analysis "
   ]
  },
  {
   "cell_type": "code",
   "execution_count": null,
   "id": "2763eb48",
   "metadata": {},
   "outputs": [
    {
     "name": "stdout",
     "output_type": "stream",
     "text": [
      "InvoiceNo              object\n",
      "StockCode              object\n",
      "Description            object\n",
      "InvoiceDate    datetime64[ns]\n",
      "UnitPrice             float64\n",
      "Quantity                int32\n",
      "dtype: object\n"
     ]
    }
   ],
   "source": [
    "#The main features required to do the market basket analysis are, Invoice ID, stock code, Description,Quantity, Invoice Date and unit price\n",
    "\n",
    "#Converting the datatypes of the features\n",
    "\n",
    "df['InvoiceNo'] = df['InvoiceNo'].astype(str)\n",
    "df['StockCode'] = df['StockCode'].astype(str)\n",
    "df['Description'] = df['Description'].astype(str)\n",
    "df['InvoiceDate'] = pd.to_datetime(df['InvoiceDate'])\n",
    "df['UnitPrice'] = df['UnitPrice'].astype(float)\n",
    "df['Quantity'] = df['Quantity'].astype(int)\n",
    "\n",
    "print(df[['InvoiceNo', 'StockCode', 'Description', 'InvoiceDate', 'UnitPrice','Quantity']].dtypes)\n"
   ]
  },
  {
   "cell_type": "code",
   "execution_count": null,
   "id": "91a0b71a",
   "metadata": {},
   "outputs": [
    {
     "name": "stdout",
     "output_type": "stream",
     "text": [
      "      InvoiceNo StockCode                          Description  Quantity  \\\n",
      "index                                                                      \n",
      "0        536365    85123A   WHITE HANGING HEART T-LIGHT HOLDER         6   \n",
      "1        536365     71053                  WHITE METAL LANTERN         6   \n",
      "2        536365    84406B       CREAM CUPID HEARTS COAT HANGER         8   \n",
      "3        536365    84029G  KNITTED UNION FLAG HOT WATER BOTTLE         6   \n",
      "4        536365    84029E       RED WOOLLY HOTTIE WHITE HEART.         6   \n",
      "\n",
      "              InvoiceDate  UnitPrice  \n",
      "index                                 \n",
      "0     2010-12-01 08:26:00       2.55  \n",
      "1     2010-12-01 08:26:00       3.39  \n",
      "2     2010-12-01 08:26:00       2.75  \n",
      "3     2010-12-01 08:26:00       3.39  \n",
      "4     2010-12-01 08:26:00       3.39  \n"
     ]
    }
   ],
   "source": [
    "# Keep only the necessary columns\n",
    "df_mba = df[['InvoiceNo', 'StockCode', 'Description', 'Quantity','InvoiceDate', 'UnitPrice']]\n",
    "\n",
    "# Check the resulting DataFrame to confirm\n",
    "print(df_mba.head())"
   ]
  },
  {
   "cell_type": "code",
   "execution_count": null,
   "id": "a8eefda6",
   "metadata": {},
   "outputs": [
    {
     "name": "stdout",
     "output_type": "stream",
     "text": [
      "Defaulting to user installation because normal site-packages is not writeable\n",
      "Requirement already satisfied: mlxtend in c:\\users\\user\\appdata\\roaming\\python\\python312\\site-packages (0.23.4)\n",
      "Requirement already satisfied: scipy>=1.2.1 in c:\\programdata\\anaconda3\\lib\\site-packages (from mlxtend) (1.13.1)\n",
      "Requirement already satisfied: numpy>=1.16.2 in c:\\programdata\\anaconda3\\lib\\site-packages (from mlxtend) (1.26.4)\n",
      "Requirement already satisfied: pandas>=0.24.2 in c:\\programdata\\anaconda3\\lib\\site-packages (from mlxtend) (2.2.2)\n",
      "Requirement already satisfied: scikit-learn>=1.3.1 in c:\\programdata\\anaconda3\\lib\\site-packages (from mlxtend) (1.5.1)\n",
      "Requirement already satisfied: matplotlib>=3.0.0 in c:\\programdata\\anaconda3\\lib\\site-packages (from mlxtend) (3.9.2)\n",
      "Requirement already satisfied: joblib>=0.13.2 in c:\\programdata\\anaconda3\\lib\\site-packages (from mlxtend) (1.4.2)\n",
      "Requirement already satisfied: contourpy>=1.0.1 in c:\\programdata\\anaconda3\\lib\\site-packages (from matplotlib>=3.0.0->mlxtend) (1.2.0)\n",
      "Requirement already satisfied: cycler>=0.10 in c:\\programdata\\anaconda3\\lib\\site-packages (from matplotlib>=3.0.0->mlxtend) (0.11.0)\n",
      "Requirement already satisfied: fonttools>=4.22.0 in c:\\programdata\\anaconda3\\lib\\site-packages (from matplotlib>=3.0.0->mlxtend) (4.51.0)\n",
      "Requirement already satisfied: kiwisolver>=1.3.1 in c:\\programdata\\anaconda3\\lib\\site-packages (from matplotlib>=3.0.0->mlxtend) (1.4.4)\n",
      "Requirement already satisfied: packaging>=20.0 in c:\\programdata\\anaconda3\\lib\\site-packages (from matplotlib>=3.0.0->mlxtend) (24.1)\n",
      "Requirement already satisfied: pillow>=8 in c:\\programdata\\anaconda3\\lib\\site-packages (from matplotlib>=3.0.0->mlxtend) (10.4.0)\n",
      "Requirement already satisfied: pyparsing>=2.3.1 in c:\\programdata\\anaconda3\\lib\\site-packages (from matplotlib>=3.0.0->mlxtend) (3.1.2)\n",
      "Requirement already satisfied: python-dateutil>=2.7 in c:\\programdata\\anaconda3\\lib\\site-packages (from matplotlib>=3.0.0->mlxtend) (2.9.0.post0)\n",
      "Requirement already satisfied: pytz>=2020.1 in c:\\programdata\\anaconda3\\lib\\site-packages (from pandas>=0.24.2->mlxtend) (2024.1)\n",
      "Requirement already satisfied: tzdata>=2022.7 in c:\\programdata\\anaconda3\\lib\\site-packages (from pandas>=0.24.2->mlxtend) (2023.3)\n",
      "Requirement already satisfied: threadpoolctl>=3.1.0 in c:\\programdata\\anaconda3\\lib\\site-packages (from scikit-learn>=1.3.1->mlxtend) (3.5.0)\n",
      "Requirement already satisfied: six>=1.5 in c:\\programdata\\anaconda3\\lib\\site-packages (from python-dateutil>=2.7->matplotlib>=3.0.0->mlxtend) (1.16.0)\n",
      "Note: you may need to restart the kernel to use updated packages.\n"
     ]
    }
   ],
   "source": [
    "pip install mlxtend\n"
   ]
  },
  {
   "cell_type": "code",
   "execution_count": null,
   "id": "ef32feb2",
   "metadata": {},
   "outputs": [
    {
     "name": "stderr",
     "output_type": "stream",
     "text": [
      "C:\\Users\\User\\AppData\\Local\\Temp\\ipykernel_16160\\4232549723.py:7: FutureWarning: DataFrame.applymap has been deprecated. Use DataFrame.map instead.\n",
      "  basket = basket.applymap(lambda x: 1 if x > 0 else 0)\n"
     ]
    },
    {
     "name": "stdout",
     "output_type": "stream",
     "text": [
      "Description   4 PURPLE FLOCK DINNER CANDLES   50'S CHRISTMAS GIFT BAG LARGE  \\\n",
      "InvoiceNo                                                                     \n",
      "536365                                    0                               0   \n",
      "536366                                    0                               0   \n",
      "536367                                    0                               0   \n",
      "536368                                    0                               0   \n",
      "536369                                    0                               0   \n",
      "\n",
      "Description   DOLLY GIRL BEAKER   I LOVE LONDON MINI BACKPACK  \\\n",
      "InvoiceNo                                                       \n",
      "536365                        0                             0   \n",
      "536366                        0                             0   \n",
      "536367                        0                             0   \n",
      "536368                        0                             0   \n",
      "536369                        0                             0   \n",
      "\n",
      "Description   I LOVE LONDON MINI RUCKSACK   NINE DRAWER OFFICE TIDY  \\\n",
      "InvoiceNo                                                             \n",
      "536365                                  0                         0   \n",
      "536366                                  0                         0   \n",
      "536367                                  0                         0   \n",
      "536368                                  0                         0   \n",
      "536369                                  0                         0   \n",
      "\n",
      "Description   OVAL WALL MIRROR DIAMANTE    RED SPOT GIFT BAG LARGE  \\\n",
      "InvoiceNo                                                            \n",
      "536365                                 0                         0   \n",
      "536366                                 0                         0   \n",
      "536367                                 0                         0   \n",
      "536368                                 0                         0   \n",
      "536369                                 0                         0   \n",
      "\n",
      "Description   SET 2 TEA TOWELS I LOVE LONDON    SPACEBOY BABY GIFT SET  ...  \\\n",
      "InvoiceNo                                                               ...   \n",
      "536365                                      0                        0  ...   \n",
      "536366                                      0                        0  ...   \n",
      "536367                                      0                        0  ...   \n",
      "536368                                      0                        0  ...   \n",
      "536369                                      0                        0  ...   \n",
      "\n",
      "Description  ZINC STAR T-LIGHT HOLDER   ZINC SWEETHEART SOAP DISH  \\\n",
      "InvoiceNo                                                           \n",
      "536365                               0                          0   \n",
      "536366                               0                          0   \n",
      "536367                               0                          0   \n",
      "536368                               0                          0   \n",
      "536369                               0                          0   \n",
      "\n",
      "Description  ZINC SWEETHEART WIRE LETTER RACK  ZINC T-LIGHT HOLDER STAR LARGE  \\\n",
      "InvoiceNo                                                                       \n",
      "536365                                      0                               0   \n",
      "536366                                      0                               0   \n",
      "536367                                      0                               0   \n",
      "536368                                      0                               0   \n",
      "536369                                      0                               0   \n",
      "\n",
      "Description  ZINC T-LIGHT HOLDER STARS LARGE  ZINC T-LIGHT HOLDER STARS SMALL  \\\n",
      "InvoiceNo                                                                       \n",
      "536365                                     0                                0   \n",
      "536366                                     0                                0   \n",
      "536367                                     0                                0   \n",
      "536368                                     0                                0   \n",
      "536369                                     0                                0   \n",
      "\n",
      "Description  ZINC TOP  2 DOOR WOODEN SHELF   ZINC WILLIE WINKIE  CANDLE STICK  \\\n",
      "InvoiceNo                                                                       \n",
      "536365                                    0                                 0   \n",
      "536366                                    0                                 0   \n",
      "536367                                    0                                 0   \n",
      "536368                                    0                                 0   \n",
      "536369                                    0                                 0   \n",
      "\n",
      "Description  ZINC WIRE KITCHEN ORGANISER  ZINC WIRE SWEETHEART LETTER TRAY  \n",
      "InvoiceNo                                                                   \n",
      "536365                                 0                                 0  \n",
      "536366                                 0                                 0  \n",
      "536367                                 0                                 0  \n",
      "536368                                 0                                 0  \n",
      "536369                                 0                                 0  \n",
      "\n",
      "[5 rows x 3877 columns]\n"
     ]
    }
   ],
   "source": [
    "from mlxtend.frequent_patterns import apriori, association_rules\n",
    "\n",
    "#Pivot the data to create a transactional dataset\n",
    "basket = df.pivot_table(index='InvoiceNo', columns='Description', values='Quantity', aggfunc='sum').fillna(0)\n",
    "\n",
    "#Convert quantities into 1 (purchased) or 0 (not purchased)\n",
    "basket = basket.applymap(lambda x: 1 if x > 0 else 0)\n",
    "\n",
    "print(basket.head())"
   ]
  },
  {
   "cell_type": "code",
   "execution_count": null,
   "id": "84cceda2",
   "metadata": {},
   "outputs": [
    {
     "ename": "NameError",
     "evalue": "name 'apriori' is not defined",
     "output_type": "error",
     "traceback": [
      "\u001b[1;31m---------------------------------------------------------------------------\u001b[0m",
      "\u001b[1;31mNameError\u001b[0m                                 Traceback (most recent call last)",
      "Cell \u001b[1;32mIn[1], line 2\u001b[0m\n\u001b[0;32m      1\u001b[0m \u001b[38;5;66;03m# Generate frequent itemsets using Apriori\u001b[39;00m\n\u001b[1;32m----> 2\u001b[0m frequent_itemsets \u001b[38;5;241m=\u001b[39m apriori(basket, min_support\u001b[38;5;241m=\u001b[39m\u001b[38;5;241m0.01\u001b[39m, use_colnames\u001b[38;5;241m=\u001b[39m\u001b[38;5;28;01mTrue\u001b[39;00m)\n\u001b[0;32m      4\u001b[0m \u001b[38;5;66;03m# Display top 10 frequent itemsets\u001b[39;00m\n\u001b[0;32m      5\u001b[0m frequent_itemsets\u001b[38;5;241m.\u001b[39msort_values(by\u001b[38;5;241m=\u001b[39m\u001b[38;5;124m\"\u001b[39m\u001b[38;5;124msupport\u001b[39m\u001b[38;5;124m\"\u001b[39m, ascending\u001b[38;5;241m=\u001b[39m\u001b[38;5;28;01mFalse\u001b[39;00m)\u001b[38;5;241m.\u001b[39mhead(\u001b[38;5;241m10\u001b[39m)\n",
      "\u001b[1;31mNameError\u001b[0m: name 'apriori' is not defined"
     ]
    }
   ],
   "source": [
    "# Generate frequent itemsets using Apriori\n",
    "frequent_itemsets = apriori(basket, min_support=0.01, use_colnames=True)\n",
    "\n",
    "# Display top 10 frequent itemsets\n",
    "frequent_itemsets.sort_values(by=\"support\", ascending=False).head(10)\n"
   ]
  },
  {
   "cell_type": "code",
   "execution_count": null,
   "id": "061e7053",
   "metadata": {},
   "outputs": [],
   "source": []
  }
 ],
 "metadata": {
  "kernelspec": {
   "display_name": "Python 3 (ipykernel)",
   "language": "python",
   "name": "python3"
  },
  "language_info": {
   "codemirror_mode": {
    "name": "ipython",
    "version": 3
   },
   "file_extension": ".py",
   "mimetype": "text/x-python",
   "name": "python",
   "nbconvert_exporter": "python",
   "pygments_lexer": "ipython3",
   "version": "3.12.7"
  }
 },
 "nbformat": 4,
 "nbformat_minor": 5
}
