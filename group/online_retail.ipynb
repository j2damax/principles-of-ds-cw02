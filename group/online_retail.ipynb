{
 "cells": [
  {
   "cell_type": "markdown",
   "id": "ebf5ea0e-6869-4b8f-a40f-d49da7e29ff3",
   "metadata": {},
   "source": [
    "# Data cleaning and pre processing"
   ]
  },
  {
   "cell_type": "code",
   "execution_count": 1,
   "id": "b5a0f828-cd54-4e1d-b333-b59f3328cc34",
   "metadata": {},
   "outputs": [
    {
     "name": "stdout",
     "output_type": "stream",
     "text": [
      "/Users/jam/msc/course-works\n"
     ]
    }
   ],
   "source": [
    "import os\n",
    "os.chdir(\"/Users/jam/msc/course-works\")\n",
    "print(os.getcwd())  # Verify the change"
   ]
  },
  {
   "cell_type": "code",
   "execution_count": 498,
   "id": "3a4b2a17-0b81-4d75-a8f0-e750304505c5",
   "metadata": {},
   "outputs": [],
   "source": [
    "import pandas as pd\n",
    "import numpy as np\n",
    "import matplotlib.pyplot as plt\n",
    "import seaborn as sns\n",
    "from scipy import stats\n",
    "from scipy.stats import zscore"
   ]
  },
  {
   "cell_type": "code",
   "execution_count": 500,
   "id": "de5d3f21-f641-43dc-aeaf-087f70090480",
   "metadata": {},
   "outputs": [],
   "source": [
    "df = pd.read_csv(\"online_retail.csv\")"
   ]
  },
  {
   "cell_type": "code",
   "execution_count": 501,
   "id": "cf84b851-27d7-48eb-bc4f-afdf0d981832",
   "metadata": {},
   "outputs": [
    {
     "data": {
      "text/html": [
       "<div>\n",
       "<style scoped>\n",
       "    .dataframe tbody tr th:only-of-type {\n",
       "        vertical-align: middle;\n",
       "    }\n",
       "\n",
       "    .dataframe tbody tr th {\n",
       "        vertical-align: top;\n",
       "    }\n",
       "\n",
       "    .dataframe thead th {\n",
       "        text-align: right;\n",
       "    }\n",
       "</style>\n",
       "<table border=\"1\" class=\"dataframe\">\n",
       "  <thead>\n",
       "    <tr style=\"text-align: right;\">\n",
       "      <th></th>\n",
       "      <th>index</th>\n",
       "      <th>InvoiceNo</th>\n",
       "      <th>StockCode</th>\n",
       "      <th>Description</th>\n",
       "      <th>Quantity</th>\n",
       "      <th>InvoiceDate</th>\n",
       "      <th>UnitPrice</th>\n",
       "      <th>CustomerID</th>\n",
       "      <th>Country</th>\n",
       "    </tr>\n",
       "  </thead>\n",
       "  <tbody>\n",
       "    <tr>\n",
       "      <th>0</th>\n",
       "      <td>0</td>\n",
       "      <td>536365</td>\n",
       "      <td>85123A</td>\n",
       "      <td>WHITE HANGING HEART T-LIGHT HOLDER</td>\n",
       "      <td>6</td>\n",
       "      <td>12/1/2010 8:26</td>\n",
       "      <td>2.55</td>\n",
       "      <td>17850.0</td>\n",
       "      <td>United Kingdom</td>\n",
       "    </tr>\n",
       "    <tr>\n",
       "      <th>1</th>\n",
       "      <td>1</td>\n",
       "      <td>536365</td>\n",
       "      <td>71053</td>\n",
       "      <td>WHITE METAL LANTERN</td>\n",
       "      <td>6</td>\n",
       "      <td>12/1/2010 8:26</td>\n",
       "      <td>3.39</td>\n",
       "      <td>17850.0</td>\n",
       "      <td>United Kingdom</td>\n",
       "    </tr>\n",
       "    <tr>\n",
       "      <th>2</th>\n",
       "      <td>2</td>\n",
       "      <td>536365</td>\n",
       "      <td>84406B</td>\n",
       "      <td>CREAM CUPID HEARTS COAT HANGER</td>\n",
       "      <td>8</td>\n",
       "      <td>12/1/2010 8:26</td>\n",
       "      <td>2.75</td>\n",
       "      <td>17850.0</td>\n",
       "      <td>United Kingdom</td>\n",
       "    </tr>\n",
       "    <tr>\n",
       "      <th>3</th>\n",
       "      <td>3</td>\n",
       "      <td>536365</td>\n",
       "      <td>84029G</td>\n",
       "      <td>KNITTED UNION FLAG HOT WATER BOTTLE</td>\n",
       "      <td>6</td>\n",
       "      <td>12/1/2010 8:26</td>\n",
       "      <td>3.39</td>\n",
       "      <td>17850.0</td>\n",
       "      <td>United Kingdom</td>\n",
       "    </tr>\n",
       "    <tr>\n",
       "      <th>4</th>\n",
       "      <td>4</td>\n",
       "      <td>536365</td>\n",
       "      <td>84029E</td>\n",
       "      <td>RED WOOLLY HOTTIE WHITE HEART.</td>\n",
       "      <td>6</td>\n",
       "      <td>12/1/2010 8:26</td>\n",
       "      <td>3.39</td>\n",
       "      <td>17850.0</td>\n",
       "      <td>United Kingdom</td>\n",
       "    </tr>\n",
       "  </tbody>\n",
       "</table>\n",
       "</div>"
      ],
      "text/plain": [
       "   index InvoiceNo StockCode                          Description  Quantity  \\\n",
       "0      0    536365    85123A   WHITE HANGING HEART T-LIGHT HOLDER         6   \n",
       "1      1    536365     71053                  WHITE METAL LANTERN         6   \n",
       "2      2    536365    84406B       CREAM CUPID HEARTS COAT HANGER         8   \n",
       "3      3    536365    84029G  KNITTED UNION FLAG HOT WATER BOTTLE         6   \n",
       "4      4    536365    84029E       RED WOOLLY HOTTIE WHITE HEART.         6   \n",
       "\n",
       "      InvoiceDate  UnitPrice  CustomerID         Country  \n",
       "0  12/1/2010 8:26       2.55     17850.0  United Kingdom  \n",
       "1  12/1/2010 8:26       3.39     17850.0  United Kingdom  \n",
       "2  12/1/2010 8:26       2.75     17850.0  United Kingdom  \n",
       "3  12/1/2010 8:26       3.39     17850.0  United Kingdom  \n",
       "4  12/1/2010 8:26       3.39     17850.0  United Kingdom  "
      ]
     },
     "execution_count": 501,
     "metadata": {},
     "output_type": "execute_result"
    }
   ],
   "source": [
    "# check data header\n",
    "df.head()"
   ]
  },
  {
   "cell_type": "code",
   "execution_count": 504,
   "id": "274a6069-6fa2-4c3a-8f4b-b7614fcdc7f7",
   "metadata": {},
   "outputs": [
    {
     "name": "stdout",
     "output_type": "stream",
     "text": [
      "<class 'pandas.core.frame.DataFrame'>\n",
      "RangeIndex: 541909 entries, 0 to 541908\n",
      "Data columns (total 9 columns):\n",
      " #   Column       Non-Null Count   Dtype  \n",
      "---  ------       --------------   -----  \n",
      " 0   index        541909 non-null  int64  \n",
      " 1   InvoiceNo    541909 non-null  object \n",
      " 2   StockCode    541909 non-null  object \n",
      " 3   Description  540455 non-null  object \n",
      " 4   Quantity     541909 non-null  int64  \n",
      " 5   InvoiceDate  541909 non-null  object \n",
      " 6   UnitPrice    541909 non-null  float64\n",
      " 7   CustomerID   406829 non-null  float64\n",
      " 8   Country      541909 non-null  object \n",
      "dtypes: float64(2), int64(2), object(5)\n",
      "memory usage: 37.2+ MB\n"
     ]
    }
   ],
   "source": [
    "# check data types and information\n",
    "df.info()"
   ]
  },
  {
   "cell_type": "code",
   "execution_count": 506,
   "id": "360a14b9-1a29-48b5-891b-770064dbaccc",
   "metadata": {},
   "outputs": [
    {
     "name": "stdout",
     "output_type": "stream",
     "text": [
      "Number of rows and columns: (541909, 9)\n"
     ]
    }
   ],
   "source": [
    "# check data shape\n",
    "print(f\"Number of rows and columns: {df.shape}\")"
   ]
  },
  {
   "cell_type": "code",
   "execution_count": 508,
   "id": "1f95b09c-b9a2-4e1f-90ec-af16bc8b58d8",
   "metadata": {},
   "outputs": [
    {
     "data": {
      "text/plain": [
       "index            int64\n",
       "InvoiceNo       object\n",
       "StockCode       object\n",
       "Description     object\n",
       "Quantity         int64\n",
       "InvoiceDate     object\n",
       "UnitPrice      float64\n",
       "CustomerID     float64\n",
       "Country         object\n",
       "dtype: object"
      ]
     },
     "execution_count": 508,
     "metadata": {},
     "output_type": "execute_result"
    }
   ],
   "source": [
    "# check data types\n",
    "df.dtypes"
   ]
  },
  {
   "cell_type": "markdown",
   "id": "89bc0e0b-2057-408c-a994-4265eedc5dab",
   "metadata": {},
   "source": [
    "### Handle data types"
   ]
  },
  {
   "cell_type": "code",
   "execution_count": 511,
   "id": "114120a8-e4c5-4017-a0f6-9e6b4f90625e",
   "metadata": {},
   "outputs": [
    {
     "name": "stdout",
     "output_type": "stream",
     "text": [
      "int64\n"
     ]
    }
   ],
   "source": [
    "# Convert CustomerID from float to int (handling NaN values first)\n",
    "df[\"CustomerID\"] = df[\"CustomerID\"].fillna(0).astype(int)  # Replace NaN with 0 before conversion\n",
    "# Print the updated data type\n",
    "print(df[\"CustomerID\"].dtype)"
   ]
  },
  {
   "cell_type": "code",
   "execution_count": 513,
   "id": "c85b7cc4-ab58-4fa6-9261-693da260880b",
   "metadata": {},
   "outputs": [
    {
     "name": "stdout",
     "output_type": "stream",
     "text": [
      "datetime64[ns]\n"
     ]
    }
   ],
   "source": [
    "# Convert InvoiceDate to datetime format\n",
    "df[\"InvoiceDate\"] = pd.to_datetime(df[\"InvoiceDate\"])\n",
    "\n",
    "# Print the updated data type\n",
    "print(df[\"InvoiceDate\"].dtype)"
   ]
  },
  {
   "cell_type": "code",
   "execution_count": 515,
   "id": "8d0db120-845e-4338-8542-a930d6351849",
   "metadata": {},
   "outputs": [
    {
     "data": {
      "text/plain": [
       "index                   int64\n",
       "InvoiceNo              object\n",
       "StockCode              object\n",
       "Description            object\n",
       "Quantity                int64\n",
       "InvoiceDate    datetime64[ns]\n",
       "UnitPrice             float64\n",
       "CustomerID              int64\n",
       "Country                object\n",
       "dtype: object"
      ]
     },
     "execution_count": 515,
     "metadata": {},
     "output_type": "execute_result"
    }
   ],
   "source": [
    "# check data types\n",
    "df.dtypes"
   ]
  },
  {
   "cell_type": "code",
   "execution_count": 517,
   "id": "83538d8e-8525-4832-92cc-73d989b0117a",
   "metadata": {},
   "outputs": [
    {
     "name": "stdout",
     "output_type": "stream",
     "text": [
      "index             0\n",
      "InvoiceNo         0\n",
      "StockCode         0\n",
      "Description    1454\n",
      "Quantity          0\n",
      "InvoiceDate       0\n",
      "UnitPrice         0\n",
      "CustomerID        0\n",
      "Country           0\n",
      "dtype: int64\n"
     ]
    }
   ],
   "source": [
    "#Ensure no missing values are available in the dataset\n",
    "print(df.isnull().sum())  "
   ]
  },
  {
   "cell_type": "code",
   "execution_count": 519,
   "id": "f26e501f-35a8-4115-8dd2-22158ce1c334",
   "metadata": {},
   "outputs": [
    {
     "name": "stdout",
     "output_type": "stream",
     "text": [
      "Number of null values for Description column: 1454\n"
     ]
    }
   ],
   "source": [
    "# Check for empty or null values\n",
    "print(f\"Number of null values for Description column: {df[\"Description\"].isnull().sum()}\")"
   ]
  },
  {
   "cell_type": "code",
   "execution_count": 521,
   "id": "a03d3c9d-eb1e-40ea-b5fb-d7a3b1ecad86",
   "metadata": {},
   "outputs": [
    {
     "name": "stdout",
     "output_type": "stream",
     "text": [
      "Rows with ?? values in the Description column: 7\n"
     ]
    }
   ],
   "source": [
    "# Check for '??' values\n",
    "print(f\"Rows with ?? values in the Description column: {df[df[\"Description\"] == \"??\"].shape[0]}\")"
   ]
  },
  {
   "cell_type": "code",
   "execution_count": 523,
   "id": "59d98285-1488-4bd6-a3da-f33248e844c2",
   "metadata": {},
   "outputs": [
    {
     "name": "stdout",
     "output_type": "stream",
     "text": [
      "Rows with ?? values in the Description column: 47\n"
     ]
    }
   ],
   "source": [
    "# Check for '?' values\n",
    "print(f\"Rows with ?? values in the Description column: {df[df[\"Description\"] == \"?\"].shape[0]}\")"
   ]
  },
  {
   "cell_type": "code",
   "execution_count": 525,
   "id": "38a12e42-9ab3-4ddf-8667-26ca59eea0ac",
   "metadata": {},
   "outputs": [
    {
     "name": "stdout",
     "output_type": "stream",
     "text": [
      "StockCode\n",
      "10002      INFLATABLE POLITICAL GLOBE \n",
      "10080         GROOVY CACTUS INFLATABLE\n",
      "10120                     DOGGY RUBBER\n",
      "10123C           HEARTS WRAPPING TAPE \n",
      "10124A     SPOTS ON RED BOOKCOVER TAPE\n",
      "10124G        ARMY CAMO BOOKCOVER TAPE\n",
      "10125          MINI FUNKY DESIGN TAPES\n",
      "10133     COLOURING PENCILS BROWN TUBE\n",
      "10135     COLOURING PENCILS BROWN TUBE\n",
      "11001      ASSTD DESIGN RACING CAR PEN\n",
      "Name: Description, dtype: object\n"
     ]
    }
   ],
   "source": [
    "# Find meaningful descriptions: Get the most frequently used description for each StockCode\n",
    "stockcode_to_description = df[df[\"Description\"].notnull()].groupby(\"StockCode\")[\"Description\"].agg(lambda x: x.mode()[0])\n",
    "\n",
    "# Display a few mappings\n",
    "print(stockcode_to_description.head(10))\n",
    "\n",
    "df[\"Description\"] = df[\"Description\"].fillna(df[\"StockCode\"].map(stockcode_to_description))\n",
    "df.loc[df[\"Description\"] == \"??\", \"Description\"] = df[\"StockCode\"].map(stockcode_to_description)\n",
    "df.loc[df[\"Description\"] == \"?\", \"Description\"] = df[\"StockCode\"].map(stockcode_to_description)"
   ]
  },
  {
   "cell_type": "code",
   "execution_count": 527,
   "id": "e179a7b3-316f-4152-82a1-17f364683315",
   "metadata": {},
   "outputs": [
    {
     "name": "stdout",
     "output_type": "stream",
     "text": [
      "Number of null values for Description column after filna: 112\n"
     ]
    }
   ],
   "source": [
    "# Check for empty or null values\n",
    "print(f\"Number of null values for Description column after filna: {df[\"Description\"].isnull().sum()}\")"
   ]
  },
  {
   "cell_type": "code",
   "execution_count": 529,
   "id": "e11b22f9-7e98-49ca-a78e-c92ec0398287",
   "metadata": {},
   "outputs": [
    {
     "name": "stdout",
     "output_type": "stream",
     "text": [
      "Number of ?? values for Description column after filna: 0\n"
     ]
    }
   ],
   "source": [
    "# Check for '??' values\n",
    "print(f\"Number of ?? values for Description column after filna: {df[df[\"Description\"] == \"??\"].shape[0]}\")"
   ]
  },
  {
   "cell_type": "code",
   "execution_count": 531,
   "id": "ea9df916-1705-4b48-84e5-2ba54808edfb",
   "metadata": {},
   "outputs": [
    {
     "name": "stdout",
     "output_type": "stream",
     "text": [
      "Number of duplicate rows: 0\n"
     ]
    }
   ],
   "source": [
    "# Check for duplicate rows\n",
    "duplicate_rows = df[df.duplicated()]\n",
    "print(f\"Number of duplicate rows: {duplicate_rows.shape[0]}\")"
   ]
  },
  {
   "cell_type": "code",
   "execution_count": 533,
   "id": "18df1749-7b07-4726-bc01-353b5675e87c",
   "metadata": {},
   "outputs": [
    {
     "name": "stdout",
     "output_type": "stream",
     "text": [
      "Percentage of missing CustomerID values: 0.00%\n"
     ]
    }
   ],
   "source": [
    "null_percentage = (df[\"CustomerID\"].isnull().sum() / len(df)) * 100\n",
    "print(f\"Percentage of missing CustomerID values: {null_percentage:.2f}%\")"
   ]
  },
  {
   "cell_type": "code",
   "execution_count": 535,
   "id": "0117d07c-1510-44e3-b557-3d317b54d72d",
   "metadata": {},
   "outputs": [],
   "source": [
    "# Due to higer percentage of missing customer id values, this could be due to guest checkouts, return transactions or invalid transactions"
   ]
  },
  {
   "cell_type": "code",
   "execution_count": 639,
   "id": "3ee22729-7748-4774-995c-592861ec99d0",
   "metadata": {},
   "outputs": [
    {
     "name": "stdout",
     "output_type": "stream",
     "text": [
      "10624 rows with negative Quantity\n",
      "2517 rows with zero/negative UnitPrice\n"
     ]
    }
   ],
   "source": [
    "# Check for negative values in Quantity and UnitPrice\n",
    "print(df[df[\"Quantity\"] <= 0].shape[0], \"rows with negative Quantity\")\n",
    "print(df[df[\"UnitPrice\"] <= 0.0].shape[0], \"rows with zero/negative UnitPrice\")"
   ]
  },
  {
   "cell_type": "code",
   "execution_count": 641,
   "id": "7dd095f1-7f76-416c-95d6-5b81e7190afe",
   "metadata": {},
   "outputs": [
    {
     "name": "stdout",
     "output_type": "stream",
     "text": [
      "Rows with negative Quantity and missing CustomerID: 0\n",
      "Percentage of rows with zero/negative UnitPrice: 1.96%\n"
     ]
    },
    {
     "data": {
      "text/html": [
       "<div>\n",
       "<style scoped>\n",
       "    .dataframe tbody tr th:only-of-type {\n",
       "        vertical-align: middle;\n",
       "    }\n",
       "\n",
       "    .dataframe tbody tr th {\n",
       "        vertical-align: top;\n",
       "    }\n",
       "\n",
       "    .dataframe thead th {\n",
       "        text-align: right;\n",
       "    }\n",
       "</style>\n",
       "<table border=\"1\" class=\"dataframe\">\n",
       "  <thead>\n",
       "    <tr style=\"text-align: right;\">\n",
       "      <th></th>\n",
       "      <th>index</th>\n",
       "      <th>InvoiceNo</th>\n",
       "      <th>StockCode</th>\n",
       "      <th>Description</th>\n",
       "      <th>Quantity</th>\n",
       "      <th>InvoiceDate</th>\n",
       "      <th>UnitPrice</th>\n",
       "      <th>CustomerID</th>\n",
       "      <th>Country</th>\n",
       "    </tr>\n",
       "  </thead>\n",
       "  <tbody>\n",
       "  </tbody>\n",
       "</table>\n",
       "</div>"
      ],
      "text/plain": [
       "Empty DataFrame\n",
       "Columns: [index, InvoiceNo, StockCode, Description, Quantity, InvoiceDate, UnitPrice, CustomerID, Country]\n",
       "Index: []"
      ]
     },
     "execution_count": 641,
     "metadata": {},
     "output_type": "execute_result"
    }
   ],
   "source": [
    "# Check rows where Quantity is negative and CustomerID is null\n",
    "negative_quantity_null_customer = df[(df[\"Quantity\"] <= 0) & (df[\"CustomerID\"].isnull())]\n",
    "print(f\"Rows with negative Quantity and missing CustomerID: {negative_quantity_null_customer.shape[0]}\")\n",
    "\n",
    "unitprice_zero_negative_percentage = (df[df[\"Quantity\"] <= 0].shape[0] / len(df)) * 100\n",
    "print(f\"Percentage of rows with zero/negative UnitPrice: {unitprice_zero_negative_percentage:.2f}%\")\n",
    "\n",
    "negative_quantity_null_customer.head()"
   ]
  },
  {
   "cell_type": "code",
   "execution_count": 643,
   "id": "356b9489-1134-462c-a427-4d6e6cfee1b6",
   "metadata": {},
   "outputs": [
    {
     "name": "stdout",
     "output_type": "stream",
     "text": [
      "0 rows with negative Quantity\n",
      "0 rows with zero/negative UnitPrice\n"
     ]
    }
   ],
   "source": [
    "# Negative or Zero value for Quantity can be due to human error, returned transactions, order cancelations or any other reason. \n",
    "# Negative or Zero value for UnitPrice can be due to human error or any other reason. \n",
    "# Filter data frame excluding invalid quantities and invalid unit prices\n",
    "\n",
    "df_cleaned = df[(df['Quantity'] > 0) & (df['UnitPrice'] > 0.0)]\n",
    "print(df_cleaned[df_cleaned[\"Quantity\"] <= 0].shape[0], \"rows with negative Quantity\")\n",
    "print(df_cleaned[df_cleaned[\"UnitPrice\"] <= 0].shape[0], \"rows with zero/negative UnitPrice\")"
   ]
  },
  {
   "cell_type": "code",
   "execution_count": 645,
   "id": "833a81d3-32d0-49b6-8afb-24f2ee5e91c1",
   "metadata": {},
   "outputs": [
    {
     "name": "stdout",
     "output_type": "stream",
     "text": [
      "index          0\n",
      "InvoiceNo      0\n",
      "StockCode      0\n",
      "Description    0\n",
      "Quantity       0\n",
      "InvoiceDate    0\n",
      "UnitPrice      0\n",
      "CustomerID     0\n",
      "Country        0\n",
      "dtype: int64\n"
     ]
    }
   ],
   "source": [
    "print(df_cleaned.isnull().sum())  "
   ]
  },
  {
   "cell_type": "code",
   "execution_count": 667,
   "id": "8ae466b6-0303-443b-ac45-9487e6923438",
   "metadata": {},
   "outputs": [
    {
     "data": {
      "text/html": [
       "<div>\n",
       "<style scoped>\n",
       "    .dataframe tbody tr th:only-of-type {\n",
       "        vertical-align: middle;\n",
       "    }\n",
       "\n",
       "    .dataframe tbody tr th {\n",
       "        vertical-align: top;\n",
       "    }\n",
       "\n",
       "    .dataframe thead th {\n",
       "        text-align: right;\n",
       "    }\n",
       "</style>\n",
       "<table border=\"1\" class=\"dataframe\">\n",
       "  <thead>\n",
       "    <tr style=\"text-align: right;\">\n",
       "      <th></th>\n",
       "      <th>index</th>\n",
       "      <th>InvoiceNo</th>\n",
       "      <th>StockCode</th>\n",
       "      <th>Description</th>\n",
       "      <th>Quantity</th>\n",
       "      <th>InvoiceDate</th>\n",
       "      <th>UnitPrice</th>\n",
       "      <th>CustomerID</th>\n",
       "      <th>Country</th>\n",
       "    </tr>\n",
       "  </thead>\n",
       "  <tbody>\n",
       "  </tbody>\n",
       "</table>\n",
       "</div>"
      ],
      "text/plain": [
       "Empty DataFrame\n",
       "Columns: [index, InvoiceNo, StockCode, Description, Quantity, InvoiceDate, UnitPrice, CustomerID, Country]\n",
       "Index: []"
      ]
     },
     "execution_count": 667,
     "metadata": {},
     "output_type": "execute_result"
    }
   ],
   "source": [
    "filtered_df = df_cleaned[df_cleaned[\"UnitPrice\"] <= 0]\n",
    "filtered_df.head(10)"
   ]
  },
  {
   "cell_type": "code",
   "execution_count": 669,
   "id": "070a6e04-4688-4ab7-8db4-356f6e362668",
   "metadata": {},
   "outputs": [
    {
     "name": "stdout",
     "output_type": "stream",
     "text": [
      "Percentage of missing CustomerID values: 0.00%\n"
     ]
    }
   ],
   "source": [
    "null_percentage = (df_cleaned[\"CustomerID\"].isnull().sum() / len(df_cleaned)) * 100\n",
    "print(f\"Percentage of missing CustomerID values: {null_percentage:.2f}%\")"
   ]
  },
  {
   "cell_type": "code",
   "execution_count": 671,
   "id": "289324f0-faef-41fe-9fa1-6231e4507078",
   "metadata": {},
   "outputs": [
    {
     "name": "stdout",
     "output_type": "stream",
     "text": [
      "Number of invalid (zero as value) CustomerID: 135080\n"
     ]
    }
   ],
   "source": [
    "# Number of invalid customer ids\n",
    "# Count rows where CustomerID is 0\n",
    "invalid_customer_ids = (df[\"CustomerID\"] == 0).sum()\n",
    "\n",
    "# Print the result\n",
    "print(f\"Number of invalid (zero as value) CustomerID: {invalid_customer_ids}\")"
   ]
  },
  {
   "cell_type": "markdown",
   "id": "072ce25c-c1c7-4dfe-8797-8f859e31f786",
   "metadata": {},
   "source": [
    "## Descriptive Analysis"
   ]
  },
  {
   "cell_type": "code",
   "execution_count": 674,
   "id": "1f6b1b1c-d57f-4682-8bc0-71f417500612",
   "metadata": {},
   "outputs": [
    {
     "data": {
      "text/html": [
       "<div>\n",
       "<style scoped>\n",
       "    .dataframe tbody tr th:only-of-type {\n",
       "        vertical-align: middle;\n",
       "    }\n",
       "\n",
       "    .dataframe tbody tr th {\n",
       "        vertical-align: top;\n",
       "    }\n",
       "\n",
       "    .dataframe thead th {\n",
       "        text-align: right;\n",
       "    }\n",
       "</style>\n",
       "<table border=\"1\" class=\"dataframe\">\n",
       "  <thead>\n",
       "    <tr style=\"text-align: right;\">\n",
       "      <th></th>\n",
       "      <th>index</th>\n",
       "      <th>InvoiceNo</th>\n",
       "      <th>StockCode</th>\n",
       "      <th>Description</th>\n",
       "      <th>Quantity</th>\n",
       "      <th>InvoiceDate</th>\n",
       "      <th>UnitPrice</th>\n",
       "      <th>CustomerID</th>\n",
       "      <th>Country</th>\n",
       "    </tr>\n",
       "  </thead>\n",
       "  <tbody>\n",
       "    <tr>\n",
       "      <th>0</th>\n",
       "      <td>0</td>\n",
       "      <td>536365</td>\n",
       "      <td>85123A</td>\n",
       "      <td>WHITE HANGING HEART T-LIGHT HOLDER</td>\n",
       "      <td>6</td>\n",
       "      <td>2010-12-01 08:26:00</td>\n",
       "      <td>2.55</td>\n",
       "      <td>17850</td>\n",
       "      <td>United Kingdom</td>\n",
       "    </tr>\n",
       "    <tr>\n",
       "      <th>1</th>\n",
       "      <td>1</td>\n",
       "      <td>536365</td>\n",
       "      <td>71053</td>\n",
       "      <td>WHITE METAL LANTERN</td>\n",
       "      <td>6</td>\n",
       "      <td>2010-12-01 08:26:00</td>\n",
       "      <td>3.39</td>\n",
       "      <td>17850</td>\n",
       "      <td>United Kingdom</td>\n",
       "    </tr>\n",
       "    <tr>\n",
       "      <th>2</th>\n",
       "      <td>2</td>\n",
       "      <td>536365</td>\n",
       "      <td>84406B</td>\n",
       "      <td>CREAM CUPID HEARTS COAT HANGER</td>\n",
       "      <td>8</td>\n",
       "      <td>2010-12-01 08:26:00</td>\n",
       "      <td>2.75</td>\n",
       "      <td>17850</td>\n",
       "      <td>United Kingdom</td>\n",
       "    </tr>\n",
       "    <tr>\n",
       "      <th>3</th>\n",
       "      <td>3</td>\n",
       "      <td>536365</td>\n",
       "      <td>84029G</td>\n",
       "      <td>KNITTED UNION FLAG HOT WATER BOTTLE</td>\n",
       "      <td>6</td>\n",
       "      <td>2010-12-01 08:26:00</td>\n",
       "      <td>3.39</td>\n",
       "      <td>17850</td>\n",
       "      <td>United Kingdom</td>\n",
       "    </tr>\n",
       "    <tr>\n",
       "      <th>4</th>\n",
       "      <td>4</td>\n",
       "      <td>536365</td>\n",
       "      <td>84029E</td>\n",
       "      <td>RED WOOLLY HOTTIE WHITE HEART.</td>\n",
       "      <td>6</td>\n",
       "      <td>2010-12-01 08:26:00</td>\n",
       "      <td>3.39</td>\n",
       "      <td>17850</td>\n",
       "      <td>United Kingdom</td>\n",
       "    </tr>\n",
       "  </tbody>\n",
       "</table>\n",
       "</div>"
      ],
      "text/plain": [
       "   index InvoiceNo StockCode                          Description  Quantity  \\\n",
       "0      0    536365    85123A   WHITE HANGING HEART T-LIGHT HOLDER         6   \n",
       "1      1    536365     71053                  WHITE METAL LANTERN         6   \n",
       "2      2    536365    84406B       CREAM CUPID HEARTS COAT HANGER         8   \n",
       "3      3    536365    84029G  KNITTED UNION FLAG HOT WATER BOTTLE         6   \n",
       "4      4    536365    84029E       RED WOOLLY HOTTIE WHITE HEART.         6   \n",
       "\n",
       "          InvoiceDate  UnitPrice  CustomerID         Country  \n",
       "0 2010-12-01 08:26:00       2.55       17850  United Kingdom  \n",
       "1 2010-12-01 08:26:00       3.39       17850  United Kingdom  \n",
       "2 2010-12-01 08:26:00       2.75       17850  United Kingdom  \n",
       "3 2010-12-01 08:26:00       3.39       17850  United Kingdom  \n",
       "4 2010-12-01 08:26:00       3.39       17850  United Kingdom  "
      ]
     },
     "execution_count": 674,
     "metadata": {},
     "output_type": "execute_result"
    }
   ],
   "source": [
    "df_cleaned.head()"
   ]
  },
  {
   "cell_type": "code",
   "execution_count": 676,
   "id": "c2d7e067-528a-4b52-b2dc-064b3702b054",
   "metadata": {},
   "outputs": [
    {
     "data": {
      "text/html": [
       "<div>\n",
       "<style scoped>\n",
       "    .dataframe tbody tr th:only-of-type {\n",
       "        vertical-align: middle;\n",
       "    }\n",
       "\n",
       "    .dataframe tbody tr th {\n",
       "        vertical-align: top;\n",
       "    }\n",
       "\n",
       "    .dataframe thead th {\n",
       "        text-align: right;\n",
       "    }\n",
       "</style>\n",
       "<table border=\"1\" class=\"dataframe\">\n",
       "  <thead>\n",
       "    <tr style=\"text-align: right;\">\n",
       "      <th></th>\n",
       "      <th>index</th>\n",
       "      <th>Quantity</th>\n",
       "      <th>InvoiceDate</th>\n",
       "      <th>UnitPrice</th>\n",
       "      <th>CustomerID</th>\n",
       "    </tr>\n",
       "  </thead>\n",
       "  <tbody>\n",
       "    <tr>\n",
       "      <th>count</th>\n",
       "      <td>530104.000000</td>\n",
       "      <td>530104.000000</td>\n",
       "      <td>530104</td>\n",
       "      <td>530104.000000</td>\n",
       "      <td>530104.000000</td>\n",
       "    </tr>\n",
       "    <tr>\n",
       "      <th>mean</th>\n",
       "      <td>271365.705603</td>\n",
       "      <td>10.542037</td>\n",
       "      <td>2011-07-04 20:16:05.225087744</td>\n",
       "      <td>3.907625</td>\n",
       "      <td>11479.646222</td>\n",
       "    </tr>\n",
       "    <tr>\n",
       "      <th>min</th>\n",
       "      <td>0.000000</td>\n",
       "      <td>1.000000</td>\n",
       "      <td>2010-12-01 08:26:00</td>\n",
       "      <td>0.001000</td>\n",
       "      <td>0.000000</td>\n",
       "    </tr>\n",
       "    <tr>\n",
       "      <th>25%</th>\n",
       "      <td>135688.750000</td>\n",
       "      <td>1.000000</td>\n",
       "      <td>2011-03-28 12:22:00</td>\n",
       "      <td>1.250000</td>\n",
       "      <td>12352.000000</td>\n",
       "    </tr>\n",
       "    <tr>\n",
       "      <th>50%</th>\n",
       "      <td>271600.500000</td>\n",
       "      <td>3.000000</td>\n",
       "      <td>2011-07-20 12:58:00</td>\n",
       "      <td>2.080000</td>\n",
       "      <td>14388.000000</td>\n",
       "    </tr>\n",
       "    <tr>\n",
       "      <th>75%</th>\n",
       "      <td>407182.250000</td>\n",
       "      <td>10.000000</td>\n",
       "      <td>2011-10-19 12:39:00</td>\n",
       "      <td>4.130000</td>\n",
       "      <td>16265.000000</td>\n",
       "    </tr>\n",
       "    <tr>\n",
       "      <th>max</th>\n",
       "      <td>541908.000000</td>\n",
       "      <td>80995.000000</td>\n",
       "      <td>2011-12-09 12:50:00</td>\n",
       "      <td>13541.330000</td>\n",
       "      <td>18287.000000</td>\n",
       "    </tr>\n",
       "    <tr>\n",
       "      <th>std</th>\n",
       "      <td>156559.013587</td>\n",
       "      <td>155.524124</td>\n",
       "      <td>NaN</td>\n",
       "      <td>35.915681</td>\n",
       "      <td>6781.976768</td>\n",
       "    </tr>\n",
       "  </tbody>\n",
       "</table>\n",
       "</div>"
      ],
      "text/plain": [
       "               index       Quantity                    InvoiceDate  \\\n",
       "count  530104.000000  530104.000000                         530104   \n",
       "mean   271365.705603      10.542037  2011-07-04 20:16:05.225087744   \n",
       "min         0.000000       1.000000            2010-12-01 08:26:00   \n",
       "25%    135688.750000       1.000000            2011-03-28 12:22:00   \n",
       "50%    271600.500000       3.000000            2011-07-20 12:58:00   \n",
       "75%    407182.250000      10.000000            2011-10-19 12:39:00   \n",
       "max    541908.000000   80995.000000            2011-12-09 12:50:00   \n",
       "std    156559.013587     155.524124                            NaN   \n",
       "\n",
       "           UnitPrice     CustomerID  \n",
       "count  530104.000000  530104.000000  \n",
       "mean        3.907625   11479.646222  \n",
       "min         0.001000       0.000000  \n",
       "25%         1.250000   12352.000000  \n",
       "50%         2.080000   14388.000000  \n",
       "75%         4.130000   16265.000000  \n",
       "max     13541.330000   18287.000000  \n",
       "std        35.915681    6781.976768  "
      ]
     },
     "execution_count": 676,
     "metadata": {},
     "output_type": "execute_result"
    }
   ],
   "source": [
    "df_cleaned.describe()"
   ]
  },
  {
   "cell_type": "markdown",
   "id": "a4374a24-5225-47a3-9df8-d026e923a6f5",
   "metadata": {},
   "source": [
    "### Visualize distributions of numerical features using histograms "
   ]
  },
  {
   "cell_type": "markdown",
   "id": "cf722c49-239e-4185-a223-9b3fecc47c20",
   "metadata": {},
   "source": [
    "#### Introduce Total Amount based on the Quantity and UnitPrice"
   ]
  },
  {
   "cell_type": "code",
   "execution_count": 680,
   "id": "2906658d-6bd6-4209-b86e-7aaa569c79f8",
   "metadata": {},
   "outputs": [
    {
     "name": "stderr",
     "output_type": "stream",
     "text": [
      "/var/folders/0p/29y5gpjs09jd6rt_9jltqj7w0000gn/T/ipykernel_52427/2071856700.py:1: SettingWithCopyWarning: \n",
      "A value is trying to be set on a copy of a slice from a DataFrame.\n",
      "Try using .loc[row_indexer,col_indexer] = value instead\n",
      "\n",
      "See the caveats in the documentation: https://pandas.pydata.org/pandas-docs/stable/user_guide/indexing.html#returning-a-view-versus-a-copy\n",
      "  df_cleaned['TotalAmount'] = df_cleaned['Quantity'] * df_cleaned['UnitPrice']\n"
     ]
    }
   ],
   "source": [
    "df_cleaned['TotalAmount'] = df_cleaned['Quantity'] * df_cleaned['UnitPrice']"
   ]
  },
  {
   "cell_type": "code",
   "execution_count": 682,
   "id": "96a554d6-2f47-4d96-a5eb-32e3a4bdcf09",
   "metadata": {},
   "outputs": [
    {
     "data": {
      "text/html": [
       "<div>\n",
       "<style scoped>\n",
       "    .dataframe tbody tr th:only-of-type {\n",
       "        vertical-align: middle;\n",
       "    }\n",
       "\n",
       "    .dataframe tbody tr th {\n",
       "        vertical-align: top;\n",
       "    }\n",
       "\n",
       "    .dataframe thead th {\n",
       "        text-align: right;\n",
       "    }\n",
       "</style>\n",
       "<table border=\"1\" class=\"dataframe\">\n",
       "  <thead>\n",
       "    <tr style=\"text-align: right;\">\n",
       "      <th></th>\n",
       "      <th>index</th>\n",
       "      <th>InvoiceNo</th>\n",
       "      <th>StockCode</th>\n",
       "      <th>Description</th>\n",
       "      <th>Quantity</th>\n",
       "      <th>InvoiceDate</th>\n",
       "      <th>UnitPrice</th>\n",
       "      <th>CustomerID</th>\n",
       "      <th>Country</th>\n",
       "      <th>TotalAmount</th>\n",
       "    </tr>\n",
       "  </thead>\n",
       "  <tbody>\n",
       "    <tr>\n",
       "      <th>0</th>\n",
       "      <td>0</td>\n",
       "      <td>536365</td>\n",
       "      <td>85123A</td>\n",
       "      <td>WHITE HANGING HEART T-LIGHT HOLDER</td>\n",
       "      <td>6</td>\n",
       "      <td>2010-12-01 08:26:00</td>\n",
       "      <td>2.55</td>\n",
       "      <td>17850</td>\n",
       "      <td>United Kingdom</td>\n",
       "      <td>15.30</td>\n",
       "    </tr>\n",
       "    <tr>\n",
       "      <th>1</th>\n",
       "      <td>1</td>\n",
       "      <td>536365</td>\n",
       "      <td>71053</td>\n",
       "      <td>WHITE METAL LANTERN</td>\n",
       "      <td>6</td>\n",
       "      <td>2010-12-01 08:26:00</td>\n",
       "      <td>3.39</td>\n",
       "      <td>17850</td>\n",
       "      <td>United Kingdom</td>\n",
       "      <td>20.34</td>\n",
       "    </tr>\n",
       "    <tr>\n",
       "      <th>2</th>\n",
       "      <td>2</td>\n",
       "      <td>536365</td>\n",
       "      <td>84406B</td>\n",
       "      <td>CREAM CUPID HEARTS COAT HANGER</td>\n",
       "      <td>8</td>\n",
       "      <td>2010-12-01 08:26:00</td>\n",
       "      <td>2.75</td>\n",
       "      <td>17850</td>\n",
       "      <td>United Kingdom</td>\n",
       "      <td>22.00</td>\n",
       "    </tr>\n",
       "    <tr>\n",
       "      <th>3</th>\n",
       "      <td>3</td>\n",
       "      <td>536365</td>\n",
       "      <td>84029G</td>\n",
       "      <td>KNITTED UNION FLAG HOT WATER BOTTLE</td>\n",
       "      <td>6</td>\n",
       "      <td>2010-12-01 08:26:00</td>\n",
       "      <td>3.39</td>\n",
       "      <td>17850</td>\n",
       "      <td>United Kingdom</td>\n",
       "      <td>20.34</td>\n",
       "    </tr>\n",
       "    <tr>\n",
       "      <th>4</th>\n",
       "      <td>4</td>\n",
       "      <td>536365</td>\n",
       "      <td>84029E</td>\n",
       "      <td>RED WOOLLY HOTTIE WHITE HEART.</td>\n",
       "      <td>6</td>\n",
       "      <td>2010-12-01 08:26:00</td>\n",
       "      <td>3.39</td>\n",
       "      <td>17850</td>\n",
       "      <td>United Kingdom</td>\n",
       "      <td>20.34</td>\n",
       "    </tr>\n",
       "  </tbody>\n",
       "</table>\n",
       "</div>"
      ],
      "text/plain": [
       "   index InvoiceNo StockCode                          Description  Quantity  \\\n",
       "0      0    536365    85123A   WHITE HANGING HEART T-LIGHT HOLDER         6   \n",
       "1      1    536365     71053                  WHITE METAL LANTERN         6   \n",
       "2      2    536365    84406B       CREAM CUPID HEARTS COAT HANGER         8   \n",
       "3      3    536365    84029G  KNITTED UNION FLAG HOT WATER BOTTLE         6   \n",
       "4      4    536365    84029E       RED WOOLLY HOTTIE WHITE HEART.         6   \n",
       "\n",
       "          InvoiceDate  UnitPrice  CustomerID         Country  TotalAmount  \n",
       "0 2010-12-01 08:26:00       2.55       17850  United Kingdom        15.30  \n",
       "1 2010-12-01 08:26:00       3.39       17850  United Kingdom        20.34  \n",
       "2 2010-12-01 08:26:00       2.75       17850  United Kingdom        22.00  \n",
       "3 2010-12-01 08:26:00       3.39       17850  United Kingdom        20.34  \n",
       "4 2010-12-01 08:26:00       3.39       17850  United Kingdom        20.34  "
      ]
     },
     "execution_count": 682,
     "metadata": {},
     "output_type": "execute_result"
    }
   ],
   "source": [
    "df_cleaned.head()"
   ]
  },
  {
   "cell_type": "code",
   "execution_count": 684,
   "id": "f5619516-45e1-4a99-9343-524d5d730855",
   "metadata": {},
   "outputs": [
    {
     "data": {
      "text/plain": [
       "index                   int64\n",
       "InvoiceNo              object\n",
       "StockCode              object\n",
       "Description            object\n",
       "Quantity                int64\n",
       "InvoiceDate    datetime64[ns]\n",
       "UnitPrice             float64\n",
       "CustomerID              int64\n",
       "Country                object\n",
       "TotalAmount           float64\n",
       "dtype: object"
      ]
     },
     "execution_count": 684,
     "metadata": {},
     "output_type": "execute_result"
    }
   ],
   "source": [
    "df_cleaned.dtypes"
   ]
  },
  {
   "cell_type": "code",
   "execution_count": 686,
   "id": "abab7564-b47a-4b8d-913f-1f0c76d65895",
   "metadata": {},
   "outputs": [
    {
     "data": {
      "text/html": [
       "<div>\n",
       "<style scoped>\n",
       "    .dataframe tbody tr th:only-of-type {\n",
       "        vertical-align: middle;\n",
       "    }\n",
       "\n",
       "    .dataframe tbody tr th {\n",
       "        vertical-align: top;\n",
       "    }\n",
       "\n",
       "    .dataframe thead th {\n",
       "        text-align: right;\n",
       "    }\n",
       "</style>\n",
       "<table border=\"1\" class=\"dataframe\">\n",
       "  <thead>\n",
       "    <tr style=\"text-align: right;\">\n",
       "      <th></th>\n",
       "      <th>TotalAmount</th>\n",
       "      <th>UnitPrice</th>\n",
       "      <th>Quantity</th>\n",
       "    </tr>\n",
       "  </thead>\n",
       "  <tbody>\n",
       "    <tr>\n",
       "      <th>count</th>\n",
       "      <td>530104.000000</td>\n",
       "      <td>530104.000000</td>\n",
       "      <td>530104.000000</td>\n",
       "    </tr>\n",
       "    <tr>\n",
       "      <th>mean</th>\n",
       "      <td>20.121871</td>\n",
       "      <td>3.907625</td>\n",
       "      <td>10.542037</td>\n",
       "    </tr>\n",
       "    <tr>\n",
       "      <th>std</th>\n",
       "      <td>270.356743</td>\n",
       "      <td>35.915681</td>\n",
       "      <td>155.524124</td>\n",
       "    </tr>\n",
       "    <tr>\n",
       "      <th>min</th>\n",
       "      <td>0.001000</td>\n",
       "      <td>0.001000</td>\n",
       "      <td>1.000000</td>\n",
       "    </tr>\n",
       "    <tr>\n",
       "      <th>25%</th>\n",
       "      <td>3.750000</td>\n",
       "      <td>1.250000</td>\n",
       "      <td>1.000000</td>\n",
       "    </tr>\n",
       "    <tr>\n",
       "      <th>50%</th>\n",
       "      <td>9.900000</td>\n",
       "      <td>2.080000</td>\n",
       "      <td>3.000000</td>\n",
       "    </tr>\n",
       "    <tr>\n",
       "      <th>75%</th>\n",
       "      <td>17.700000</td>\n",
       "      <td>4.130000</td>\n",
       "      <td>10.000000</td>\n",
       "    </tr>\n",
       "    <tr>\n",
       "      <th>max</th>\n",
       "      <td>168469.600000</td>\n",
       "      <td>13541.330000</td>\n",
       "      <td>80995.000000</td>\n",
       "    </tr>\n",
       "  </tbody>\n",
       "</table>\n",
       "</div>"
      ],
      "text/plain": [
       "         TotalAmount      UnitPrice       Quantity\n",
       "count  530104.000000  530104.000000  530104.000000\n",
       "mean       20.121871       3.907625      10.542037\n",
       "std       270.356743      35.915681     155.524124\n",
       "min         0.001000       0.001000       1.000000\n",
       "25%         3.750000       1.250000       1.000000\n",
       "50%         9.900000       2.080000       3.000000\n",
       "75%        17.700000       4.130000      10.000000\n",
       "max    168469.600000   13541.330000   80995.000000"
      ]
     },
     "execution_count": 686,
     "metadata": {},
     "output_type": "execute_result"
    }
   ],
   "source": [
    "# Summary statistics for numerical columns\n",
    "df_cleaned[[\"TotalAmount\", \"UnitPrice\", \"Quantity\"]].describe()"
   ]
  },
  {
   "cell_type": "code",
   "execution_count": null,
   "id": "5ae39cd4-e89e-4079-a13f-08489c27bc42",
   "metadata": {},
   "outputs": [],
   "source": []
  },
  {
   "cell_type": "markdown",
   "id": "25757ebf-232e-47de-9adc-6022d2a91410",
   "metadata": {},
   "source": [
    "#### Detecting Skewed Data"
   ]
  },
  {
   "cell_type": "code",
   "execution_count": 690,
   "id": "e2a1b93c-800b-446c-a502-6a2062e0bfe3",
   "metadata": {},
   "outputs": [
    {
     "data": {
      "text/plain": [
       "TotalAmount    506.706012\n",
       "UnitPrice      206.087555\n",
       "Quantity       471.727716\n",
       "dtype: float64"
      ]
     },
     "execution_count": 690,
     "metadata": {},
     "output_type": "execute_result"
    }
   ],
   "source": [
    "# Check skewness\n",
    "df_cleaned[[\"TotalAmount\", \"UnitPrice\", \"Quantity\"]].skew()"
   ]
  },
  {
   "cell_type": "markdown",
   "id": "f6fbd413-548f-4eff-af9f-7c5533512b14",
   "metadata": {},
   "source": [
    "#### Correlation Between Numerical Features"
   ]
  },
  {
   "cell_type": "code",
   "execution_count": 693,
   "id": "7d715d27-fb20-4fb3-999f-1d470821c345",
   "metadata": {},
   "outputs": [
    {
     "data": {
      "text/html": [
       "<div>\n",
       "<style scoped>\n",
       "    .dataframe tbody tr th:only-of-type {\n",
       "        vertical-align: middle;\n",
       "    }\n",
       "\n",
       "    .dataframe tbody tr th {\n",
       "        vertical-align: top;\n",
       "    }\n",
       "\n",
       "    .dataframe thead th {\n",
       "        text-align: right;\n",
       "    }\n",
       "</style>\n",
       "<table border=\"1\" class=\"dataframe\">\n",
       "  <thead>\n",
       "    <tr style=\"text-align: right;\">\n",
       "      <th></th>\n",
       "      <th>TotalAmount</th>\n",
       "      <th>UnitPrice</th>\n",
       "      <th>Quantity</th>\n",
       "    </tr>\n",
       "  </thead>\n",
       "  <tbody>\n",
       "    <tr>\n",
       "      <th>TotalAmount</th>\n",
       "      <td>1.000000</td>\n",
       "      <td>0.137404</td>\n",
       "      <td>0.907338</td>\n",
       "    </tr>\n",
       "    <tr>\n",
       "      <th>UnitPrice</th>\n",
       "      <td>0.137404</td>\n",
       "      <td>1.000000</td>\n",
       "      <td>-0.003773</td>\n",
       "    </tr>\n",
       "    <tr>\n",
       "      <th>Quantity</th>\n",
       "      <td>0.907338</td>\n",
       "      <td>-0.003773</td>\n",
       "      <td>1.000000</td>\n",
       "    </tr>\n",
       "  </tbody>\n",
       "</table>\n",
       "</div>"
      ],
      "text/plain": [
       "             TotalAmount  UnitPrice  Quantity\n",
       "TotalAmount     1.000000   0.137404  0.907338\n",
       "UnitPrice       0.137404   1.000000 -0.003773\n",
       "Quantity        0.907338  -0.003773  1.000000"
      ]
     },
     "execution_count": 693,
     "metadata": {},
     "output_type": "execute_result"
    }
   ],
   "source": [
    "# Compute correlation matrix\n",
    "df_cleaned[[\"TotalAmount\", \"UnitPrice\", \"Quantity\"]].corr()"
   ]
  },
  {
   "cell_type": "code",
   "execution_count": 695,
   "id": "a39b3cd0-3e7f-4b5f-93ed-e60818608008",
   "metadata": {},
   "outputs": [
    {
     "data": {
      "text/plain": [
       "TotalAmount    42651\n",
       "UnitPrice      37999\n",
       "Quantity       56363\n",
       "dtype: int64"
      ]
     },
     "execution_count": 695,
     "metadata": {},
     "output_type": "execute_result"
    }
   ],
   "source": [
    "# Calculate IQR\n",
    "Q1 = df_cleaned[[\"TotalAmount\", \"UnitPrice\", \"Quantity\"]].quantile(0.25)\n",
    "Q3 = df_cleaned[[\"TotalAmount\", \"UnitPrice\", \"Quantity\"]].quantile(0.75)\n",
    "IQR = Q3 - Q1\n",
    "\n",
    "# Define outliers (1.5*IQR rule)\n",
    "outliers = ((df_cleaned[[\"TotalAmount\", \"UnitPrice\", \"Quantity\"]] < (Q1 - 1.5 * IQR)) | \n",
    "            (df_cleaned[[\"TotalAmount\", \"UnitPrice\", \"Quantity\"]] > (Q3 + 1.5 * IQR)))\n",
    "\n",
    "# Count outliers per column\n",
    "outliers.sum()"
   ]
  },
  {
   "cell_type": "markdown",
   "id": "09bdbee0-4859-4725-b45b-e75700332dbe",
   "metadata": {},
   "source": [
    "#### Detecting outliers of Quantity"
   ]
  },
  {
   "cell_type": "code",
   "execution_count": 698,
   "id": "7069f2f4-cc76-4fa3-9d8f-13e864464513",
   "metadata": {},
   "outputs": [
    {
     "data": {
      "image/png": "[encoded data removed]",
      "text/plain": [
       "<Figure size 800x500 with 1 Axes>"
      ]
     },
     "metadata": {},
     "output_type": "display_data"
    }
   ],
   "source": [
    "plt.figure(figsize=(8, 5))\n",
    "sns.boxplot(x=df_cleaned[\"Quantity\"], color=\"lightcoral\")\n",
    "plt.xlabel(\"Quantity Purchased\")\n",
    "plt.title(\"Boxplot of Quantity Purchased (Outlier Detection)\")\n",
    "plt.show()"
   ]
  },
  {
   "cell_type": "code",
   "execution_count": 714,
   "id": "dc37218b-c8c3-4b30-820c-612ee66ba3ba",
   "metadata": {},
   "outputs": [
    {
     "name": "stdout",
     "output_type": "stream",
     "text": [
      "Q1:Quantity    1.0\n",
      "Name: 0.25, dtype: float64\n",
      "Q3:Quantity    6.0\n",
      "Name: 0.75, dtype: float64\n",
      "IQR:Quantity    5.0\n",
      "dtype: float64\n",
      "lower_bound: Quantity   -6.5\n",
      "dtype: float64\n",
      "upper_bound: Quantity    13.5\n",
      "dtype: float64\n",
      "Quantity    13213\n",
      "dtype: int64\n"
     ]
    }
   ],
   "source": [
    "# Calculate IQR\n",
    "Q1 = df_cleaned[[\"Quantity\"]].quantile(0.25)\n",
    "print(f\"Q1:{Q1}\")\n",
    "Q3 = df_cleaned[[\"Quantity\"]].quantile(0.75)\n",
    "print(f\"Q3:{Q3}\")\n",
    "IQR = Q3 - Q1\n",
    "print(f\"IQR:{IQR}\")\n",
    "\n",
    "lower_bound = Q1 - (1.5 * IQR) \n",
    "upper_bound = Q3 + (1.5 * IQR) \n",
    "\n",
    "print(f\"lower_bound: {lower_bound}\")\n",
    "print(f\"upper_bound: {upper_bound}\")\n",
    "\n",
    "# Define outliers (1.5*IQR rule)\n",
    "outliers_top = ((df_cleaned[[\"Quantity\"]] > (upper_bound)))\n",
    "\n",
    "print(outliers_top.sum())"
   ]
  },
  {
   "cell_type": "code",
   "execution_count": 722,
   "id": "901cf817-3a9d-4a5d-9d13-12965c56bf3c",
   "metadata": {},
   "outputs": [],
   "source": [
    "upper_bound_value = upper_bound.iloc[0]  # Extract scalar value\n",
    "df_cleaned = df_cleaned[df_cleaned[\"Quantity\"] < int(upper_bound_value)]"
   ]
  },
  {
   "cell_type": "code",
   "execution_count": 724,
   "id": "3d91c413-ca74-4b90-b0ce-eb18d978fc40",
   "metadata": {},
   "outputs": [
    {
     "data": {
      "image/png": "[encoded data removed]",
      "text/plain": [
       "<Figure size 800x500 with 1 Axes>"
      ]
     },
     "metadata": {},
     "output_type": "display_data"
    }
   ],
   "source": [
    "plt.figure(figsize=(8, 5))\n",
    "sns.boxplot(x=df_cleaned[\"Quantity\"], color=\"lightcoral\")\n",
    "plt.xlabel(\"Quantity Purchased\")\n",
    "plt.title(\"Boxplot of Quantity Purchased (Outlier Detection)\")\n",
    "plt.show()"
   ]
  },
  {
   "cell_type": "code",
   "execution_count": 728,
   "id": "9e90fd9b-0d7f-4395-a73f-585994f2bdb7",
   "metadata": {},
   "outputs": [
    {
     "data": {
      "image/png": "[encoded data removed]",
      "text/plain": [
       "<Figure size 800x500 with 1 Axes>"
      ]
     },
     "metadata": {},
     "output_type": "display_data"
    }
   ],
   "source": [
    "plt.figure(figsize=(8, 5))\n",
    "sns.boxplot(x=df_cleaned[\"UnitPrice\"], color=\"lightcoral\")\n",
    "plt.xlabel(\"UnitPrice Purchased\")\n",
    "plt.title(\"Boxplot of UnitPrice Purchased (Outlier Detection)\")\n",
    "plt.show()"
   ]
  },
  {
   "cell_type": "code",
   "execution_count": 730,
   "id": "d60897b3-5192-4765-8bed-a23d07f65111",
   "metadata": {},
   "outputs": [
    {
     "name": "stdout",
     "output_type": "stream",
     "text": [
      "(3, 10)\n"
     ]
    }
   ],
   "source": [
    "temp = df_cleaned[df_cleaned[\"UnitPrice\"] > 6000]\n",
    "print(temp.shape)"
   ]
  },
  {
   "cell_type": "code",
   "execution_count": 744,
   "id": "b671f618-84fd-4ab2-8b87-724be2f97dd4",
   "metadata": {},
   "outputs": [
    {
     "data": {
      "text/html": [
       "<div>\n",
       "<style scoped>\n",
       "    .dataframe tbody tr th:only-of-type {\n",
       "        vertical-align: middle;\n",
       "    }\n",
       "\n",
       "    .dataframe tbody tr th {\n",
       "        vertical-align: top;\n",
       "    }\n",
       "\n",
       "    .dataframe thead th {\n",
       "        text-align: right;\n",
       "    }\n",
       "</style>\n",
       "<table border=\"1\" class=\"dataframe\">\n",
       "  <thead>\n",
       "    <tr style=\"text-align: right;\">\n",
       "      <th></th>\n",
       "      <th>index</th>\n",
       "      <th>InvoiceNo</th>\n",
       "      <th>StockCode</th>\n",
       "      <th>Description</th>\n",
       "      <th>Quantity</th>\n",
       "      <th>InvoiceDate</th>\n",
       "      <th>UnitPrice</th>\n",
       "      <th>CustomerID</th>\n",
       "      <th>Country</th>\n",
       "      <th>TotalAmount</th>\n",
       "    </tr>\n",
       "  </thead>\n",
       "  <tbody>\n",
       "    <tr>\n",
       "      <th>15017</th>\n",
       "      <td>15017</td>\n",
       "      <td>537632</td>\n",
       "      <td>AMAZONFEE</td>\n",
       "      <td>AMAZON FEE</td>\n",
       "      <td>1</td>\n",
       "      <td>2010-12-07 15:08:00</td>\n",
       "      <td>13541.33</td>\n",
       "      <td>0</td>\n",
       "      <td>United Kingdom</td>\n",
       "      <td>13541.33</td>\n",
       "    </tr>\n",
       "    <tr>\n",
       "      <th>173382</th>\n",
       "      <td>173382</td>\n",
       "      <td>551697</td>\n",
       "      <td>POST</td>\n",
       "      <td>POSTAGE</td>\n",
       "      <td>1</td>\n",
       "      <td>2011-05-03 13:46:00</td>\n",
       "      <td>8142.75</td>\n",
       "      <td>16029</td>\n",
       "      <td>United Kingdom</td>\n",
       "      <td>8142.75</td>\n",
       "    </tr>\n",
       "    <tr>\n",
       "      <th>299982</th>\n",
       "      <td>299982</td>\n",
       "      <td>A563185</td>\n",
       "      <td>B</td>\n",
       "      <td>Adjust bad debt</td>\n",
       "      <td>1</td>\n",
       "      <td>2011-08-12 14:50:00</td>\n",
       "      <td>11062.06</td>\n",
       "      <td>0</td>\n",
       "      <td>United Kingdom</td>\n",
       "      <td>11062.06</td>\n",
       "    </tr>\n",
       "  </tbody>\n",
       "</table>\n",
       "</div>"
      ],
      "text/plain": [
       "         index InvoiceNo  StockCode      Description  Quantity  \\\n",
       "15017    15017    537632  AMAZONFEE       AMAZON FEE         1   \n",
       "173382  173382    551697       POST          POSTAGE         1   \n",
       "299982  299982   A563185          B  Adjust bad debt         1   \n",
       "\n",
       "               InvoiceDate  UnitPrice  CustomerID         Country  TotalAmount  \n",
       "15017  2010-12-07 15:08:00   13541.33           0  United Kingdom     13541.33  \n",
       "173382 2011-05-03 13:46:00    8142.75       16029  United Kingdom      8142.75  \n",
       "299982 2011-08-12 14:50:00   11062.06           0  United Kingdom     11062.06  "
      ]
     },
     "execution_count": 744,
     "metadata": {},
     "output_type": "execute_result"
    }
   ],
   "source": [
    "temp = df_cleaned[df_cleaned[\"UnitPrice\"] > 6000]\n",
    "temp.head(10)"
   ]
  },
  {
   "cell_type": "code",
   "execution_count": 746,
   "id": "3f41000c-dfdb-418c-9f06-468fce4ab7a3",
   "metadata": {},
   "outputs": [],
   "source": [
    "df_cleaned = df_cleaned[df_cleaned[\"UnitPrice\"] < 6000]"
   ]
  },
  {
   "cell_type": "code",
   "execution_count": 748,
   "id": "6b099a0c-2390-49f0-9d0f-30dc87aede2e",
   "metadata": {},
   "outputs": [
    {
     "data": {
      "image/png": "[encoded data removed]",
      "text/plain": [
       "<Figure size 800x500 with 1 Axes>"
      ]
     },
     "metadata": {},
     "output_type": "display_data"
    }
   ],
   "source": [
    "plt.figure(figsize=(8, 5))\n",
    "sns.boxplot(x=df_cleaned[\"UnitPrice\"], color=\"lightcoral\")\n",
    "plt.xlabel(\"UnitPrice Purchased\")\n",
    "plt.title(\"Boxplot of UnitPrice Purchased (Outlier Detection)\")\n",
    "plt.show()"
   ]
  },
  {
   "cell_type": "code",
   "execution_count": 594,
   "id": "1d46c7d6-d406-4b58-9e4d-384f298f0ee8",
   "metadata": {},
   "outputs": [],
   "source": [
    "#df_cleaned = df_cleaned[df_cleaned[\"UnitPrice\"] < 2500]"
   ]
  },
  {
   "cell_type": "code",
   "execution_count": 596,
   "id": "d7e46c19-5ea6-4a72-b362-49daec7d6ef6",
   "metadata": {},
   "outputs": [
    {
     "name": "stdout",
     "output_type": "stream",
     "text": [
      "(11, 10)\n"
     ]
    }
   ],
   "source": [
    "#temp = df_cleaned[df_cleaned[\"Quantity\"] > 2500]\n",
    "#print(temp.shape)"
   ]
  },
  {
   "cell_type": "code",
   "execution_count": 750,
   "id": "5a6463b2-06cc-4ea5-85a9-f823455730f1",
   "metadata": {},
   "outputs": [
    {
     "data": {
      "image/png": "[encoded data removed]",
      "text/plain": [
       "<Figure size 800x500 with 1 Axes>"
      ]
     },
     "metadata": {},
     "output_type": "display_data"
    }
   ],
   "source": [
    "plt.figure(figsize=(8, 5))\n",
    "sns.boxplot(x=df_cleaned[\"UnitPrice\"], color=\"lightcoral\")\n",
    "plt.xlabel(\"UnitPrice Purchased\")\n",
    "plt.title(\"Boxplot of UnitPrice Purchased (Outlier Detection)\")\n",
    "plt.show()"
   ]
  },
  {
   "cell_type": "code",
   "execution_count": 738,
   "id": "9e2160ad-bb7d-4ec0-8ad1-c454395c9d84",
   "metadata": {},
   "outputs": [],
   "source": [
    "#df_cleaned = df_cleaned[df_cleaned[\"Quantity\"] < 2500]"
   ]
  },
  {
   "cell_type": "code",
   "execution_count": 752,
   "id": "b13d5317-8548-4acc-9831-4d37f03ca6da",
   "metadata": {},
   "outputs": [
    {
     "data": {
      "image/png": "[encoded data removed]",
      "text/plain": [
       "<Figure size 800x500 with 1 Axes>"
      ]
     },
     "metadata": {},
     "output_type": "display_data"
    }
   ],
   "source": [
    "plt.figure(figsize=(8, 5))\n",
    "sns.boxplot(x=df_cleaned[\"Quantity\"], color=\"lightcoral\")\n",
    "plt.xlabel(\"Quantity Purchased\")\n",
    "plt.title(\"Boxplot of Quantity Purchased (Outlier Detection)\")\n",
    "plt.show()"
   ]
  },
  {
   "cell_type": "code",
   "execution_count": 754,
   "id": "72e5e933-9705-4290-837b-9c631f4f079b",
   "metadata": {},
   "outputs": [
    {
     "data": {
      "image/png": "[encoded data removed]",
      "text/plain": [
       "<Figure size 1000x500 with 1 Axes>"
      ]
     },
     "metadata": {},
     "output_type": "display_data"
    }
   ],
   "source": [
    "# Visualize distributions of numerical features using histograms\n",
    "bin_edges = np.linspace(-60, 100, 60)\n",
    "\n",
    "# Plot histogram for 'quantity'\n",
    "plt.figure(figsize=(10, 5))\n",
    "plt.hist(df_cleaned['Quantity'], bins=bin_edges, edgecolor='black')\n",
    "plt.title('Distribution of Quantity')\n",
    "plt.xlabel('Quantity')\n",
    "plt.ylabel('Frequency')\n",
    "plt.xlim(0,100)\n",
    "plt.show()\n"
   ]
  },
  {
   "cell_type": "code",
   "execution_count": 756,
   "id": "cb4ea5d7-5346-4146-aa29-13c7a16af9ae",
   "metadata": {},
   "outputs": [
    {
     "data": {
      "image/png": "[encoded data removed]",
      "text/plain": [
       "<Figure size 1000x500 with 1 Axes>"
      ]
     },
     "metadata": {},
     "output_type": "display_data"
    }
   ],
   "source": [
    "# Visualize distributions of numerical features using histograms\n",
    "bin_edges = np.linspace(-60, 100, 60)\n",
    "\n",
    "# Plot histogram for 'quantity'\n",
    "plt.figure(figsize=(10, 5))\n",
    "plt.hist(df_cleaned['UnitPrice'], bins=bin_edges, edgecolor='black')\n",
    "plt.title('Distribution of UnitPrice')\n",
    "plt.xlabel('UnitPrice')\n",
    "plt.ylabel('Frequency')\n",
    "plt.xlim(0,100)\n",
    "plt.show()\n"
   ]
  },
  {
   "cell_type": "markdown",
   "id": "e56e8f17-8665-4961-aed8-20b23166d9dc",
   "metadata": {},
   "source": [
    "#### Visualizing Correlation Between Numerical Features"
   ]
  },
  {
   "cell_type": "code",
   "execution_count": 758,
   "id": "bbfe8fc4-39c2-4ae6-9804-d15fc6ecf07e",
   "metadata": {},
   "outputs": [
    {
     "data": {
      "image/png": "[encoded data removed]",
      "text/plain": [
       "<Figure size 800x600 with 2 Axes>"
      ]
     },
     "metadata": {},
     "output_type": "display_data"
    }
   ],
   "source": [
    "# Compute correlation matrix\n",
    "correlation_matrix = df_cleaned[[\"TotalAmount\", \"UnitPrice\", \"Quantity\"]].corr()\n",
    "\n",
    "# Plot heatmap\n",
    "plt.figure(figsize=(8, 6))\n",
    "sns.heatmap(correlation_matrix, annot=True, cmap=\"coolwarm\", linewidths=0.5, fmt=\".2f\")\n",
    "\n",
    "# Set title\n",
    "plt.title(\"Correlation Heatmap of Numerical Features\", fontsize=14)\n",
    "\n",
    "# Show plot\n",
    "plt.show()"
   ]
  },
  {
   "cell_type": "code",
   "execution_count": null,
   "id": "e15b975e-399f-437d-a5f8-17b8cd8da719",
   "metadata": {},
   "outputs": [],
   "source": []
  },
  {
   "cell_type": "code",
   "execution_count": 760,
   "id": "205a3eb3-a44a-4bc9-8d1b-00e8293380dc",
   "metadata": {},
   "outputs": [],
   "source": [
    "temp = df_cleaned[(df_cleaned['CustomerID'] > 0)]"
   ]
  },
  {
   "cell_type": "code",
   "execution_count": 762,
   "id": "67c44756-b714-44d6-b42d-b580a582f319",
   "metadata": {},
   "outputs": [
    {
     "name": "stdout",
     "output_type": "stream",
     "text": [
      "      CustomerID  TotalQuantity\n",
      "1824       14911          32672\n",
      "3879       17841          16669\n",
      "1252       14096          12609\n",
      "545        13089          11551\n",
      "323        12748          11107\n",
      "2109       15311           5973\n",
      "1907       15039           5800\n",
      "541        13081           5318\n",
      "1293       14156           5241\n",
      "3813       17735           4728\n"
     ]
    }
   ],
   "source": [
    "\n",
    "# Aggregate total quantity purchased by each CustomerID\n",
    "customer_orders = temp.groupby(\"CustomerID\")[\"Quantity\"].sum().reset_index()\n",
    "\n",
    "# Rename columns for clarity\n",
    "customer_orders.columns = [\"CustomerID\", \"TotalQuantity\"]\n",
    "\n",
    "# Display top 10 customers with the highest total orders\n",
    "print(customer_orders.sort_values(by=\"TotalQuantity\", ascending=False).head(10))\n"
   ]
  },
  {
   "cell_type": "code",
   "execution_count": 778,
   "id": "338ad524-2117-46ae-a451-1d5cb633568c",
   "metadata": {},
   "outputs": [
    {
     "name": "stdout",
     "output_type": "stream",
     "text": [
      "lower_bound of total quantity:-493.25\n",
      "upper_bound of total quantity:1040.75\n",
      "Total Anomalous Customers: 373\n",
      "      CustomerID  TotalQuantity\n",
      "0          12347           1152\n",
      "11         12359           1352\n",
      "14         12362           1805\n",
      "26         12378           1410\n",
      "65         12428           1777\n",
      "...          ...            ...\n",
      "4145       18225           1663\n",
      "4146       18226           1526\n",
      "4161       18245           1306\n",
      "4178       18272           1214\n",
      "4186       18283           1384\n",
      "\n",
      "[373 rows x 2 columns]\n"
     ]
    }
   ],
   "source": [
    "# Compute IQR\n",
    "Q1 = customer_orders[\"TotalQuantity\"].quantile(0.25)\n",
    "Q3 = customer_orders[\"TotalQuantity\"].quantile(0.75)\n",
    "IQR = Q3 - Q1\n",
    "\n",
    "# Define threshold for anomalies\n",
    "lower_bound = Q1 - 1.5 * IQR\n",
    "upper_bound = Q3 + 1.5 * IQR\n",
    "\n",
    "print(f\"lower_bound of total quantity:{lower_bound}\")\n",
    "print(f\"upper_bound of total quantity:{upper_bound}\")\n",
    "\n",
    "# Identify customers with unusually high order quantities\n",
    "anomalous_customers = customer_orders[customer_orders[\"TotalQuantity\"] > upper_bound]\n",
    "\n",
    "# Display anomalous customers\n",
    "print(f\"Total Anomalous Customers: {len(anomalous_customers)}\")\n",
    "print(anomalous_customers)"
   ]
  },
  {
   "cell_type": "code",
   "execution_count": 766,
   "id": "9ebdc7f7-be23-4c30-8ebf-b81e5a3d3d85",
   "metadata": {},
   "outputs": [
    {
     "data": {
      "image/png": "[encoded data removed]",
      "text/plain": [
       "<Figure size 1000x500 with 1 Axes>"
      ]
     },
     "metadata": {},
     "output_type": "display_data"
    }
   ],
   "source": [
    "# Plot all customers\n",
    "plt.figure(figsize=(10, 5))\n",
    "sns.scatterplot(x=customer_orders[\"CustomerID\"], y=customer_orders[\"TotalQuantity\"], color=\"blue\", label=\"Normal Orders\")\n",
    "\n",
    "# Highlight anomalies\n",
    "sns.scatterplot(x=anomalous_customers[\"CustomerID\"], y=anomalous_customers[\"TotalQuantity\"], color=\"red\", label=\"Anomalous Orders\")\n",
    "\n",
    "# Set labels\n",
    "plt.xlabel(\"CustomerID\", fontsize=12)\n",
    "plt.ylabel(\"Total Quantity Ordered\", fontsize=12)\n",
    "plt.title(\"Anomalous Customers with Sudden Spike in Orders\", fontsize=14)\n",
    "plt.legend()\n",
    "\n",
    "# Show plot\n",
    "plt.show()\n"
   ]
  },
  {
   "cell_type": "code",
   "execution_count": 782,
   "id": "bfdf65af-533f-491d-a6d4-594e9f71fb2e",
   "metadata": {},
   "outputs": [
    {
     "data": {
      "text/html": [
       "<div>\n",
       "<style scoped>\n",
       "    .dataframe tbody tr th:only-of-type {\n",
       "        vertical-align: middle;\n",
       "    }\n",
       "\n",
       "    .dataframe tbody tr th {\n",
       "        vertical-align: top;\n",
       "    }\n",
       "\n",
       "    .dataframe thead th {\n",
       "        text-align: right;\n",
       "    }\n",
       "</style>\n",
       "<table border=\"1\" class=\"dataframe\">\n",
       "  <thead>\n",
       "    <tr style=\"text-align: right;\">\n",
       "      <th></th>\n",
       "      <th>CustomerID</th>\n",
       "      <th>TotalQuantity</th>\n",
       "    </tr>\n",
       "  </thead>\n",
       "  <tbody>\n",
       "    <tr>\n",
       "      <th>323</th>\n",
       "      <td>12748</td>\n",
       "      <td>11107</td>\n",
       "    </tr>\n",
       "    <tr>\n",
       "      <th>545</th>\n",
       "      <td>13089</td>\n",
       "      <td>11551</td>\n",
       "    </tr>\n",
       "    <tr>\n",
       "      <th>1252</th>\n",
       "      <td>14096</td>\n",
       "      <td>12609</td>\n",
       "    </tr>\n",
       "    <tr>\n",
       "      <th>1824</th>\n",
       "      <td>14911</td>\n",
       "      <td>32672</td>\n",
       "    </tr>\n",
       "    <tr>\n",
       "      <th>3879</th>\n",
       "      <td>17841</td>\n",
       "      <td>16669</td>\n",
       "    </tr>\n",
       "  </tbody>\n",
       "</table>\n",
       "</div>"
      ],
      "text/plain": [
       "      CustomerID  TotalQuantity\n",
       "323        12748          11107\n",
       "545        13089          11551\n",
       "1252       14096          12609\n",
       "1824       14911          32672\n",
       "3879       17841          16669"
      ]
     },
     "execution_count": 782,
     "metadata": {},
     "output_type": "execute_result"
    }
   ],
   "source": [
    "temp_customers = customer_orders[customer_orders[\"TotalQuantity\"] > 6000]\n",
    "temp_customers.head(20)"
   ]
  },
  {
   "cell_type": "code",
   "execution_count": 792,
   "id": "c7f7c28e-a2b7-4b7c-aa87-552062be8300",
   "metadata": {},
   "outputs": [
    {
     "name": "stdout",
     "output_type": "stream",
     "text": [
      "Removed 5 customers from the dataset.\n",
      "lower_bound of total quantity:-491.0\n",
      "upper_bound of total quantity:1037.0\n",
      "Total Anomalous Customers: 372\n",
      "      CustomerID  TotalQuantity\n",
      "0          12347           1152\n",
      "11         12359           1352\n",
      "14         12362           1805\n",
      "26         12378           1410\n",
      "65         12428           1777\n",
      "...          ...            ...\n",
      "4140       18225           1663\n",
      "4141       18226           1526\n",
      "4156       18245           1306\n",
      "4173       18272           1214\n",
      "4181       18283           1384\n",
      "\n",
      "[372 rows x 2 columns]\n"
     ]
    },
    {
     "data": {
      "image/png": "[encoded data removed]",
      "text/plain": [
       "<Figure size 1000x500 with 1 Axes>"
      ]
     },
     "metadata": {},
     "output_type": "display_data"
    }
   ],
   "source": [
    "# Filter customers who ordered more than 5000 units\n",
    "customers_to_remove = customer_orders[customer_orders[\"TotalQuantity\"] > 6000][\"CustomerID\"]\n",
    "\n",
    "# Remove those customers from the original dataset\n",
    "df_temp = temp[~temp[\"CustomerID\"].isin(customers_to_remove)]\n",
    "\n",
    "# Print confirmation message\n",
    "print(f\"Removed {len(customers_to_remove)} customers from the dataset.\")\n",
    "\n",
    "# 🔄 **Recalculate `customer_orders` after removal**\n",
    "customer_orders_updated = df_temp.groupby(\"CustomerID\")[\"Quantity\"].sum().reset_index()\n",
    "customer_orders_updated.columns = [\"CustomerID\", \"TotalQuantity\"]\n",
    "\n",
    "# Compute IQR\n",
    "Q1 = customer_orders_updated[\"TotalQuantity\"].quantile(0.25)\n",
    "Q3 = customer_orders_updated[\"TotalQuantity\"].quantile(0.75)\n",
    "IQR = Q3 - Q1\n",
    "\n",
    "# Define threshold for anomalies\n",
    "lower_bound = Q1 - 1.5 * IQR\n",
    "upper_bound = Q3 + 1.5 * IQR\n",
    "\n",
    "print(f\"lower_bound of total quantity:{lower_bound}\")\n",
    "print(f\"upper_bound of total quantity:{upper_bound}\")\n",
    "\n",
    "# Identify customers with unusually high order quantities\n",
    "anomalous_customers = customer_orders_updated[customer_orders_updated[\"TotalQuantity\"] > upper_bound]\n",
    "\n",
    "# Display anomalous customers\n",
    "print(f\"Total Anomalous Customers: {len(anomalous_customers)}\")\n",
    "print(anomalous_customers)\n",
    "\n",
    "plt.figure(figsize=(10, 5))\n",
    "sns.scatterplot(x=customer_orders_updated[\"CustomerID\"], y=customer_orders_updated[\"TotalQuantity\"], color=\"blue\", label=\"Normal Orders\")\n",
    "\n",
    "# Highlight anomalies\n",
    "sns.scatterplot(x=anomalous_customers[\"CustomerID\"], y=anomalous_customers[\"TotalQuantity\"], color=\"red\", label=\"Anomalous Orders\")\n",
    "\n",
    "# Set labels\n",
    "plt.xlabel(\"CustomerID\", fontsize=12)\n",
    "plt.ylabel(\"Total Quantity Ordered\", fontsize=12)\n",
    "plt.title(\"Anomalous Customers with Sudden Spike in Orders\", fontsize=14)\n",
    "plt.legend()\n",
    "\n",
    "# Show plot\n",
    "plt.show()\n"
   ]
  },
  {
   "cell_type": "code",
   "execution_count": 452,
   "id": "b9cd0a33-49c0-4356-ad38-272e510bf966",
   "metadata": {},
   "outputs": [
    {
     "name": "stdout",
     "output_type": "stream",
     "text": [
      "Total Outliers: 346\n",
      "       index InvoiceNo StockCode                          Description  \\\n",
      "4287    4287   C536757     84347  ROTATING SILVER ANGELS T-LIGHT HLDR   \n",
      "4850    4850    536809     84950       ASSORTED COLOUR T-LIGHT HOLDER   \n",
      "4945    4945    536830     84077    WORLD WAR 2 GLIDERS ASSTD DESIGNS   \n",
      "4946    4946    536830     21915               RED  HARMONICA IN BOX    \n",
      "6365    6365    536890    17084R                ASSORTED INCENSE PACK   \n",
      "9745    9745    537214     17003                  BROCADE RING PURSE    \n",
      "16427  16427    537657     22189              CREAM HEART CARD HOLDER   \n",
      "16428  16428    537657     22188              BLACK HEART CARD HOLDER   \n",
      "16435  16435    537659     22189              CREAM HEART CARD HOLDER   \n",
      "16436  16436    537659     22188              BLACK HEART CARD HOLDER   \n",
      "\n",
      "       Quantity         InvoiceDate  UnitPrice  CustomerID         Country  \\\n",
      "4287      -9360 2010-12-02 14:23:00       0.03       15838  United Kingdom   \n",
      "4850       1824 2010-12-02 16:48:00       0.55       15299  United Kingdom   \n",
      "4945       2880 2010-12-02 17:38:00       0.18       16754  United Kingdom   \n",
      "4946       1400 2010-12-02 17:38:00       1.06       16754  United Kingdom   \n",
      "6365       1440 2010-12-03 11:48:00       0.16       14156            EIRE   \n",
      "9745        720 2010-12-05 15:35:00       0.16       16422  United Kingdom   \n",
      "16427       972 2010-12-07 16:42:00       2.31       18102  United Kingdom   \n",
      "16428       972 2010-12-07 16:42:00       2.31       18102  United Kingdom   \n",
      "16435      1008 2010-12-07 16:43:00       2.31       18102  United Kingdom   \n",
      "16436      1008 2010-12-07 16:43:00       2.31       18102  United Kingdom   \n",
      "\n",
      "         z_score  \n",
      "4287  -42.963642  \n",
      "4850    8.320065  \n",
      "4945   13.162304  \n",
      "4946    6.375833  \n",
      "6365    6.559251  \n",
      "9745    3.257725  \n",
      "16427   4.413259  \n",
      "16428   4.413259  \n",
      "16435   4.578335  \n",
      "16436   4.578335  \n"
     ]
    }
   ],
   "source": [
    "# Compute Z-scores for Quantity\n",
    "df[\"z_score\"] = stats.zscore(df[\"Quantity\"])\n",
    "\n",
    "# Find outliers (Threshold: |Z-score| > 3)\n",
    "outliers = df[df[\"z_score\"].abs() > 3]\n",
    "print(f\"Total Outliers: {len(outliers)}\")\n",
    "print(outliers.head(10))\n"
   ]
  },
  {
   "cell_type": "code",
   "execution_count": 794,
   "id": "a4a56338-8745-437b-9347-f93f0567328b",
   "metadata": {},
   "outputs": [
    {
     "name": "stderr",
     "output_type": "stream",
     "text": [
      "/var/folders/0p/29y5gpjs09jd6rt_9jltqj7w0000gn/T/ipykernel_52427/3709428961.py:9: FutureWarning: \n",
      "\n",
      "Passing `palette` without assigning `hue` is deprecated and will be removed in v0.14.0. Assign the `y` variable to `hue` and set `legend=False` for the same effect.\n",
      "\n",
      "  sns.barplot(x='Quantity', y='Description', data=top_10_products, palette='viridis')\n"
     ]
    },
    {
     "data": {
      "image/png": "[encoded data removed]",
      "text/plain": [
       "<Figure size 1200x600 with 1 Axes>"
      ]
     },
     "metadata": {},
     "output_type": "display_data"
    }
   ],
   "source": [
    "# Aggregate total quantity sold per product\n",
    "popular_products = df_temp.groupby('Description')['Quantity'].sum().reset_index()\n",
    "\n",
    "# Sort by highest quantity and take the top 10\n",
    "top_10_products = popular_products.sort_values(by='Quantity', ascending=False).head(10)\n",
    "\n",
    "# Plot bar chart\n",
    "plt.figure(figsize=(12, 6))\n",
    "sns.barplot(x='Quantity', y='Description', data=top_10_products, palette='viridis')\n",
    "\n",
    "# Add labels and title\n",
    "plt.xlabel('Total Quantity Sold')\n",
    "plt.ylabel('Product Description')\n",
    "plt.title('Top 10 Popular Products by Quantity')\n",
    "plt.show()"
   ]
  },
  {
   "cell_type": "code",
   "execution_count": 798,
   "id": "203ad634-b26a-473b-b7b3-d2eb54cf5927",
   "metadata": {},
   "outputs": [
    {
     "data": {
      "text/html": [
       "<div>\n",
       "<style scoped>\n",
       "    .dataframe tbody tr th:only-of-type {\n",
       "        vertical-align: middle;\n",
       "    }\n",
       "\n",
       "    .dataframe tbody tr th {\n",
       "        vertical-align: top;\n",
       "    }\n",
       "\n",
       "    .dataframe thead th {\n",
       "        text-align: right;\n",
       "    }\n",
       "</style>\n",
       "<table border=\"1\" class=\"dataframe\">\n",
       "  <thead>\n",
       "    <tr style=\"text-align: right;\">\n",
       "      <th></th>\n",
       "      <th>index</th>\n",
       "      <th>InvoiceNo</th>\n",
       "      <th>StockCode</th>\n",
       "      <th>Description</th>\n",
       "      <th>Quantity</th>\n",
       "      <th>InvoiceDate</th>\n",
       "      <th>UnitPrice</th>\n",
       "      <th>CustomerID</th>\n",
       "      <th>Country</th>\n",
       "      <th>TotalAmount</th>\n",
       "    </tr>\n",
       "  </thead>\n",
       "  <tbody>\n",
       "  </tbody>\n",
       "</table>\n",
       "</div>"
      ],
      "text/plain": [
       "Empty DataFrame\n",
       "Columns: [index, InvoiceNo, StockCode, Description, Quantity, InvoiceDate, UnitPrice, CustomerID, Country, TotalAmount]\n",
       "Index: []"
      ]
     },
     "execution_count": 798,
     "metadata": {},
     "output_type": "execute_result"
    }
   ],
   "source": [
    "temp = df_cleaned[df_cleaned['InvoiceNo'].astype(str).str.startswith('C')]  \n",
    "temp.head(20)"
   ]
  },
  {
   "cell_type": "code",
   "execution_count": 800,
   "id": "9f742892-ecb5-4e78-a82e-6ccffc4924f0",
   "metadata": {},
   "outputs": [
    {
     "data": {
      "text/plain": [
       "array(['POST', 'C2', 'DOT', 'M', 'BANK CHARGES', 'DCGS0076', 'DCGS0003',\n",
       "       'gift_0001_40', 'DCGS0070', 'm', 'gift_0001_50', 'gift_0001_30',\n",
       "       'gift_0001_20', 'DCGS0069', 'DCGSSBOY', 'DCGSSGIRL',\n",
       "       'gift_0001_10', 'AMAZONFEE', 'S', 'PADS', 'DCGS0004'], dtype=object)"
      ]
     },
     "execution_count": 800,
     "metadata": {},
     "output_type": "execute_result"
    }
   ],
   "source": [
    "list_special_codes = df_cleaned[df_cleaned['StockCode'].str.contains('^[a-zA-Z]+', regex=True)]['StockCode'].unique()\n",
    "list_special_codes"
   ]
  },
  {
   "cell_type": "code",
   "execution_count": 806,
   "id": "76efc0bc-0af2-4aab-9672-c7f8403ee58f",
   "metadata": {},
   "outputs": [
    {
     "data": {
      "text/plain": [
       "21"
      ]
     },
     "execution_count": 806,
     "metadata": {},
     "output_type": "execute_result"
    }
   ],
   "source": [
    "list_special_codes.size"
   ]
  },
  {
   "cell_type": "code",
   "execution_count": 820,
   "id": "fe8b0f58-4eb8-40b1-8255-fd101a5c70b4",
   "metadata": {},
   "outputs": [
    {
     "data": {
      "text/html": [
       "<div>\n",
       "<style scoped>\n",
       "    .dataframe tbody tr th:only-of-type {\n",
       "        vertical-align: middle;\n",
       "    }\n",
       "\n",
       "    .dataframe tbody tr th {\n",
       "        vertical-align: top;\n",
       "    }\n",
       "\n",
       "    .dataframe thead th {\n",
       "        text-align: right;\n",
       "    }\n",
       "</style>\n",
       "<table border=\"1\" class=\"dataframe\">\n",
       "  <thead>\n",
       "    <tr style=\"text-align: right;\">\n",
       "      <th></th>\n",
       "      <th>index</th>\n",
       "      <th>InvoiceNo</th>\n",
       "      <th>StockCode</th>\n",
       "      <th>Description</th>\n",
       "      <th>Quantity</th>\n",
       "      <th>InvoiceDate</th>\n",
       "      <th>UnitPrice</th>\n",
       "      <th>CustomerID</th>\n",
       "      <th>Country</th>\n",
       "      <th>TotalAmount</th>\n",
       "    </tr>\n",
       "  </thead>\n",
       "  <tbody>\n",
       "    <tr>\n",
       "      <th>45</th>\n",
       "      <td>45</td>\n",
       "      <td>536370</td>\n",
       "      <td>POST</td>\n",
       "      <td>POSTAGE</td>\n",
       "      <td>3</td>\n",
       "      <td>2010-12-01 08:45:00</td>\n",
       "      <td>18.00</td>\n",
       "      <td>12583</td>\n",
       "      <td>France</td>\n",
       "      <td>54.00</td>\n",
       "    </tr>\n",
       "    <tr>\n",
       "      <th>386</th>\n",
       "      <td>386</td>\n",
       "      <td>536403</td>\n",
       "      <td>POST</td>\n",
       "      <td>POSTAGE</td>\n",
       "      <td>1</td>\n",
       "      <td>2010-12-01 11:27:00</td>\n",
       "      <td>15.00</td>\n",
       "      <td>12791</td>\n",
       "      <td>Netherlands</td>\n",
       "      <td>15.00</td>\n",
       "    </tr>\n",
       "    <tr>\n",
       "      <th>1123</th>\n",
       "      <td>1123</td>\n",
       "      <td>536527</td>\n",
       "      <td>POST</td>\n",
       "      <td>POSTAGE</td>\n",
       "      <td>1</td>\n",
       "      <td>2010-12-01 13:04:00</td>\n",
       "      <td>18.00</td>\n",
       "      <td>12662</td>\n",
       "      <td>Germany</td>\n",
       "      <td>18.00</td>\n",
       "    </tr>\n",
       "    <tr>\n",
       "      <th>1423</th>\n",
       "      <td>1423</td>\n",
       "      <td>536540</td>\n",
       "      <td>C2</td>\n",
       "      <td>CARRIAGE</td>\n",
       "      <td>1</td>\n",
       "      <td>2010-12-01 14:05:00</td>\n",
       "      <td>50.00</td>\n",
       "      <td>14911</td>\n",
       "      <td>EIRE</td>\n",
       "      <td>50.00</td>\n",
       "    </tr>\n",
       "    <tr>\n",
       "      <th>1814</th>\n",
       "      <td>1814</td>\n",
       "      <td>536544</td>\n",
       "      <td>DOT</td>\n",
       "      <td>DOTCOM POSTAGE</td>\n",
       "      <td>1</td>\n",
       "      <td>2010-12-01 14:32:00</td>\n",
       "      <td>569.77</td>\n",
       "      <td>0</td>\n",
       "      <td>United Kingdom</td>\n",
       "      <td>569.77</td>\n",
       "    </tr>\n",
       "    <tr>\n",
       "      <th>2239</th>\n",
       "      <td>2239</td>\n",
       "      <td>536569</td>\n",
       "      <td>M</td>\n",
       "      <td>Manual</td>\n",
       "      <td>1</td>\n",
       "      <td>2010-12-01 15:35:00</td>\n",
       "      <td>1.25</td>\n",
       "      <td>16274</td>\n",
       "      <td>United Kingdom</td>\n",
       "      <td>1.25</td>\n",
       "    </tr>\n",
       "    <tr>\n",
       "      <th>2250</th>\n",
       "      <td>2250</td>\n",
       "      <td>536569</td>\n",
       "      <td>M</td>\n",
       "      <td>Manual</td>\n",
       "      <td>1</td>\n",
       "      <td>2010-12-01 15:35:00</td>\n",
       "      <td>18.95</td>\n",
       "      <td>16274</td>\n",
       "      <td>United Kingdom</td>\n",
       "      <td>18.95</td>\n",
       "    </tr>\n",
       "    <tr>\n",
       "      <th>3041</th>\n",
       "      <td>3041</td>\n",
       "      <td>536592</td>\n",
       "      <td>DOT</td>\n",
       "      <td>DOTCOM POSTAGE</td>\n",
       "      <td>1</td>\n",
       "      <td>2010-12-01 17:06:00</td>\n",
       "      <td>607.49</td>\n",
       "      <td>0</td>\n",
       "      <td>United Kingdom</td>\n",
       "      <td>607.49</td>\n",
       "    </tr>\n",
       "    <tr>\n",
       "      <th>4406</th>\n",
       "      <td>4406</td>\n",
       "      <td>536779</td>\n",
       "      <td>BANK CHARGES</td>\n",
       "      <td>Bank Charges</td>\n",
       "      <td>1</td>\n",
       "      <td>2010-12-02 15:08:00</td>\n",
       "      <td>15.00</td>\n",
       "      <td>15823</td>\n",
       "      <td>United Kingdom</td>\n",
       "      <td>15.00</td>\n",
       "    </tr>\n",
       "    <tr>\n",
       "      <th>5073</th>\n",
       "      <td>5073</td>\n",
       "      <td>536840</td>\n",
       "      <td>POST</td>\n",
       "      <td>POSTAGE</td>\n",
       "      <td>1</td>\n",
       "      <td>2010-12-02 18:27:00</td>\n",
       "      <td>18.00</td>\n",
       "      <td>12738</td>\n",
       "      <td>Germany</td>\n",
       "      <td>18.00</td>\n",
       "    </tr>\n",
       "    <tr>\n",
       "      <th>5258</th>\n",
       "      <td>5258</td>\n",
       "      <td>536852</td>\n",
       "      <td>POST</td>\n",
       "      <td>POSTAGE</td>\n",
       "      <td>1</td>\n",
       "      <td>2010-12-03 09:51:00</td>\n",
       "      <td>18.00</td>\n",
       "      <td>12686</td>\n",
       "      <td>France</td>\n",
       "      <td>18.00</td>\n",
       "    </tr>\n",
       "    <tr>\n",
       "      <th>5325</th>\n",
       "      <td>5325</td>\n",
       "      <td>536858</td>\n",
       "      <td>POST</td>\n",
       "      <td>POSTAGE</td>\n",
       "      <td>2</td>\n",
       "      <td>2010-12-03 10:36:00</td>\n",
       "      <td>40.00</td>\n",
       "      <td>13520</td>\n",
       "      <td>Switzerland</td>\n",
       "      <td>80.00</td>\n",
       "    </tr>\n",
       "    <tr>\n",
       "      <th>5369</th>\n",
       "      <td>5369</td>\n",
       "      <td>536861</td>\n",
       "      <td>POST</td>\n",
       "      <td>POSTAGE</td>\n",
       "      <td>3</td>\n",
       "      <td>2010-12-03 10:44:00</td>\n",
       "      <td>18.00</td>\n",
       "      <td>12427</td>\n",
       "      <td>Germany</td>\n",
       "      <td>54.00</td>\n",
       "    </tr>\n",
       "    <tr>\n",
       "      <th>5450</th>\n",
       "      <td>5450</td>\n",
       "      <td>536862</td>\n",
       "      <td>DOT</td>\n",
       "      <td>DOTCOM POSTAGE</td>\n",
       "      <td>1</td>\n",
       "      <td>2010-12-03 11:13:00</td>\n",
       "      <td>254.43</td>\n",
       "      <td>0</td>\n",
       "      <td>United Kingdom</td>\n",
       "      <td>254.43</td>\n",
       "    </tr>\n",
       "    <tr>\n",
       "      <th>5545</th>\n",
       "      <td>5545</td>\n",
       "      <td>536864</td>\n",
       "      <td>DOT</td>\n",
       "      <td>DOTCOM POSTAGE</td>\n",
       "      <td>1</td>\n",
       "      <td>2010-12-03 11:27:00</td>\n",
       "      <td>121.06</td>\n",
       "      <td>0</td>\n",
       "      <td>United Kingdom</td>\n",
       "      <td>121.06</td>\n",
       "    </tr>\n",
       "    <tr>\n",
       "      <th>5684</th>\n",
       "      <td>5684</td>\n",
       "      <td>536865</td>\n",
       "      <td>M</td>\n",
       "      <td>Manual</td>\n",
       "      <td>1</td>\n",
       "      <td>2010-12-03 11:28:00</td>\n",
       "      <td>2.55</td>\n",
       "      <td>0</td>\n",
       "      <td>United Kingdom</td>\n",
       "      <td>2.55</td>\n",
       "    </tr>\n",
       "    <tr>\n",
       "      <th>5685</th>\n",
       "      <td>5685</td>\n",
       "      <td>536865</td>\n",
       "      <td>DOT</td>\n",
       "      <td>DOTCOM POSTAGE</td>\n",
       "      <td>1</td>\n",
       "      <td>2010-12-03 11:28:00</td>\n",
       "      <td>498.47</td>\n",
       "      <td>0</td>\n",
       "      <td>United Kingdom</td>\n",
       "      <td>498.47</td>\n",
       "    </tr>\n",
       "    <tr>\n",
       "      <th>6165</th>\n",
       "      <td>6165</td>\n",
       "      <td>536876</td>\n",
       "      <td>DOT</td>\n",
       "      <td>DOTCOM POSTAGE</td>\n",
       "      <td>1</td>\n",
       "      <td>2010-12-03 11:36:00</td>\n",
       "      <td>887.52</td>\n",
       "      <td>0</td>\n",
       "      <td>United Kingdom</td>\n",
       "      <td>887.52</td>\n",
       "    </tr>\n",
       "    <tr>\n",
       "      <th>6602</th>\n",
       "      <td>6602</td>\n",
       "      <td>536967</td>\n",
       "      <td>POST</td>\n",
       "      <td>POSTAGE</td>\n",
       "      <td>1</td>\n",
       "      <td>2010-12-03 12:57:00</td>\n",
       "      <td>18.00</td>\n",
       "      <td>12600</td>\n",
       "      <td>Germany</td>\n",
       "      <td>18.00</td>\n",
       "    </tr>\n",
       "    <tr>\n",
       "      <th>6676</th>\n",
       "      <td>6676</td>\n",
       "      <td>536974</td>\n",
       "      <td>POST</td>\n",
       "      <td>POSTAGE</td>\n",
       "      <td>2</td>\n",
       "      <td>2010-12-03 13:59:00</td>\n",
       "      <td>18.00</td>\n",
       "      <td>12682</td>\n",
       "      <td>France</td>\n",
       "      <td>36.00</td>\n",
       "    </tr>\n",
       "  </tbody>\n",
       "</table>\n",
       "</div>"
      ],
      "text/plain": [
       "      index InvoiceNo     StockCode     Description  Quantity  \\\n",
       "45       45    536370          POST         POSTAGE         3   \n",
       "386     386    536403          POST         POSTAGE         1   \n",
       "1123   1123    536527          POST         POSTAGE         1   \n",
       "1423   1423    536540            C2        CARRIAGE         1   \n",
       "1814   1814    536544           DOT  DOTCOM POSTAGE         1   \n",
       "2239   2239    536569             M          Manual         1   \n",
       "2250   2250    536569             M          Manual         1   \n",
       "3041   3041    536592           DOT  DOTCOM POSTAGE         1   \n",
       "4406   4406    536779  BANK CHARGES    Bank Charges         1   \n",
       "5073   5073    536840          POST         POSTAGE         1   \n",
       "5258   5258    536852          POST         POSTAGE         1   \n",
       "5325   5325    536858          POST         POSTAGE         2   \n",
       "5369   5369    536861          POST         POSTAGE         3   \n",
       "5450   5450    536862           DOT  DOTCOM POSTAGE         1   \n",
       "5545   5545    536864           DOT  DOTCOM POSTAGE         1   \n",
       "5684   5684    536865             M          Manual         1   \n",
       "5685   5685    536865           DOT  DOTCOM POSTAGE         1   \n",
       "6165   6165    536876           DOT  DOTCOM POSTAGE         1   \n",
       "6602   6602    536967          POST         POSTAGE         1   \n",
       "6676   6676    536974          POST         POSTAGE         2   \n",
       "\n",
       "             InvoiceDate  UnitPrice  CustomerID         Country  TotalAmount  \n",
       "45   2010-12-01 08:45:00      18.00       12583          France        54.00  \n",
       "386  2010-12-01 11:27:00      15.00       12791     Netherlands        15.00  \n",
       "1123 2010-12-01 13:04:00      18.00       12662         Germany        18.00  \n",
       "1423 2010-12-01 14:05:00      50.00       14911            EIRE        50.00  \n",
       "1814 2010-12-01 14:32:00     569.77           0  United Kingdom       569.77  \n",
       "2239 2010-12-01 15:35:00       1.25       16274  United Kingdom         1.25  \n",
       "2250 2010-12-01 15:35:00      18.95       16274  United Kingdom        18.95  \n",
       "3041 2010-12-01 17:06:00     607.49           0  United Kingdom       607.49  \n",
       "4406 2010-12-02 15:08:00      15.00       15823  United Kingdom        15.00  \n",
       "5073 2010-12-02 18:27:00      18.00       12738         Germany        18.00  \n",
       "5258 2010-12-03 09:51:00      18.00       12686          France        18.00  \n",
       "5325 2010-12-03 10:36:00      40.00       13520     Switzerland        80.00  \n",
       "5369 2010-12-03 10:44:00      18.00       12427         Germany        54.00  \n",
       "5450 2010-12-03 11:13:00     254.43           0  United Kingdom       254.43  \n",
       "5545 2010-12-03 11:27:00     121.06           0  United Kingdom       121.06  \n",
       "5684 2010-12-03 11:28:00       2.55           0  United Kingdom         2.55  \n",
       "5685 2010-12-03 11:28:00     498.47           0  United Kingdom       498.47  \n",
       "6165 2010-12-03 11:36:00     887.52           0  United Kingdom       887.52  \n",
       "6602 2010-12-03 12:57:00      18.00       12600         Germany        18.00  \n",
       "6676 2010-12-03 13:59:00      18.00       12682          France        36.00  "
      ]
     },
     "execution_count": 820,
     "metadata": {},
     "output_type": "execute_result"
    }
   ],
   "source": [
    "# Extract special codes that contain only letters\n",
    "list_special_codes = df_cleaned[df_cleaned['StockCode'].str.contains('^[a-zA-Z]+', regex=True)]['StockCode'].unique()\n",
    "\n",
    "# Filter dataset to include only rows with special StockCodes\n",
    "df_special_codes = df_cleaned[df_cleaned['StockCode'].isin(list_special_codes)]\n",
    "\n",
    "# Display the filtered data\n",
    "df_special_codes.head(20)\n",
    "#df_special_codes.size"
   ]
  },
  {
   "cell_type": "code",
   "execution_count": 824,
   "id": "cedacff6-39c4-43a7-ba1d-af4a278e9238",
   "metadata": {},
   "outputs": [
    {
     "name": "stdout",
     "output_type": "stream",
     "text": [
      "StockCode: POST - Description: POSTAGE\n",
      "StockCode: C2 - Description: CARRIAGE\n",
      "StockCode: DOT - Description: DOTCOM POSTAGE\n",
      "StockCode: M - Description: Manual\n",
      "StockCode: BANK CHARGES - Description: Bank Charges\n",
      "StockCode: DCGS0076 - Description: SUNJAR LED NIGHT NIGHT LIGHT\n",
      "StockCode: DCGS0003 - Description: BOXED GLASS ASHTRAY\n",
      "StockCode: gift_0001_40 - Description: Dotcomgiftshop Gift Voucher £40.00\n",
      "StockCode: DCGS0070 - Description: CAMOUFLAGE DOG COLLAR\n",
      "StockCode: m - Description: Manual\n",
      "StockCode: gift_0001_50 - Description: Dotcomgiftshop Gift Voucher £50.00\n",
      "StockCode: gift_0001_30 - Description: Dotcomgiftshop Gift Voucher £30.00\n",
      "StockCode: gift_0001_20 - Description: Dotcomgiftshop Gift Voucher £20.00\n",
      "StockCode: DCGS0069 - Description: OOH LA LA DOGS COLLAR\n",
      "StockCode: DCGSSBOY - Description: BOYS PARTY BAG\n",
      "StockCode: DCGSSGIRL - Description: GIRLS PARTY BAG\n",
      "StockCode: gift_0001_10 - Description: Dotcomgiftshop Gift Voucher £10.00\n",
      "StockCode: AMAZONFEE - Description: AMAZON FEE\n",
      "StockCode: S - Description: SAMPLES\n",
      "StockCode: PADS - Description: PADS TO MATCH ALL CUSHIONS\n",
      "StockCode: DCGS0004 - Description: HAYNES CAMPER SHOULDER BAG\n"
     ]
    }
   ],
   "source": [
    "# Extract unique StockCode and Description pairs for list_special_codes\n",
    "unique_stock_descriptions = df_cleaned[df_cleaned['StockCode'].isin(list_special_codes)][['StockCode', 'Description']].drop_duplicates()\n",
    "\n",
    "# Display the unique StockCode and Description pairs\n",
    "for index, row in unique_stock_descriptions.iterrows():\n",
    "    print(f\"StockCode: {row['StockCode']} - Description: {row['Description']}\")\n"
   ]
  },
  {
   "cell_type": "code",
   "execution_count": null,
   "id": "533d1806-db45-4506-a07c-6fa7460d5623",
   "metadata": {},
   "outputs": [],
   "source": [
    "array(['POST', 'D', 'C2', 'M', 'BANK CHARGES', 'PADS', 'DOT'],\n",
    "      dtype=object)"
   ]
  }
 ],
 "metadata": {
  "kernelspec": {
   "display_name": "Python 3 (ipykernel)",
   "language": "python",
   "name": "python3"
  },
  "language_info": {
   "codemirror_mode": {
    "name": "ipython",
    "version": 3
   },
   "file_extension": ".py",
   "mimetype": "text/x-python",
   "name": "python",
   "nbconvert_exporter": "python",
   "pygments_lexer": "ipython3",
   "version": "3.12.7"
  }
 },
 "nbformat": 4,
 "nbformat_minor": 5
}
