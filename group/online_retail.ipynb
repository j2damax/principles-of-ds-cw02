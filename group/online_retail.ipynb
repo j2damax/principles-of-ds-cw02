{
 "cells": [
  {
   "cell_type": "markdown",
   "id": "ebf5ea0e-6869-4b8f-a40f-d49da7e29ff3",
   "metadata": {},
   "source": [
    "# Data cleaning and pre processing"
   ]
  },
  {
   "cell_type": "code",
   "execution_count": 11,
   "id": "b5a0f828-cd54-4e1d-b333-b59f3328cc34",
   "metadata": {},
   "outputs": [
    {
     "name": "stdout",
     "output_type": "stream",
     "text": [
      "/Users/jam/msc/course-works\n"
     ]
    }
   ],
   "source": [
    "import os\n",
    "os.chdir(\"/Users/jam/msc/course-works\")\n",
    "print(os.getcwd())  # Verify the change"
   ]
  },
  {
   "cell_type": "code",
   "execution_count": 236,
   "id": "3a4b2a17-0b81-4d75-a8f0-e750304505c5",
   "metadata": {},
   "outputs": [],
   "source": [
    "import pandas as pd\n",
    "import numpy as np\n",
    "import matplotlib.pyplot as plt\n",
    "import seaborn as sns\n",
    "from mpl_toolkits.mplot3d import Axes3D"
   ]
  },
  {
   "cell_type": "code",
   "execution_count": 15,
   "id": "de5d3f21-f641-43dc-aeaf-087f70090480",
   "metadata": {},
   "outputs": [],
   "source": [
    "df = pd.read_csv(\"online_retail.csv\")"
   ]
  },
  {
   "cell_type": "code",
   "execution_count": 17,
   "id": "cf84b851-27d7-48eb-bc4f-afdf0d981832",
   "metadata": {},
   "outputs": [
    {
     "data": {
      "text/html": [
       "<div>\n",
       "<style scoped>\n",
       "    .dataframe tbody tr th:only-of-type {\n",
       "        vertical-align: middle;\n",
       "    }\n",
       "\n",
       "    .dataframe tbody tr th {\n",
       "        vertical-align: top;\n",
       "    }\n",
       "\n",
       "    .dataframe thead th {\n",
       "        text-align: right;\n",
       "    }\n",
       "</style>\n",
       "<table border=\"1\" class=\"dataframe\">\n",
       "  <thead>\n",
       "    <tr style=\"text-align: right;\">\n",
       "      <th></th>\n",
       "      <th>index</th>\n",
       "      <th>InvoiceNo</th>\n",
       "      <th>StockCode</th>\n",
       "      <th>Description</th>\n",
       "      <th>Quantity</th>\n",
       "      <th>InvoiceDate</th>\n",
       "      <th>UnitPrice</th>\n",
       "      <th>CustomerID</th>\n",
       "      <th>Country</th>\n",
       "    </tr>\n",
       "  </thead>\n",
       "  <tbody>\n",
       "    <tr>\n",
       "      <th>0</th>\n",
       "      <td>0</td>\n",
       "      <td>536365</td>\n",
       "      <td>85123A</td>\n",
       "      <td>WHITE HANGING HEART T-LIGHT HOLDER</td>\n",
       "      <td>6</td>\n",
       "      <td>12/1/2010 8:26</td>\n",
       "      <td>2.55</td>\n",
       "      <td>17850.0</td>\n",
       "      <td>United Kingdom</td>\n",
       "    </tr>\n",
       "    <tr>\n",
       "      <th>1</th>\n",
       "      <td>1</td>\n",
       "      <td>536365</td>\n",
       "      <td>71053</td>\n",
       "      <td>WHITE METAL LANTERN</td>\n",
       "      <td>6</td>\n",
       "      <td>12/1/2010 8:26</td>\n",
       "      <td>3.39</td>\n",
       "      <td>17850.0</td>\n",
       "      <td>United Kingdom</td>\n",
       "    </tr>\n",
       "    <tr>\n",
       "      <th>2</th>\n",
       "      <td>2</td>\n",
       "      <td>536365</td>\n",
       "      <td>84406B</td>\n",
       "      <td>CREAM CUPID HEARTS COAT HANGER</td>\n",
       "      <td>8</td>\n",
       "      <td>12/1/2010 8:26</td>\n",
       "      <td>2.75</td>\n",
       "      <td>17850.0</td>\n",
       "      <td>United Kingdom</td>\n",
       "    </tr>\n",
       "    <tr>\n",
       "      <th>3</th>\n",
       "      <td>3</td>\n",
       "      <td>536365</td>\n",
       "      <td>84029G</td>\n",
       "      <td>KNITTED UNION FLAG HOT WATER BOTTLE</td>\n",
       "      <td>6</td>\n",
       "      <td>12/1/2010 8:26</td>\n",
       "      <td>3.39</td>\n",
       "      <td>17850.0</td>\n",
       "      <td>United Kingdom</td>\n",
       "    </tr>\n",
       "    <tr>\n",
       "      <th>4</th>\n",
       "      <td>4</td>\n",
       "      <td>536365</td>\n",
       "      <td>84029E</td>\n",
       "      <td>RED WOOLLY HOTTIE WHITE HEART.</td>\n",
       "      <td>6</td>\n",
       "      <td>12/1/2010 8:26</td>\n",
       "      <td>3.39</td>\n",
       "      <td>17850.0</td>\n",
       "      <td>United Kingdom</td>\n",
       "    </tr>\n",
       "  </tbody>\n",
       "</table>\n",
       "</div>"
      ],
      "text/plain": [
       "   index InvoiceNo StockCode                          Description  Quantity  \\\n",
       "0      0    536365    85123A   WHITE HANGING HEART T-LIGHT HOLDER         6   \n",
       "1      1    536365     71053                  WHITE METAL LANTERN         6   \n",
       "2      2    536365    84406B       CREAM CUPID HEARTS COAT HANGER         8   \n",
       "3      3    536365    84029G  KNITTED UNION FLAG HOT WATER BOTTLE         6   \n",
       "4      4    536365    84029E       RED WOOLLY HOTTIE WHITE HEART.         6   \n",
       "\n",
       "      InvoiceDate  UnitPrice  CustomerID         Country  \n",
       "0  12/1/2010 8:26       2.55     17850.0  United Kingdom  \n",
       "1  12/1/2010 8:26       3.39     17850.0  United Kingdom  \n",
       "2  12/1/2010 8:26       2.75     17850.0  United Kingdom  \n",
       "3  12/1/2010 8:26       3.39     17850.0  United Kingdom  \n",
       "4  12/1/2010 8:26       3.39     17850.0  United Kingdom  "
      ]
     },
     "execution_count": 17,
     "metadata": {},
     "output_type": "execute_result"
    }
   ],
   "source": [
    "# check data header\n",
    "df.head()"
   ]
  },
  {
   "cell_type": "code",
   "execution_count": 31,
   "id": "274a6069-6fa2-4c3a-8f4b-b7614fcdc7f7",
   "metadata": {},
   "outputs": [
    {
     "name": "stdout",
     "output_type": "stream",
     "text": [
      "<class 'pandas.core.frame.DataFrame'>\n",
      "RangeIndex: 541909 entries, 0 to 541908\n",
      "Data columns (total 9 columns):\n",
      " #   Column       Non-Null Count   Dtype  \n",
      "---  ------       --------------   -----  \n",
      " 0   index        541909 non-null  int64  \n",
      " 1   InvoiceNo    541909 non-null  object \n",
      " 2   StockCode    541909 non-null  object \n",
      " 3   Description  540455 non-null  object \n",
      " 4   Quantity     541909 non-null  int64  \n",
      " 5   InvoiceDate  541909 non-null  object \n",
      " 6   UnitPrice    541909 non-null  float64\n",
      " 7   CustomerID   406829 non-null  float64\n",
      " 8   Country      541909 non-null  object \n",
      "dtypes: float64(2), int64(2), object(5)\n",
      "memory usage: 37.2+ MB\n"
     ]
    }
   ],
   "source": [
    "# check data types and information\n",
    "df.info()"
   ]
  },
  {
   "cell_type": "code",
   "execution_count": 85,
   "id": "360a14b9-1a29-48b5-891b-770064dbaccc",
   "metadata": {},
   "outputs": [
    {
     "name": "stdout",
     "output_type": "stream",
     "text": [
      "Number of rows and columns: (541909, 9)\n"
     ]
    }
   ],
   "source": [
    "# check data shape\n",
    "print(f\"Number of rows and columns: {df.shape}\")"
   ]
  },
  {
   "cell_type": "code",
   "execution_count": 23,
   "id": "1f95b09c-b9a2-4e1f-90ec-af16bc8b58d8",
   "metadata": {},
   "outputs": [
    {
     "data": {
      "text/plain": [
       "index            int64\n",
       "InvoiceNo       object\n",
       "StockCode       object\n",
       "Description     object\n",
       "Quantity         int64\n",
       "InvoiceDate     object\n",
       "UnitPrice      float64\n",
       "CustomerID     float64\n",
       "Country         object\n",
       "dtype: object"
      ]
     },
     "execution_count": 23,
     "metadata": {},
     "output_type": "execute_result"
    }
   ],
   "source": [
    "# check data types\n",
    "df.dtypes"
   ]
  },
  {
   "cell_type": "markdown",
   "id": "89bc0e0b-2057-408c-a994-4265eedc5dab",
   "metadata": {},
   "source": [
    "### Handle data types"
   ]
  },
  {
   "cell_type": "code",
   "execution_count": 155,
   "id": "114120a8-e4c5-4017-a0f6-9e6b4f90625e",
   "metadata": {},
   "outputs": [
    {
     "name": "stdout",
     "output_type": "stream",
     "text": [
      "int64\n"
     ]
    }
   ],
   "source": [
    "# Convert CustomerID from float to int (handling NaN values first)\n",
    "df[\"CustomerID\"] = df[\"CustomerID\"].fillna(0).astype(int)  # Replace NaN with 0 before conversion\n",
    "# Print the updated data type\n",
    "print(df[\"CustomerID\"].dtype)"
   ]
  },
  {
   "cell_type": "code",
   "execution_count": 157,
   "id": "c85b7cc4-ab58-4fa6-9261-693da260880b",
   "metadata": {},
   "outputs": [
    {
     "name": "stdout",
     "output_type": "stream",
     "text": [
      "datetime64[ns]\n"
     ]
    }
   ],
   "source": [
    "# Convert InvoiceDate to datetime format\n",
    "df[\"InvoiceDate\"] = pd.to_datetime(df[\"InvoiceDate\"])\n",
    "\n",
    "# Print the updated data type\n",
    "print(df[\"InvoiceDate\"].dtype)"
   ]
  },
  {
   "cell_type": "code",
   "execution_count": 159,
   "id": "8d0db120-845e-4338-8542-a930d6351849",
   "metadata": {},
   "outputs": [
    {
     "data": {
      "text/plain": [
       "index                   int64\n",
       "InvoiceNo              object\n",
       "StockCode              object\n",
       "Description            object\n",
       "Quantity                int64\n",
       "InvoiceDate    datetime64[ns]\n",
       "UnitPrice             float64\n",
       "CustomerID              int64\n",
       "Country                object\n",
       "dtype: object"
      ]
     },
     "execution_count": 159,
     "metadata": {},
     "output_type": "execute_result"
    }
   ],
   "source": [
    "# check data types\n",
    "df.dtypes"
   ]
  },
  {
   "cell_type": "code",
   "execution_count": 33,
   "id": "83538d8e-8525-4832-92cc-73d989b0117a",
   "metadata": {},
   "outputs": [
    {
     "name": "stdout",
     "output_type": "stream",
     "text": [
      "index               0\n",
      "InvoiceNo           0\n",
      "StockCode           0\n",
      "Description      1454\n",
      "Quantity            0\n",
      "InvoiceDate         0\n",
      "UnitPrice           0\n",
      "CustomerID     135080\n",
      "Country             0\n",
      "dtype: int64\n"
     ]
    }
   ],
   "source": [
    "#Ensure no missing values are available in the dataset\n",
    "print(df.isnull().sum())  "
   ]
  },
  {
   "cell_type": "code",
   "execution_count": 87,
   "id": "f26e501f-35a8-4115-8dd2-22158ce1c334",
   "metadata": {},
   "outputs": [
    {
     "name": "stdout",
     "output_type": "stream",
     "text": [
      "Number of null values for Description column: 0\n"
     ]
    }
   ],
   "source": [
    "# Check for empty or null values\n",
    "print(f\"Number of null values for Description column: {df[\"Description\"].isnull().sum()}\")"
   ]
  },
  {
   "cell_type": "code",
   "execution_count": 89,
   "id": "a03d3c9d-eb1e-40ea-b5fb-d7a3b1ecad86",
   "metadata": {},
   "outputs": [
    {
     "name": "stdout",
     "output_type": "stream",
     "text": [
      "Rows with ?? values in the Description column: 0\n"
     ]
    }
   ],
   "source": [
    "# Check for '??' values\n",
    "print(f\"Rows with ?? values in the Description column: {df[df[\"Description\"] == \"??\"].shape[0]}\")"
   ]
  },
  {
   "cell_type": "code",
   "execution_count": 49,
   "id": "c44530a7-2fb8-4548-a401-206b0654e607",
   "metadata": {},
   "outputs": [],
   "source": [
    "#Fill missing description with StockCode\n",
    "df['Description'] = df['Description'].fillna(df['StockCode'])\n",
    "df.loc[df[\"Description\"] == \"??\", \"Description\"] = df[\"StockCode\"]"
   ]
  },
  {
   "cell_type": "code",
   "execution_count": 91,
   "id": "e179a7b3-316f-4152-82a1-17f364683315",
   "metadata": {},
   "outputs": [
    {
     "name": "stdout",
     "output_type": "stream",
     "text": [
      "Number of null values for Description column after filna: 0\n"
     ]
    }
   ],
   "source": [
    "# Check for empty or null values\n",
    "\n",
    "print(f\"Number of null values for Description column after filna: {df[\"Description\"].isnull().sum()}\")"
   ]
  },
  {
   "cell_type": "code",
   "execution_count": 93,
   "id": "e11b22f9-7e98-49ca-a78e-c92ec0398287",
   "metadata": {},
   "outputs": [
    {
     "name": "stdout",
     "output_type": "stream",
     "text": [
      "Number of ?? values for Description column after filna: 0\n"
     ]
    }
   ],
   "source": [
    "# Check for '??' values\n",
    "print(f\"Number of ?? values for Description column after filna: {df[df[\"Description\"] == \"??\"].shape[0]}\")"
   ]
  },
  {
   "cell_type": "code",
   "execution_count": 62,
   "id": "ea9df916-1705-4b48-84e5-2ba54808edfb",
   "metadata": {},
   "outputs": [
    {
     "name": "stdout",
     "output_type": "stream",
     "text": [
      "Number of duplicate rows: 0\n"
     ]
    }
   ],
   "source": [
    "# Check for duplicate rows\n",
    "duplicate_rows = df[df.duplicated()]\n",
    "print(f\"Number of duplicate rows: {duplicate_rows.shape[0]}\")"
   ]
  },
  {
   "cell_type": "code",
   "execution_count": 66,
   "id": "18df1749-7b07-4726-bc01-353b5675e87c",
   "metadata": {},
   "outputs": [
    {
     "name": "stdout",
     "output_type": "stream",
     "text": [
      "Percentage of missing CustomerID values: 24.93%\n"
     ]
    }
   ],
   "source": [
    "null_percentage = (df[\"CustomerID\"].isnull().sum() / len(df)) * 100\n",
    "print(f\"Percentage of missing CustomerID values: {null_percentage:.2f}%\")"
   ]
  },
  {
   "cell_type": "code",
   "execution_count": null,
   "id": "0117d07c-1510-44e3-b557-3d317b54d72d",
   "metadata": {},
   "outputs": [],
   "source": [
    "# Due to higer percentage of missing customer id values, this could be due to guest checkouts, return transactions or invalid transactions"
   ]
  },
  {
   "cell_type": "code",
   "execution_count": 64,
   "id": "3ee22729-7748-4774-995c-592861ec99d0",
   "metadata": {},
   "outputs": [
    {
     "name": "stdout",
     "output_type": "stream",
     "text": [
      "10624 rows with negative Quantity\n",
      "2517 rows with zero/negative UnitPrice\n"
     ]
    }
   ],
   "source": [
    "# Check for negative values in Quantity and UnitPrice\n",
    "print(df[df[\"Quantity\"] <= 0].shape[0], \"rows with negative Quantity\")\n",
    "print(df[df[\"UnitPrice\"] <= 0].shape[0], \"rows with zero/negative UnitPrice\")"
   ]
  },
  {
   "cell_type": "code",
   "execution_count": 103,
   "id": "7dd095f1-7f76-416c-95d6-5b81e7190afe",
   "metadata": {},
   "outputs": [
    {
     "name": "stdout",
     "output_type": "stream",
     "text": [
      "Rows with negative Quantity and missing CustomerID: 1719\n",
      "Percentage of rows with zero/negative UnitPrice: 1.96%\n"
     ]
    },
    {
     "data": {
      "text/html": [
       "<div>\n",
       "<style scoped>\n",
       "    .dataframe tbody tr th:only-of-type {\n",
       "        vertical-align: middle;\n",
       "    }\n",
       "\n",
       "    .dataframe tbody tr th {\n",
       "        vertical-align: top;\n",
       "    }\n",
       "\n",
       "    .dataframe thead th {\n",
       "        text-align: right;\n",
       "    }\n",
       "</style>\n",
       "<table border=\"1\" class=\"dataframe\">\n",
       "  <thead>\n",
       "    <tr style=\"text-align: right;\">\n",
       "      <th></th>\n",
       "      <th>index</th>\n",
       "      <th>InvoiceNo</th>\n",
       "      <th>StockCode</th>\n",
       "      <th>Description</th>\n",
       "      <th>Quantity</th>\n",
       "      <th>InvoiceDate</th>\n",
       "      <th>UnitPrice</th>\n",
       "      <th>CustomerID</th>\n",
       "      <th>Country</th>\n",
       "    </tr>\n",
       "  </thead>\n",
       "  <tbody>\n",
       "    <tr>\n",
       "      <th>2406</th>\n",
       "      <td>2406</td>\n",
       "      <td>536589</td>\n",
       "      <td>21777</td>\n",
       "      <td>21777</td>\n",
       "      <td>-10</td>\n",
       "      <td>12/1/2010 16:50</td>\n",
       "      <td>0.0</td>\n",
       "      <td>NaN</td>\n",
       "      <td>United Kingdom</td>\n",
       "    </tr>\n",
       "    <tr>\n",
       "      <th>4347</th>\n",
       "      <td>4347</td>\n",
       "      <td>536764</td>\n",
       "      <td>84952C</td>\n",
       "      <td>84952C</td>\n",
       "      <td>-38</td>\n",
       "      <td>12/2/2010 14:42</td>\n",
       "      <td>0.0</td>\n",
       "      <td>NaN</td>\n",
       "      <td>United Kingdom</td>\n",
       "    </tr>\n",
       "    <tr>\n",
       "      <th>7188</th>\n",
       "      <td>7188</td>\n",
       "      <td>536996</td>\n",
       "      <td>22712</td>\n",
       "      <td>22712</td>\n",
       "      <td>-20</td>\n",
       "      <td>12/3/2010 15:30</td>\n",
       "      <td>0.0</td>\n",
       "      <td>NaN</td>\n",
       "      <td>United Kingdom</td>\n",
       "    </tr>\n",
       "    <tr>\n",
       "      <th>7189</th>\n",
       "      <td>7189</td>\n",
       "      <td>536997</td>\n",
       "      <td>22028</td>\n",
       "      <td>22028</td>\n",
       "      <td>-20</td>\n",
       "      <td>12/3/2010 15:30</td>\n",
       "      <td>0.0</td>\n",
       "      <td>NaN</td>\n",
       "      <td>United Kingdom</td>\n",
       "    </tr>\n",
       "    <tr>\n",
       "      <th>7190</th>\n",
       "      <td>7190</td>\n",
       "      <td>536998</td>\n",
       "      <td>85067</td>\n",
       "      <td>85067</td>\n",
       "      <td>-6</td>\n",
       "      <td>12/3/2010 15:30</td>\n",
       "      <td>0.0</td>\n",
       "      <td>NaN</td>\n",
       "      <td>United Kingdom</td>\n",
       "    </tr>\n",
       "  </tbody>\n",
       "</table>\n",
       "</div>"
      ],
      "text/plain": [
       "      index InvoiceNo StockCode Description  Quantity      InvoiceDate  \\\n",
       "2406   2406    536589     21777       21777       -10  12/1/2010 16:50   \n",
       "4347   4347    536764    84952C      84952C       -38  12/2/2010 14:42   \n",
       "7188   7188    536996     22712       22712       -20  12/3/2010 15:30   \n",
       "7189   7189    536997     22028       22028       -20  12/3/2010 15:30   \n",
       "7190   7190    536998     85067       85067        -6  12/3/2010 15:30   \n",
       "\n",
       "      UnitPrice  CustomerID         Country  \n",
       "2406        0.0         NaN  United Kingdom  \n",
       "4347        0.0         NaN  United Kingdom  \n",
       "7188        0.0         NaN  United Kingdom  \n",
       "7189        0.0         NaN  United Kingdom  \n",
       "7190        0.0         NaN  United Kingdom  "
      ]
     },
     "execution_count": 103,
     "metadata": {},
     "output_type": "execute_result"
    }
   ],
   "source": [
    "# Check rows where Quantity is negative and CustomerID is null\n",
    "negative_quantity_null_customer = df[(df[\"Quantity\"] <= 0) & (df[\"CustomerID\"].isnull())]\n",
    "print(f\"Rows with negative Quantity and missing CustomerID: {negative_quantity_null_customer.shape[0]}\")\n",
    "\n",
    "unitprice_zero_negative_percentage = (df[df[\"Quantity\"] <= 0].shape[0] / len(df)) * 100\n",
    "print(f\"Percentage of rows with zero/negative UnitPrice: {unitprice_zero_negative_percentage:.2f}%\")\n",
    "\n",
    "negative_quantity_null_customer.head()"
   ]
  },
  {
   "cell_type": "code",
   "execution_count": 186,
   "id": "356b9489-1134-462c-a427-4d6e6cfee1b6",
   "metadata": {},
   "outputs": [
    {
     "name": "stdout",
     "output_type": "stream",
     "text": [
      "0 rows with negative Quantity\n",
      "0 rows with zero/negative UnitPrice\n"
     ]
    }
   ],
   "source": [
    "# Negative or Zero value for Quantity can be due to human error, returned transactions, order cancelations or any other reason. \n",
    "# Negative or Zero value for UnitPrice can be due to human error or any other reason. \n",
    "# Filter data frame excluding invalid quantities and invalid unit prices\n",
    "\n",
    "df_cleaned = df[(df['Quantity'] > 0) & (df['UnitPrice'] > 0)]\n",
    "print(df_cleaned[df_cleaned[\"Quantity\"] <= 0].shape[0], \"rows with negative Quantity\")\n",
    "print(df_cleaned[df_cleaned[\"UnitPrice\"] <= 0].shape[0], \"rows with zero/negative UnitPrice\")"
   ]
  },
  {
   "cell_type": "code",
   "execution_count": 188,
   "id": "833a81d3-32d0-49b6-8afb-24f2ee5e91c1",
   "metadata": {},
   "outputs": [
    {
     "name": "stdout",
     "output_type": "stream",
     "text": [
      "index          0\n",
      "InvoiceNo      0\n",
      "StockCode      0\n",
      "Description    0\n",
      "Quantity       0\n",
      "InvoiceDate    0\n",
      "UnitPrice      0\n",
      "CustomerID     0\n",
      "Country        0\n",
      "dtype: int64\n"
     ]
    }
   ],
   "source": [
    "print(df_cleaned.isnull().sum())  "
   ]
  },
  {
   "cell_type": "code",
   "execution_count": 190,
   "id": "070a6e04-4688-4ab7-8db4-356f6e362668",
   "metadata": {},
   "outputs": [
    {
     "name": "stdout",
     "output_type": "stream",
     "text": [
      "Percentage of missing CustomerID values: 0.00%\n"
     ]
    }
   ],
   "source": [
    "null_percentage = (df_cleaned[\"CustomerID\"].isnull().sum() / len(df_cleaned)) * 100\n",
    "print(f\"Percentage of missing CustomerID values: {null_percentage:.2f}%\")"
   ]
  },
  {
   "cell_type": "markdown",
   "id": "072ce25c-c1c7-4dfe-8797-8f859e31f786",
   "metadata": {},
   "source": [
    "## Descriptive Analysis"
   ]
  },
  {
   "cell_type": "code",
   "execution_count": 194,
   "id": "1f6b1b1c-d57f-4682-8bc0-71f417500612",
   "metadata": {},
   "outputs": [
    {
     "data": {
      "text/html": [
       "<div>\n",
       "<style scoped>\n",
       "    .dataframe tbody tr th:only-of-type {\n",
       "        vertical-align: middle;\n",
       "    }\n",
       "\n",
       "    .dataframe tbody tr th {\n",
       "        vertical-align: top;\n",
       "    }\n",
       "\n",
       "    .dataframe thead th {\n",
       "        text-align: right;\n",
       "    }\n",
       "</style>\n",
       "<table border=\"1\" class=\"dataframe\">\n",
       "  <thead>\n",
       "    <tr style=\"text-align: right;\">\n",
       "      <th></th>\n",
       "      <th>index</th>\n",
       "      <th>InvoiceNo</th>\n",
       "      <th>StockCode</th>\n",
       "      <th>Description</th>\n",
       "      <th>Quantity</th>\n",
       "      <th>InvoiceDate</th>\n",
       "      <th>UnitPrice</th>\n",
       "      <th>CustomerID</th>\n",
       "      <th>Country</th>\n",
       "    </tr>\n",
       "  </thead>\n",
       "  <tbody>\n",
       "    <tr>\n",
       "      <th>0</th>\n",
       "      <td>0</td>\n",
       "      <td>536365</td>\n",
       "      <td>85123A</td>\n",
       "      <td>WHITE HANGING HEART T-LIGHT HOLDER</td>\n",
       "      <td>6</td>\n",
       "      <td>2010-12-01 08:26:00</td>\n",
       "      <td>2.55</td>\n",
       "      <td>17850</td>\n",
       "      <td>United Kingdom</td>\n",
       "    </tr>\n",
       "    <tr>\n",
       "      <th>1</th>\n",
       "      <td>1</td>\n",
       "      <td>536365</td>\n",
       "      <td>71053</td>\n",
       "      <td>WHITE METAL LANTERN</td>\n",
       "      <td>6</td>\n",
       "      <td>2010-12-01 08:26:00</td>\n",
       "      <td>3.39</td>\n",
       "      <td>17850</td>\n",
       "      <td>United Kingdom</td>\n",
       "    </tr>\n",
       "    <tr>\n",
       "      <th>2</th>\n",
       "      <td>2</td>\n",
       "      <td>536365</td>\n",
       "      <td>84406B</td>\n",
       "      <td>CREAM CUPID HEARTS COAT HANGER</td>\n",
       "      <td>8</td>\n",
       "      <td>2010-12-01 08:26:00</td>\n",
       "      <td>2.75</td>\n",
       "      <td>17850</td>\n",
       "      <td>United Kingdom</td>\n",
       "    </tr>\n",
       "    <tr>\n",
       "      <th>3</th>\n",
       "      <td>3</td>\n",
       "      <td>536365</td>\n",
       "      <td>84029G</td>\n",
       "      <td>KNITTED UNION FLAG HOT WATER BOTTLE</td>\n",
       "      <td>6</td>\n",
       "      <td>2010-12-01 08:26:00</td>\n",
       "      <td>3.39</td>\n",
       "      <td>17850</td>\n",
       "      <td>United Kingdom</td>\n",
       "    </tr>\n",
       "    <tr>\n",
       "      <th>4</th>\n",
       "      <td>4</td>\n",
       "      <td>536365</td>\n",
       "      <td>84029E</td>\n",
       "      <td>RED WOOLLY HOTTIE WHITE HEART.</td>\n",
       "      <td>6</td>\n",
       "      <td>2010-12-01 08:26:00</td>\n",
       "      <td>3.39</td>\n",
       "      <td>17850</td>\n",
       "      <td>United Kingdom</td>\n",
       "    </tr>\n",
       "  </tbody>\n",
       "</table>\n",
       "</div>"
      ],
      "text/plain": [
       "   index InvoiceNo StockCode                          Description  Quantity  \\\n",
       "0      0    536365    85123A   WHITE HANGING HEART T-LIGHT HOLDER         6   \n",
       "1      1    536365     71053                  WHITE METAL LANTERN         6   \n",
       "2      2    536365    84406B       CREAM CUPID HEARTS COAT HANGER         8   \n",
       "3      3    536365    84029G  KNITTED UNION FLAG HOT WATER BOTTLE         6   \n",
       "4      4    536365    84029E       RED WOOLLY HOTTIE WHITE HEART.         6   \n",
       "\n",
       "          InvoiceDate  UnitPrice  CustomerID         Country  \n",
       "0 2010-12-01 08:26:00       2.55       17850  United Kingdom  \n",
       "1 2010-12-01 08:26:00       3.39       17850  United Kingdom  \n",
       "2 2010-12-01 08:26:00       2.75       17850  United Kingdom  \n",
       "3 2010-12-01 08:26:00       3.39       17850  United Kingdom  \n",
       "4 2010-12-01 08:26:00       3.39       17850  United Kingdom  "
      ]
     },
     "execution_count": 194,
     "metadata": {},
     "output_type": "execute_result"
    }
   ],
   "source": [
    "df_cleaned.head()"
   ]
  },
  {
   "cell_type": "code",
   "execution_count": 192,
   "id": "c2d7e067-528a-4b52-b2dc-064b3702b054",
   "metadata": {},
   "outputs": [
    {
     "data": {
      "text/html": [
       "<div>\n",
       "<style scoped>\n",
       "    .dataframe tbody tr th:only-of-type {\n",
       "        vertical-align: middle;\n",
       "    }\n",
       "\n",
       "    .dataframe tbody tr th {\n",
       "        vertical-align: top;\n",
       "    }\n",
       "\n",
       "    .dataframe thead th {\n",
       "        text-align: right;\n",
       "    }\n",
       "</style>\n",
       "<table border=\"1\" class=\"dataframe\">\n",
       "  <thead>\n",
       "    <tr style=\"text-align: right;\">\n",
       "      <th></th>\n",
       "      <th>index</th>\n",
       "      <th>Quantity</th>\n",
       "      <th>InvoiceDate</th>\n",
       "      <th>UnitPrice</th>\n",
       "      <th>CustomerID</th>\n",
       "    </tr>\n",
       "  </thead>\n",
       "  <tbody>\n",
       "    <tr>\n",
       "      <th>count</th>\n",
       "      <td>530104.000000</td>\n",
       "      <td>530104.000000</td>\n",
       "      <td>530104</td>\n",
       "      <td>530104.000000</td>\n",
       "      <td>530104.000000</td>\n",
       "    </tr>\n",
       "    <tr>\n",
       "      <th>mean</th>\n",
       "      <td>271365.705603</td>\n",
       "      <td>10.542037</td>\n",
       "      <td>2011-07-04 20:16:05.225087744</td>\n",
       "      <td>3.907625</td>\n",
       "      <td>11479.646222</td>\n",
       "    </tr>\n",
       "    <tr>\n",
       "      <th>min</th>\n",
       "      <td>0.000000</td>\n",
       "      <td>1.000000</td>\n",
       "      <td>2010-12-01 08:26:00</td>\n",
       "      <td>0.001000</td>\n",
       "      <td>0.000000</td>\n",
       "    </tr>\n",
       "    <tr>\n",
       "      <th>25%</th>\n",
       "      <td>135688.750000</td>\n",
       "      <td>1.000000</td>\n",
       "      <td>2011-03-28 12:22:00</td>\n",
       "      <td>1.250000</td>\n",
       "      <td>12352.000000</td>\n",
       "    </tr>\n",
       "    <tr>\n",
       "      <th>50%</th>\n",
       "      <td>271600.500000</td>\n",
       "      <td>3.000000</td>\n",
       "      <td>2011-07-20 12:58:00</td>\n",
       "      <td>2.080000</td>\n",
       "      <td>14388.000000</td>\n",
       "    </tr>\n",
       "    <tr>\n",
       "      <th>75%</th>\n",
       "      <td>407182.250000</td>\n",
       "      <td>10.000000</td>\n",
       "      <td>2011-10-19 12:39:00</td>\n",
       "      <td>4.130000</td>\n",
       "      <td>16265.000000</td>\n",
       "    </tr>\n",
       "    <tr>\n",
       "      <th>max</th>\n",
       "      <td>541908.000000</td>\n",
       "      <td>80995.000000</td>\n",
       "      <td>2011-12-09 12:50:00</td>\n",
       "      <td>13541.330000</td>\n",
       "      <td>18287.000000</td>\n",
       "    </tr>\n",
       "    <tr>\n",
       "      <th>std</th>\n",
       "      <td>156559.013587</td>\n",
       "      <td>155.524124</td>\n",
       "      <td>NaN</td>\n",
       "      <td>35.915681</td>\n",
       "      <td>6781.976768</td>\n",
       "    </tr>\n",
       "  </tbody>\n",
       "</table>\n",
       "</div>"
      ],
      "text/plain": [
       "               index       Quantity                    InvoiceDate  \\\n",
       "count  530104.000000  530104.000000                         530104   \n",
       "mean   271365.705603      10.542037  2011-07-04 20:16:05.225087744   \n",
       "min         0.000000       1.000000            2010-12-01 08:26:00   \n",
       "25%    135688.750000       1.000000            2011-03-28 12:22:00   \n",
       "50%    271600.500000       3.000000            2011-07-20 12:58:00   \n",
       "75%    407182.250000      10.000000            2011-10-19 12:39:00   \n",
       "max    541908.000000   80995.000000            2011-12-09 12:50:00   \n",
       "std    156559.013587     155.524124                            NaN   \n",
       "\n",
       "           UnitPrice     CustomerID  \n",
       "count  530104.000000  530104.000000  \n",
       "mean        3.907625   11479.646222  \n",
       "min         0.001000       0.000000  \n",
       "25%         1.250000   12352.000000  \n",
       "50%         2.080000   14388.000000  \n",
       "75%         4.130000   16265.000000  \n",
       "max     13541.330000   18287.000000  \n",
       "std        35.915681    6781.976768  "
      ]
     },
     "execution_count": 192,
     "metadata": {},
     "output_type": "execute_result"
    }
   ],
   "source": [
    "df_cleaned.describe()"
   ]
  },
  {
   "cell_type": "markdown",
   "id": "a4374a24-5225-47a3-9df8-d026e923a6f5",
   "metadata": {},
   "source": [
    "### Visualize distributions of numerical features using histograms "
   ]
  },
  {
   "cell_type": "markdown",
   "id": "cf722c49-239e-4185-a223-9b3fecc47c20",
   "metadata": {},
   "source": [
    "#### Introduce Total Amount based on the Quantity and UnitPrice"
   ]
  },
  {
   "cell_type": "code",
   "execution_count": 213,
   "id": "2906658d-6bd6-4209-b86e-7aaa569c79f8",
   "metadata": {},
   "outputs": [],
   "source": [
    "df_cleaned['TotalAmount'] = df_cleaned['Quantity'] * df_cleaned['UnitPrice']"
   ]
  },
  {
   "cell_type": "code",
   "execution_count": 215,
   "id": "96a554d6-2f47-4d96-a5eb-32e3a4bdcf09",
   "metadata": {},
   "outputs": [
    {
     "data": {
      "text/html": [
       "<div>\n",
       "<style scoped>\n",
       "    .dataframe tbody tr th:only-of-type {\n",
       "        vertical-align: middle;\n",
       "    }\n",
       "\n",
       "    .dataframe tbody tr th {\n",
       "        vertical-align: top;\n",
       "    }\n",
       "\n",
       "    .dataframe thead th {\n",
       "        text-align: right;\n",
       "    }\n",
       "</style>\n",
       "<table border=\"1\" class=\"dataframe\">\n",
       "  <thead>\n",
       "    <tr style=\"text-align: right;\">\n",
       "      <th></th>\n",
       "      <th>index</th>\n",
       "      <th>InvoiceNo</th>\n",
       "      <th>StockCode</th>\n",
       "      <th>Description</th>\n",
       "      <th>Quantity</th>\n",
       "      <th>InvoiceDate</th>\n",
       "      <th>UnitPrice</th>\n",
       "      <th>CustomerID</th>\n",
       "      <th>Country</th>\n",
       "      <th>TotalAmount</th>\n",
       "    </tr>\n",
       "  </thead>\n",
       "  <tbody>\n",
       "    <tr>\n",
       "      <th>0</th>\n",
       "      <td>0</td>\n",
       "      <td>536365</td>\n",
       "      <td>85123A</td>\n",
       "      <td>WHITE HANGING HEART T-LIGHT HOLDER</td>\n",
       "      <td>6</td>\n",
       "      <td>2010-12-01 08:26:00</td>\n",
       "      <td>2.55</td>\n",
       "      <td>17850</td>\n",
       "      <td>United Kingdom</td>\n",
       "      <td>15.30</td>\n",
       "    </tr>\n",
       "    <tr>\n",
       "      <th>1</th>\n",
       "      <td>1</td>\n",
       "      <td>536365</td>\n",
       "      <td>71053</td>\n",
       "      <td>WHITE METAL LANTERN</td>\n",
       "      <td>6</td>\n",
       "      <td>2010-12-01 08:26:00</td>\n",
       "      <td>3.39</td>\n",
       "      <td>17850</td>\n",
       "      <td>United Kingdom</td>\n",
       "      <td>20.34</td>\n",
       "    </tr>\n",
       "    <tr>\n",
       "      <th>2</th>\n",
       "      <td>2</td>\n",
       "      <td>536365</td>\n",
       "      <td>84406B</td>\n",
       "      <td>CREAM CUPID HEARTS COAT HANGER</td>\n",
       "      <td>8</td>\n",
       "      <td>2010-12-01 08:26:00</td>\n",
       "      <td>2.75</td>\n",
       "      <td>17850</td>\n",
       "      <td>United Kingdom</td>\n",
       "      <td>22.00</td>\n",
       "    </tr>\n",
       "    <tr>\n",
       "      <th>3</th>\n",
       "      <td>3</td>\n",
       "      <td>536365</td>\n",
       "      <td>84029G</td>\n",
       "      <td>KNITTED UNION FLAG HOT WATER BOTTLE</td>\n",
       "      <td>6</td>\n",
       "      <td>2010-12-01 08:26:00</td>\n",
       "      <td>3.39</td>\n",
       "      <td>17850</td>\n",
       "      <td>United Kingdom</td>\n",
       "      <td>20.34</td>\n",
       "    </tr>\n",
       "    <tr>\n",
       "      <th>4</th>\n",
       "      <td>4</td>\n",
       "      <td>536365</td>\n",
       "      <td>84029E</td>\n",
       "      <td>RED WOOLLY HOTTIE WHITE HEART.</td>\n",
       "      <td>6</td>\n",
       "      <td>2010-12-01 08:26:00</td>\n",
       "      <td>3.39</td>\n",
       "      <td>17850</td>\n",
       "      <td>United Kingdom</td>\n",
       "      <td>20.34</td>\n",
       "    </tr>\n",
       "  </tbody>\n",
       "</table>\n",
       "</div>"
      ],
      "text/plain": [
       "   index InvoiceNo StockCode                          Description  Quantity  \\\n",
       "0      0    536365    85123A   WHITE HANGING HEART T-LIGHT HOLDER         6   \n",
       "1      1    536365     71053                  WHITE METAL LANTERN         6   \n",
       "2      2    536365    84406B       CREAM CUPID HEARTS COAT HANGER         8   \n",
       "3      3    536365    84029G  KNITTED UNION FLAG HOT WATER BOTTLE         6   \n",
       "4      4    536365    84029E       RED WOOLLY HOTTIE WHITE HEART.         6   \n",
       "\n",
       "          InvoiceDate  UnitPrice  CustomerID         Country  TotalAmount  \n",
       "0 2010-12-01 08:26:00       2.55       17850  United Kingdom        15.30  \n",
       "1 2010-12-01 08:26:00       3.39       17850  United Kingdom        20.34  \n",
       "2 2010-12-01 08:26:00       2.75       17850  United Kingdom        22.00  \n",
       "3 2010-12-01 08:26:00       3.39       17850  United Kingdom        20.34  \n",
       "4 2010-12-01 08:26:00       3.39       17850  United Kingdom        20.34  "
      ]
     },
     "execution_count": 215,
     "metadata": {},
     "output_type": "execute_result"
    }
   ],
   "source": [
    "df_cleaned.head()"
   ]
  },
  {
   "cell_type": "code",
   "execution_count": 221,
   "id": "f5619516-45e1-4a99-9343-524d5d730855",
   "metadata": {},
   "outputs": [
    {
     "data": {
      "text/plain": [
       "index                   int64\n",
       "InvoiceNo              object\n",
       "StockCode              object\n",
       "Description            object\n",
       "Quantity                int64\n",
       "InvoiceDate    datetime64[ns]\n",
       "UnitPrice             float64\n",
       "CustomerID              int64\n",
       "Country                object\n",
       "TotalAmount           float64\n",
       "dtype: object"
      ]
     },
     "execution_count": 221,
     "metadata": {},
     "output_type": "execute_result"
    }
   ],
   "source": [
    "df_cleaned.dtypes"
   ]
  },
  {
   "cell_type": "code",
   "execution_count": 229,
   "id": "abab7564-b47a-4b8d-913f-1f0c76d65895",
   "metadata": {},
   "outputs": [
    {
     "data": {
      "text/html": [
       "<div>\n",
       "<style scoped>\n",
       "    .dataframe tbody tr th:only-of-type {\n",
       "        vertical-align: middle;\n",
       "    }\n",
       "\n",
       "    .dataframe tbody tr th {\n",
       "        vertical-align: top;\n",
       "    }\n",
       "\n",
       "    .dataframe thead th {\n",
       "        text-align: right;\n",
       "    }\n",
       "</style>\n",
       "<table border=\"1\" class=\"dataframe\">\n",
       "  <thead>\n",
       "    <tr style=\"text-align: right;\">\n",
       "      <th></th>\n",
       "      <th>TotalAmount</th>\n",
       "      <th>UnitPrice</th>\n",
       "      <th>Quantity</th>\n",
       "    </tr>\n",
       "  </thead>\n",
       "  <tbody>\n",
       "    <tr>\n",
       "      <th>count</th>\n",
       "      <td>530104.000000</td>\n",
       "      <td>530104.000000</td>\n",
       "      <td>530104.000000</td>\n",
       "    </tr>\n",
       "    <tr>\n",
       "      <th>mean</th>\n",
       "      <td>20.121871</td>\n",
       "      <td>3.907625</td>\n",
       "      <td>10.542037</td>\n",
       "    </tr>\n",
       "    <tr>\n",
       "      <th>std</th>\n",
       "      <td>270.356743</td>\n",
       "      <td>35.915681</td>\n",
       "      <td>155.524124</td>\n",
       "    </tr>\n",
       "    <tr>\n",
       "      <th>min</th>\n",
       "      <td>0.001000</td>\n",
       "      <td>0.001000</td>\n",
       "      <td>1.000000</td>\n",
       "    </tr>\n",
       "    <tr>\n",
       "      <th>25%</th>\n",
       "      <td>3.750000</td>\n",
       "      <td>1.250000</td>\n",
       "      <td>1.000000</td>\n",
       "    </tr>\n",
       "    <tr>\n",
       "      <th>50%</th>\n",
       "      <td>9.900000</td>\n",
       "      <td>2.080000</td>\n",
       "      <td>3.000000</td>\n",
       "    </tr>\n",
       "    <tr>\n",
       "      <th>75%</th>\n",
       "      <td>17.700000</td>\n",
       "      <td>4.130000</td>\n",
       "      <td>10.000000</td>\n",
       "    </tr>\n",
       "    <tr>\n",
       "      <th>max</th>\n",
       "      <td>168469.600000</td>\n",
       "      <td>13541.330000</td>\n",
       "      <td>80995.000000</td>\n",
       "    </tr>\n",
       "  </tbody>\n",
       "</table>\n",
       "</div>"
      ],
      "text/plain": [
       "         TotalAmount      UnitPrice       Quantity\n",
       "count  530104.000000  530104.000000  530104.000000\n",
       "mean       20.121871       3.907625      10.542037\n",
       "std       270.356743      35.915681     155.524124\n",
       "min         0.001000       0.001000       1.000000\n",
       "25%         3.750000       1.250000       1.000000\n",
       "50%         9.900000       2.080000       3.000000\n",
       "75%        17.700000       4.130000      10.000000\n",
       "max    168469.600000   13541.330000   80995.000000"
      ]
     },
     "execution_count": 229,
     "metadata": {},
     "output_type": "execute_result"
    }
   ],
   "source": [
    "# Summary statistics for numerical columns\n",
    "df_cleaned[[\"TotalAmount\", \"UnitPrice\", \"Quantity\"]].describe()"
   ]
  },
  {
   "cell_type": "code",
   "execution_count": null,
   "id": "7069f2f4-cc76-4fa3-9d8f-13e864464513",
   "metadata": {},
   "outputs": [],
   "source": [
    "plt.figure(figsize=(8, 5))\n",
    "sns.boxplot(x=df[\"Quantity\"], color=\"lightcoral\")\n",
    "plt.xlabel(\"Quantity Purchased\")\n",
    "plt.title(\"Boxplot of Quantity Purchased (Outlier Detection)\")\n",
    "plt.show()"
   ]
  },
  {
   "cell_type": "markdown",
   "id": "25757ebf-232e-47de-9adc-6022d2a91410",
   "metadata": {},
   "source": [
    "#### Detecting Skewed Data"
   ]
  },
  {
   "cell_type": "code",
   "execution_count": 231,
   "id": "e2a1b93c-800b-446c-a502-6a2062e0bfe3",
   "metadata": {},
   "outputs": [
    {
     "data": {
      "text/plain": [
       "TotalAmount    506.706012\n",
       "UnitPrice      206.087555\n",
       "Quantity       471.727716\n",
       "dtype: float64"
      ]
     },
     "execution_count": 231,
     "metadata": {},
     "output_type": "execute_result"
    }
   ],
   "source": [
    "# Check skewness\n",
    "df_cleaned[[\"TotalAmount\", \"UnitPrice\", \"Quantity\"]].skew()"
   ]
  },
  {
   "cell_type": "markdown",
   "id": "f6fbd413-548f-4eff-af9f-7c5533512b14",
   "metadata": {},
   "source": [
    "#### Correlation Between Numerical Features"
   ]
  },
  {
   "cell_type": "code",
   "execution_count": 234,
   "id": "7d715d27-fb20-4fb3-999f-1d470821c345",
   "metadata": {},
   "outputs": [
    {
     "data": {
      "text/html": [
       "<div>\n",
       "<style scoped>\n",
       "    .dataframe tbody tr th:only-of-type {\n",
       "        vertical-align: middle;\n",
       "    }\n",
       "\n",
       "    .dataframe tbody tr th {\n",
       "        vertical-align: top;\n",
       "    }\n",
       "\n",
       "    .dataframe thead th {\n",
       "        text-align: right;\n",
       "    }\n",
       "</style>\n",
       "<table border=\"1\" class=\"dataframe\">\n",
       "  <thead>\n",
       "    <tr style=\"text-align: right;\">\n",
       "      <th></th>\n",
       "      <th>TotalAmount</th>\n",
       "      <th>UnitPrice</th>\n",
       "      <th>Quantity</th>\n",
       "    </tr>\n",
       "  </thead>\n",
       "  <tbody>\n",
       "    <tr>\n",
       "      <th>TotalAmount</th>\n",
       "      <td>1.000000</td>\n",
       "      <td>0.137404</td>\n",
       "      <td>0.907338</td>\n",
       "    </tr>\n",
       "    <tr>\n",
       "      <th>UnitPrice</th>\n",
       "      <td>0.137404</td>\n",
       "      <td>1.000000</td>\n",
       "      <td>-0.003773</td>\n",
       "    </tr>\n",
       "    <tr>\n",
       "      <th>Quantity</th>\n",
       "      <td>0.907338</td>\n",
       "      <td>-0.003773</td>\n",
       "      <td>1.000000</td>\n",
       "    </tr>\n",
       "  </tbody>\n",
       "</table>\n",
       "</div>"
      ],
      "text/plain": [
       "             TotalAmount  UnitPrice  Quantity\n",
       "TotalAmount     1.000000   0.137404  0.907338\n",
       "UnitPrice       0.137404   1.000000 -0.003773\n",
       "Quantity        0.907338  -0.003773  1.000000"
      ]
     },
     "execution_count": 234,
     "metadata": {},
     "output_type": "execute_result"
    }
   ],
   "source": [
    "# Compute correlation matrix\n",
    "df_cleaned[[\"TotalAmount\", \"UnitPrice\", \"Quantity\"]].corr()"
   ]
  },
  {
   "cell_type": "code",
   "execution_count": 244,
   "id": "a39b3cd0-3e7f-4b5f-93ed-e60818608008",
   "metadata": {},
   "outputs": [
    {
     "data": {
      "text/plain": [
       "TotalAmount    42651\n",
       "UnitPrice      37999\n",
       "Quantity       56363\n",
       "dtype: int64"
      ]
     },
     "execution_count": 244,
     "metadata": {},
     "output_type": "execute_result"
    }
   ],
   "source": [
    "# Calculate IQR\n",
    "Q1 = df_cleaned[[\"TotalAmount\", \"UnitPrice\", \"Quantity\"]].quantile(0.25)\n",
    "Q3 = df_cleaned[[\"TotalAmount\", \"UnitPrice\", \"Quantity\"]].quantile(0.75)\n",
    "IQR = Q3 - Q1\n",
    "\n",
    "# Define outliers (1.5*IQR rule)\n",
    "outliers = ((df_cleaned[[\"TotalAmount\", \"UnitPrice\", \"Quantity\"]] < (Q1 - 1.5 * IQR)) | \n",
    "            (df_cleaned[[\"TotalAmount\", \"UnitPrice\", \"Quantity\"]] > (Q3 + 1.5 * IQR)))\n",
    "\n",
    "# Count outliers per column\n",
    "outliers.sum()"
   ]
  },
  {
   "cell_type": "code",
   "execution_count": null,
   "id": "dc37218b-c8c3-4b30-820c-612ee66ba3ba",
   "metadata": {},
   "outputs": [],
   "source": []
  }
 ],
 "metadata": {
  "kernelspec": {
   "display_name": "Python 3 (ipykernel)",
   "language": "python",
   "name": "python3"
  },
  "language_info": {
   "codemirror_mode": {
    "name": "ipython",
    "version": 3
   },
   "file_extension": ".py",
   "mimetype": "text/x-python",
   "name": "python",
   "nbconvert_exporter": "python",
   "pygments_lexer": "ipython3",
   "version": "3.12.7"
  }
 },
 "nbformat": 4,
 "nbformat_minor": 5
}
