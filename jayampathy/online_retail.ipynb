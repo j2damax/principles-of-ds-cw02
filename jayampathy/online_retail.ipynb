{
 "cells": [
  {
   "cell_type": "code",
   "execution_count": 19,
   "id": "a4da1d22-4c79-4390-b5e6-de63da43e43c",
   "metadata": {},
   "outputs": [
    {
     "name": "stdout",
     "output_type": "stream",
     "text": [
      "/Users/jam/msc/course-works\n"
     ]
    }
   ],
   "source": [
    "import os\n",
    "os.chdir(\"/Users/jam/msc/course-works\")\n",
    "print(os.getcwd())  # Verify the change"
   ]
  },
  {
   "cell_type": "code",
   "execution_count": 21,
   "id": "5ad7eb52-8194-4206-9c65-9e7f6064f18f",
   "metadata": {},
   "outputs": [
    {
     "data": {
      "text/html": [
       "<div>\n",
       "<style scoped>\n",
       "    .dataframe tbody tr th:only-of-type {\n",
       "        vertical-align: middle;\n",
       "    }\n",
       "\n",
       "    .dataframe tbody tr th {\n",
       "        vertical-align: top;\n",
       "    }\n",
       "\n",
       "    .dataframe thead th {\n",
       "        text-align: right;\n",
       "    }\n",
       "</style>\n",
       "<table border=\"1\" class=\"dataframe\">\n",
       "  <thead>\n",
       "    <tr style=\"text-align: right;\">\n",
       "      <th></th>\n",
       "      <th>index</th>\n",
       "      <th>InvoiceNo</th>\n",
       "      <th>StockCode</th>\n",
       "      <th>Description</th>\n",
       "      <th>Quantity</th>\n",
       "      <th>InvoiceDate</th>\n",
       "      <th>UnitPrice</th>\n",
       "      <th>CustomerID</th>\n",
       "      <th>Country</th>\n",
       "    </tr>\n",
       "  </thead>\n",
       "  <tbody>\n",
       "    <tr>\n",
       "      <th>0</th>\n",
       "      <td>0</td>\n",
       "      <td>536365</td>\n",
       "      <td>85123A</td>\n",
       "      <td>WHITE HANGING HEART T-LIGHT HOLDER</td>\n",
       "      <td>6</td>\n",
       "      <td>12/1/2010 8:26</td>\n",
       "      <td>2.55</td>\n",
       "      <td>17850.0</td>\n",
       "      <td>United Kingdom</td>\n",
       "    </tr>\n",
       "    <tr>\n",
       "      <th>1</th>\n",
       "      <td>1</td>\n",
       "      <td>536365</td>\n",
       "      <td>71053</td>\n",
       "      <td>WHITE METAL LANTERN</td>\n",
       "      <td>6</td>\n",
       "      <td>12/1/2010 8:26</td>\n",
       "      <td>3.39</td>\n",
       "      <td>17850.0</td>\n",
       "      <td>United Kingdom</td>\n",
       "    </tr>\n",
       "    <tr>\n",
       "      <th>2</th>\n",
       "      <td>2</td>\n",
       "      <td>536365</td>\n",
       "      <td>84406B</td>\n",
       "      <td>CREAM CUPID HEARTS COAT HANGER</td>\n",
       "      <td>8</td>\n",
       "      <td>12/1/2010 8:26</td>\n",
       "      <td>2.75</td>\n",
       "      <td>17850.0</td>\n",
       "      <td>United Kingdom</td>\n",
       "    </tr>\n",
       "    <tr>\n",
       "      <th>3</th>\n",
       "      <td>3</td>\n",
       "      <td>536365</td>\n",
       "      <td>84029G</td>\n",
       "      <td>KNITTED UNION FLAG HOT WATER BOTTLE</td>\n",
       "      <td>6</td>\n",
       "      <td>12/1/2010 8:26</td>\n",
       "      <td>3.39</td>\n",
       "      <td>17850.0</td>\n",
       "      <td>United Kingdom</td>\n",
       "    </tr>\n",
       "    <tr>\n",
       "      <th>4</th>\n",
       "      <td>4</td>\n",
       "      <td>536365</td>\n",
       "      <td>84029E</td>\n",
       "      <td>RED WOOLLY HOTTIE WHITE HEART.</td>\n",
       "      <td>6</td>\n",
       "      <td>12/1/2010 8:26</td>\n",
       "      <td>3.39</td>\n",
       "      <td>17850.0</td>\n",
       "      <td>United Kingdom</td>\n",
       "    </tr>\n",
       "  </tbody>\n",
       "</table>\n",
       "</div>"
      ],
      "text/plain": [
       "   index InvoiceNo StockCode                          Description  Quantity  \\\n",
       "0      0    536365    85123A   WHITE HANGING HEART T-LIGHT HOLDER         6   \n",
       "1      1    536365     71053                  WHITE METAL LANTERN         6   \n",
       "2      2    536365    84406B       CREAM CUPID HEARTS COAT HANGER         8   \n",
       "3      3    536365    84029G  KNITTED UNION FLAG HOT WATER BOTTLE         6   \n",
       "4      4    536365    84029E       RED WOOLLY HOTTIE WHITE HEART.         6   \n",
       "\n",
       "      InvoiceDate  UnitPrice  CustomerID         Country  \n",
       "0  12/1/2010 8:26       2.55     17850.0  United Kingdom  \n",
       "1  12/1/2010 8:26       3.39     17850.0  United Kingdom  \n",
       "2  12/1/2010 8:26       2.75     17850.0  United Kingdom  \n",
       "3  12/1/2010 8:26       3.39     17850.0  United Kingdom  \n",
       "4  12/1/2010 8:26       3.39     17850.0  United Kingdom  "
      ]
     },
     "execution_count": 21,
     "metadata": {},
     "output_type": "execute_result"
    }
   ],
   "source": [
    "import pandas as pd\n",
    "df = pd.read_csv(\"online_retail.csv\")\n",
    "df.head()"
   ]
  },
  {
   "cell_type": "code",
   "execution_count": 32,
   "id": "6c9774de-5d42-4d06-be5b-15e9cc5f99ff",
   "metadata": {},
   "outputs": [
    {
     "data": {
      "text/plain": [
       "index            int64\n",
       "InvoiceNo       object\n",
       "StockCode       object\n",
       "Description     object\n",
       "Quantity         int64\n",
       "InvoiceDate     object\n",
       "UnitPrice      float64\n",
       "CustomerID     float64\n",
       "Country         object\n",
       "dtype: object"
      ]
     },
     "execution_count": 32,
     "metadata": {},
     "output_type": "execute_result"
    }
   ],
   "source": [
    "df.dtypes"
   ]
  },
  {
   "cell_type": "markdown",
   "id": "5d54d835-7c0c-43bb-8714-2d1236b3f345",
   "metadata": {},
   "source": [
    "Data Cleaning"
   ]
  },
  {
   "cell_type": "code",
   "execution_count": 24,
   "id": "46a395de-28f9-47ad-9b6d-e2d180607cf7",
   "metadata": {},
   "outputs": [
    {
     "data": {
      "text/plain": [
       "Description      1454\n",
       "CustomerID     135080\n",
       "dtype: int64"
      ]
     },
     "execution_count": 24,
     "metadata": {},
     "output_type": "execute_result"
    }
   ],
   "source": [
    "# Check for missing values in each column\n",
    "missing_values = df.isnull().sum()\n",
    "missing_values[missing_values > 0]"
   ]
  },
  {
   "cell_type": "code",
   "execution_count": null,
   "id": "98864474-d3a2-4b78-8e8e-a62a3316eacc",
   "metadata": {},
   "outputs": [],
   "source": [
    "# 24% of CustomerID records could be due to guest checkout, better to check for cancel or negative transactions"
   ]
  },
  {
   "cell_type": "code",
   "execution_count": 26,
   "id": "80fadbb7-061d-466f-a6c7-2cce208f1b08",
   "metadata": {},
   "outputs": [
    {
     "name": "stdout",
     "output_type": "stream",
     "text": [
      "Number of duplicate rows: 0\n"
     ]
    }
   ],
   "source": [
    "# Check for duplicate rows\n",
    "duplicate_rows = df[df.duplicated()]\n",
    "print(f\"Number of duplicate rows: {duplicate_rows.shape[0]}\")"
   ]
  },
  {
   "cell_type": "code",
   "execution_count": 28,
   "id": "06176715-c3b7-42d0-ae79-71a4d93b2c88",
   "metadata": {},
   "outputs": [
    {
     "name": "stdout",
     "output_type": "stream",
     "text": [
      "10624 rows with negative Quantity\n",
      "2517 rows with zero/negative UnitPrice\n"
     ]
    }
   ],
   "source": [
    "# Check for negative values in Quantity and UnitPrice\n",
    "print(df[df[\"Quantity\"] <= 0].shape[0], \"rows with negative Quantity\")\n",
    "print(df[df[\"UnitPrice\"] <= 0].shape[0], \"rows with zero/negative UnitPrice\")"
   ]
  },
  {
   "cell_type": "code",
   "execution_count": 36,
   "id": "0dbcb93b-e3ce-4003-95e4-8d8b5b0a08e2",
   "metadata": {},
   "outputs": [
    {
     "data": {
      "text/plain": [
       "Description\n",
       "Manual                                244\n",
       "REGENCY CAKESTAND 3 TIER              181\n",
       "POSTAGE                               126\n",
       "check                                 120\n",
       "JAM MAKING SET WITH JARS               87\n",
       "Discount                               77\n",
       "SET OF 3 CAKE TINS PANTRY DESIGN       74\n",
       "SAMPLES                                61\n",
       "STRAWBERRY CERAMIC TRINKET BOX         55\n",
       "ROSES REGENCY TEACUP AND SAUCER        54\n",
       "RECIPE BOX PANTRY YELLOW DESIGN        47\n",
       "damages                                45\n",
       "WOOD 2 DRAWER CABINET WHITE FINISH     45\n",
       "LUNCH BAG RED RETROSPOT                44\n",
       "JUMBO BAG RED RETROSPOT                44\n",
       "WHITE HANGING HEART T-LIGHT HOLDER     42\n",
       "damaged                                42\n",
       "GREEN REGENCY TEACUP AND SAUCER        42\n",
       "RED RETROSPOT CAKE STAND               42\n",
       "?                                      41\n",
       "Name: count, dtype: int64"
      ]
     },
     "execution_count": 36,
     "metadata": {},
     "output_type": "execute_result"
    }
   ],
   "source": [
    "df[df[\"Quantity\"] < 0][\"Description\"].value_counts().head(20)"
   ]
  },
  {
   "cell_type": "code",
   "execution_count": 38,
   "id": "7242a42a-1fe0-46f3-8b61-b0f646043232",
   "metadata": {},
   "outputs": [
    {
     "data": {
      "text/plain": [
       "Description\n",
       "check                              159\n",
       "?                                   47\n",
       "damages                             45\n",
       "damaged                             43\n",
       "found                               25\n",
       "sold as set on dotcom               20\n",
       "adjustment                          16\n",
       "Damaged                             14\n",
       "Unsaleable, destroyed.               9\n",
       "thrown away                          9\n",
       "FRENCH BLUE METAL DOOR SIGN 1        9\n",
       "amazon                               8\n",
       "FRENCH BLUE METAL DOOR SIGN 8        8\n",
       "Found                                8\n",
       "FRENCH BLUE METAL DOOR SIGN 4        7\n",
       "RECIPE BOX PANTRY YELLOW DESIGN      7\n",
       "Amazon                               7\n",
       "FRENCH BLUE METAL DOOR SIGN No       7\n",
       "??                                   7\n",
       "OWL DOORSTOP                         7\n",
       "Name: count, dtype: int64"
      ]
     },
     "execution_count": 38,
     "metadata": {},
     "output_type": "execute_result"
    }
   ],
   "source": [
    "df[df[\"UnitPrice\"] == 0][\"Description\"].value_counts().head(20)"
   ]
  },
  {
   "cell_type": "markdown",
   "id": "df157862-fdd3-4e00-99ff-8842226da7b3",
   "metadata": {},
   "source": [
    "In order to do a market basket analysis we need only below fields.\n",
    "InvoiceNo (Transaction ID)\n",
    "StockCode (Product ID)\n",
    "Description (Optional for interpretation)\n",
    "Quantity (To determine frequent items)"
   ]
  },
  {
   "cell_type": "code",
   "execution_count": 41,
   "id": "ca7568eb-e5f0-4451-bdd5-f86699a33478",
   "metadata": {},
   "outputs": [],
   "source": [
    "df_mba = df[[\"InvoiceNo\", \"StockCode\", \"Quantity\", \"Description\"]]"
   ]
  },
  {
   "cell_type": "code",
   "execution_count": 45,
   "id": "bbab9983-f494-43ae-b753-89208deed4a6",
   "metadata": {},
   "outputs": [
    {
     "data": {
      "text/html": [
       "<div>\n",
       "<style scoped>\n",
       "    .dataframe tbody tr th:only-of-type {\n",
       "        vertical-align: middle;\n",
       "    }\n",
       "\n",
       "    .dataframe tbody tr th {\n",
       "        vertical-align: top;\n",
       "    }\n",
       "\n",
       "    .dataframe thead th {\n",
       "        text-align: right;\n",
       "    }\n",
       "</style>\n",
       "<table border=\"1\" class=\"dataframe\">\n",
       "  <thead>\n",
       "    <tr style=\"text-align: right;\">\n",
       "      <th></th>\n",
       "      <th>InvoiceNo</th>\n",
       "      <th>StockCode</th>\n",
       "      <th>Quantity</th>\n",
       "      <th>Description</th>\n",
       "    </tr>\n",
       "  </thead>\n",
       "  <tbody>\n",
       "    <tr>\n",
       "      <th>0</th>\n",
       "      <td>536365</td>\n",
       "      <td>85123A</td>\n",
       "      <td>6</td>\n",
       "      <td>WHITE HANGING HEART T-LIGHT HOLDER</td>\n",
       "    </tr>\n",
       "    <tr>\n",
       "      <th>1</th>\n",
       "      <td>536365</td>\n",
       "      <td>71053</td>\n",
       "      <td>6</td>\n",
       "      <td>WHITE METAL LANTERN</td>\n",
       "    </tr>\n",
       "    <tr>\n",
       "      <th>2</th>\n",
       "      <td>536365</td>\n",
       "      <td>84406B</td>\n",
       "      <td>8</td>\n",
       "      <td>CREAM CUPID HEARTS COAT HANGER</td>\n",
       "    </tr>\n",
       "    <tr>\n",
       "      <th>3</th>\n",
       "      <td>536365</td>\n",
       "      <td>84029G</td>\n",
       "      <td>6</td>\n",
       "      <td>KNITTED UNION FLAG HOT WATER BOTTLE</td>\n",
       "    </tr>\n",
       "    <tr>\n",
       "      <th>4</th>\n",
       "      <td>536365</td>\n",
       "      <td>84029E</td>\n",
       "      <td>6</td>\n",
       "      <td>RED WOOLLY HOTTIE WHITE HEART.</td>\n",
       "    </tr>\n",
       "  </tbody>\n",
       "</table>\n",
       "</div>"
      ],
      "text/plain": [
       "  InvoiceNo StockCode  Quantity                          Description\n",
       "0    536365    85123A         6   WHITE HANGING HEART T-LIGHT HOLDER\n",
       "1    536365     71053         6                  WHITE METAL LANTERN\n",
       "2    536365    84406B         8       CREAM CUPID HEARTS COAT HANGER\n",
       "3    536365    84029G         6  KNITTED UNION FLAG HOT WATER BOTTLE\n",
       "4    536365    84029E         6       RED WOOLLY HOTTIE WHITE HEART."
      ]
     },
     "execution_count": 45,
     "metadata": {},
     "output_type": "execute_result"
    }
   ],
   "source": [
    "df_mba.head()"
   ]
  },
  {
   "cell_type": "code",
   "execution_count": 49,
   "id": "e325079a-9650-4f4f-b363-6e2d98040b9b",
   "metadata": {},
   "outputs": [
    {
     "data": {
      "text/plain": [
       "Description\n",
       "Manual                                244\n",
       "REGENCY CAKESTAND 3 TIER              181\n",
       "POSTAGE                               126\n",
       "check                                 120\n",
       "JAM MAKING SET WITH JARS               87\n",
       "Discount                               77\n",
       "SET OF 3 CAKE TINS PANTRY DESIGN       74\n",
       "SAMPLES                                61\n",
       "STRAWBERRY CERAMIC TRINKET BOX         55\n",
       "ROSES REGENCY TEACUP AND SAUCER        54\n",
       "RECIPE BOX PANTRY YELLOW DESIGN        47\n",
       "damages                                45\n",
       "WOOD 2 DRAWER CABINET WHITE FINISH     45\n",
       "LUNCH BAG RED RETROSPOT                44\n",
       "JUMBO BAG RED RETROSPOT                44\n",
       "WHITE HANGING HEART T-LIGHT HOLDER     42\n",
       "damaged                                42\n",
       "GREEN REGENCY TEACUP AND SAUCER        42\n",
       "RED RETROSPOT CAKE STAND               42\n",
       "?                                      41\n",
       "Name: count, dtype: int64"
      ]
     },
     "execution_count": 49,
     "metadata": {},
     "output_type": "execute_result"
    }
   ],
   "source": [
    "df_mba[df_mba[\"Quantity\"] < 0][\"Description\"].value_counts().head(20)"
   ]
  },
  {
   "cell_type": "code",
   "execution_count": 51,
   "id": "bfdb6e02-e720-4ee1-9e27-03cd5caf99ea",
   "metadata": {},
   "outputs": [
    {
     "name": "stdout",
     "output_type": "stream",
     "text": [
      "10624 rows with negative Quantity\n"
     ]
    }
   ],
   "source": [
    "print(df_mba[df_mba[\"Quantity\"] <= 0].shape[0], \"rows with negative Quantity\")"
   ]
  },
  {
   "cell_type": "code",
   "execution_count": 57,
   "id": "eec0f333-3a49-4d4e-987d-afdd4a7ac974",
   "metadata": {},
   "outputs": [
    {
     "data": {
      "text/plain": [
       "2167636"
      ]
     },
     "execution_count": 57,
     "metadata": {},
     "output_type": "execute_result"
    }
   ],
   "source": [
    "df_mba.size"
   ]
  },
  {
   "cell_type": "markdown",
   "id": "5ea92bdd-5561-4f22-b615-fe54250d4eba",
   "metadata": {},
   "source": [
    "Since negative quantities likely indicate returns or cancellations"
   ]
  },
  {
   "cell_type": "code",
   "execution_count": 60,
   "id": "761d1705-3d86-4622-8c74-3154b089bb9f",
   "metadata": {},
   "outputs": [],
   "source": [
    "df_mba = df_mba[df_mba[\"Quantity\"] > 0]"
   ]
  },
  {
   "cell_type": "code",
   "execution_count": 62,
   "id": "33c80098-2cd4-42e8-b6e5-481e730c8468",
   "metadata": {},
   "outputs": [
    {
     "data": {
      "text/plain": [
       "2125140"
      ]
     },
     "execution_count": 62,
     "metadata": {},
     "output_type": "execute_result"
    }
   ],
   "source": [
    "df_mba.size"
   ]
  },
  {
   "cell_type": "code",
   "execution_count": 72,
   "id": "e868e229-2c7b-4a7d-a573-abcc1be1c83c",
   "metadata": {},
   "outputs": [
    {
     "data": {
      "text/plain": [
       "7"
      ]
     },
     "execution_count": 72,
     "metadata": {},
     "output_type": "execute_result"
    }
   ],
   "source": [
    "# Check for '??' values\n",
    "df[df[\"Description\"] == \"??\"].shape[0]"
   ]
  },
  {
   "cell_type": "code",
   "execution_count": 74,
   "id": "ee215cbf-ed50-422e-9356-e5d8a383a57e",
   "metadata": {},
   "outputs": [
    {
     "data": {
      "text/plain": [
       "1454"
      ]
     },
     "execution_count": 74,
     "metadata": {},
     "output_type": "execute_result"
    }
   ],
   "source": [
    "# Check for empty or null values\n",
    "df[\"Description\"].isnull().sum()"
   ]
  },
  {
   "cell_type": "code",
   "execution_count": 64,
   "id": "d5c05401-ca4b-4bef-851e-ec71737a60fc",
   "metadata": {},
   "outputs": [],
   "source": [
    "#Most Sold Products"
   ]
  },
  {
   "cell_type": "code",
   "execution_count": 68,
   "id": "c07f7b20-3af1-438c-930c-dce9d8f93619",
   "metadata": {},
   "outputs": [
    {
     "data": {
      "image/png": "[encoded data removed]",
      "text/plain": [
       "<Figure size 1200x600 with 1 Axes>"
      ]
     },
     "metadata": {},
     "output_type": "display_data"
    }
   ],
   "source": [
    "import matplotlib.pyplot as plt\n",
    "\n",
    "top_products = df_mba.groupby(\"Description\")[\"Quantity\"].sum().sort_values(ascending=False).head(10)\n",
    "\n",
    "plt.figure(figsize=(12,6))\n",
    "top_products.plot(kind=\"bar\", color=\"royalblue\")\n",
    "plt.xlabel(\"Description\")\n",
    "plt.ylabel(\"Total Quantity Sold\")\n",
    "plt.title(\"Top 10 Most Sold Products\")\n",
    "plt.show()"
   ]
  },
  {
   "cell_type": "code",
   "execution_count": null,
   "id": "462dad40-8834-4032-8120-280a90a02e5d",
   "metadata": {},
   "outputs": [],
   "source": []
  }
 ],
 "metadata": {
  "kernelspec": {
   "display_name": "Python 3 (ipykernel)",
   "language": "python",
   "name": "python3"
  },
  "language_info": {
   "codemirror_mode": {
    "name": "ipython",
    "version": 3
   },
   "file_extension": ".py",
   "mimetype": "text/x-python",
   "name": "python",
   "nbconvert_exporter": "python",
   "pygments_lexer": "ipython3",
   "version": "3.12.7"
  }
 },
 "nbformat": 4,
 "nbformat_minor": 5
}
