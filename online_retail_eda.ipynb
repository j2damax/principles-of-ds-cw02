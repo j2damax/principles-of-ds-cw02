{
  "nbformat": 4,
  "nbformat_minor": 0,
  "metadata": {
    "colab": {
      "provenance": [],
      "authorship_tag": "ABX9TyNLWjYTaPHtH7dAEjJ5Lxw1",
      "include_colab_link": true
    },
    "kernelspec": {
      "name": "python3",
      "display_name": "Python 3"
    },
    "language_info": {
      "name": "python"
    }
  },
  "cells": [
    {
      "cell_type": "markdown",
      "metadata": {
        "id": "view-in-github",
        "colab_type": "text"
      },
      "source": [
        "<a href=\"https://colab.research.google.com/github/j2damax/principles-of-ds-cw02/blob/main/online_retail_eda.ipynb\" target=\"_parent\"><img src=\"https://colab.research.google.com/assets/colab-badge.svg\" alt=\"Open In Colab\"/></a>"
      ]
    },
    {
      "cell_type": "code",
      "execution_count": 2,
      "metadata": {
        "id": "VjLI-3-TmYB6"
      },
      "outputs": [],
      "source": [
        "#import library and load the dataset\n",
        "import pandas as pd"
      ]
    },
    {
      "cell_type": "code",
      "source": [
        "# read csv file\n",
        "df = pd.read_csv(\"online_retail.csv\")\n",
        "df.head()"
      ],
      "metadata": {
        "id": "obeEKMeSmpqk"
      },
      "execution_count": null,
      "outputs": []
    },
    {
      "cell_type": "code",
      "source": [
        "#Check no.of rows and colunms\n",
        "df.shape"
      ],
      "metadata": {
        "id": "ElzkYrxEnPKv"
      },
      "execution_count": null,
      "outputs": []
    },
    {
      "cell_type": "code",
      "source": [
        "#Check the data types\n",
        "df.dtypes"
      ],
      "metadata": {
        "id": "O-5PnSE8nSs5"
      },
      "execution_count": null,
      "outputs": []
    },
    {
      "cell_type": "code",
      "source": [
        "#check missing values\n",
        "df.isna().sum()"
      ],
      "metadata": {
        "id": "qy78bGxKnUXb"
      },
      "execution_count": null,
      "outputs": []
    },
    {
      "cell_type": "code",
      "source": [
        "#Drop the customerID with missing values\n",
        "df = df.dropna(subset=['CustomerID'])"
      ],
      "metadata": {
        "id": "0hteRzWwnX2l"
      },
      "execution_count": null,
      "outputs": []
    },
    {
      "cell_type": "code",
      "source": [
        "#Fill missing description with unknown\n",
        "df['Description'] = df['Description'].fillna('Unknown')"
      ],
      "metadata": {
        "id": "NsdL_iWknZhz"
      },
      "execution_count": null,
      "outputs": []
    },
    {
      "cell_type": "code",
      "source": [
        "#Ensure no missing values are available in the dataset\n",
        "print(df.isnull().sum())"
      ],
      "metadata": {
        "id": "VN_fL5r5nawm"
      },
      "execution_count": null,
      "outputs": []
    },
    {
      "cell_type": "code",
      "source": [
        "#Check duplicated rows\n",
        "df.duplicated().sum()"
      ],
      "metadata": {
        "id": "hxSZt7ZIncej"
      },
      "execution_count": null,
      "outputs": []
    },
    {
      "cell_type": "code",
      "source": [
        "# Remove negative values in quantity and prices colunm since those values cannot be negative\n",
        "df = df[(df['Quantity'] > 0) & (df['UnitPrice'] > 0)]"
      ],
      "metadata": {
        "id": "IHPdQQ7kneIU"
      },
      "execution_count": null,
      "outputs": []
    },
    {
      "cell_type": "code",
      "source": [
        "# Convert InvoiceNo and StockCode to string\n",
        "df['InvoiceNo'] = df['InvoiceNo'].astype(str)\n",
        "df['StockCode'] = df['StockCode'].astype(str)\n",
        "\n",
        "# Convert InvoiceDate to datetime format if we need to do time based analysis\n",
        "df['InvoiceDate'] = pd.to_datetime(df['InvoiceDate'])\n",
        "\n",
        "# Convert CustomerID to string\n",
        "df['CustomerID'] = df['CustomerID'].astype(str)\n",
        "\n",
        "# Convert Country to categorical type\n",
        "df['Country'] = df['Country'].astype('category')\n",
        "\n",
        "df.dtypes"
      ],
      "metadata": {
        "id": "CrSG3_xpngRM"
      },
      "execution_count": null,
      "outputs": []
    },
    {
      "cell_type": "markdown",
      "source": [
        "# Feature Engineering for analysis"
      ],
      "metadata": {
        "id": "bzLoh4b3nirI"
      }
    },
    {
      "cell_type": "code",
      "source": [
        "# 01Create TotalPrice to get the revenue per transaction\n",
        "df['TotalPrice'] = df['Quantity'] * df['UnitPrice']\n",
        "df.head()"
      ],
      "metadata": {
        "id": "0XTRF3QEnkxz"
      },
      "execution_count": null,
      "outputs": []
    },
    {
      "cell_type": "code",
      "source": [
        "#02Create additional columns by categorizing the Date for the analysis of seasonal trends\n",
        "\n",
        "# categorize date components into year, month, day, weekday,working hour and weekend\n",
        "df['Year'] = df['InvoiceDate'].dt.year\n",
        "df['Month'] = df['InvoiceDate'].dt.month\n",
        "df['Day'] = df['InvoiceDate'].dt.day\n",
        "df['Weekday'] = df['InvoiceDate'].dt.weekday  # Monday = 0, Sunday = 6\n",
        "df['Hour'] = df['InvoiceDate'].dt.hour\n",
        "\n",
        "# Create a feature for working hours\n",
        "df['IsWorkingHour'] = df['Hour'].apply(lambda x: 1 if 9 <= x <= 18 else 0)\n",
        "\n",
        "# Check if the purchase was made on a weekend\n",
        "df['IsWeekend'] = df['Weekday'].apply(lambda x: 1 if x >= 5 else 0)\n",
        "\n",
        "#Display created columns\n",
        "print(df[['Year', 'Month', 'Day', 'Weekday', 'Hour', 'IsWeekend']].head())"
      ],
      "metadata": {
        "id": "w6vZZZWCno9s"
      },
      "execution_count": null,
      "outputs": []
    },
    {
      "cell_type": "code",
      "source": [
        "#03Customer recency\n",
        "import datetime\n",
        "latest_date = df['InvoiceDate'].max()  # Get last transaction date\n",
        "df['Recency'] = df.groupby('CustomerID')['InvoiceDate'].transform(lambda x: (latest_date - x.max()).days)\n",
        "\n",
        "#print 5 rows of customer recency by ensuring one row per customerID\n",
        "print(df[['CustomerID', 'InvoiceDate', 'Recency']].drop_duplicates(subset=['CustomerID']).head(5))\n",
        "\n",
        "#print a random customer's recency\n",
        "print(df[['CustomerID', 'Recency']].drop_duplicates().sample(5))\n"
      ],
      "metadata": {
        "id": "xONnPtKvnrGq"
      },
      "execution_count": null,
      "outputs": []
    },
    {
      "cell_type": "code",
      "source": [
        "#04Create customer-based aggregations to find the total spend, total number of purchases and average order value per customer\n",
        "\n",
        "\n",
        "# Total spend per customer\n",
        "customer_spending = df.groupby('CustomerID')['TotalPrice'].sum().reset_index()\n",
        "\n",
        "# Total number of purchases per customer\n",
        "customer_frequency = df.groupby('CustomerID')['InvoiceNo'].nunique().reset_index()\n",
        "\n",
        "# Average order value per customer\n",
        "customer_avg_order = df.groupby('CustomerID')['TotalPrice'].mean().reset_index()\n",
        "\n",
        "print(customer_spending.head())\n",
        "print(customer_frequency.head())\n",
        "print(customer_avg_order.head())"
      ],
      "metadata": {
        "id": "K6ODHYQ-nuRg"
      },
      "execution_count": null,
      "outputs": []
    },
    {
      "cell_type": "code",
      "source": [
        "#05Find the popular product based on the purchase quantity grouping by description\n",
        "\n",
        "# Aggregate total quantity sold per product (grouping by Description)\n",
        "popular_products = df.groupby('Description')['Quantity'].sum().reset_index()\n",
        "\n",
        "# Sort by most sold products\n",
        "popular_products = popular_products.sort_values(by='Quantity', ascending=False)\n",
        "\n",
        "# Add a flag for popular products (Top 100)\n",
        "df['IsPopularProduct'] = df['Description'].apply(lambda x: 1 if x in popular_products['Description'][:100].values else 0)\n",
        "\n",
        "# Display top products\n",
        "print(popular_products.head(10))"
      ],
      "metadata": {
        "id": "PSXa1cWjnw5v"
      },
      "execution_count": null,
      "outputs": []
    },
    {
      "cell_type": "markdown",
      "source": [
        "# Exploratory Data Analysis"
      ],
      "metadata": {
        "id": "6gCbWZ21nyoL"
      }
    },
    {
      "cell_type": "code",
      "source": [
        "#get summary statistics of dataset\n",
        "df.describe()"
      ],
      "metadata": {
        "id": "DaxsgAZXnzRS"
      },
      "execution_count": null,
      "outputs": []
    },
    {
      "cell_type": "code",
      "source": [
        "#Monthly sales analysis\n",
        "\n",
        "import matplotlib.pyplot as plt\n",
        "import seaborn as sns\n",
        "\n",
        "monthly_sales = df.groupby(['Year', 'Month'])['TotalPrice'].sum().reset_index()\n",
        "\n",
        "plt.figure(figsize=(8,4))\n",
        "sns.lineplot(data=monthly_sales, x='Month', y='TotalPrice', hue='Year', marker='o')\n",
        "plt.title('Monthly Sales Trend')\n",
        "plt.xlabel('Month')\n",
        "plt.ylabel('Total Sales')\n",
        "plt.grid()\n",
        "plt.show()\n"
      ],
      "metadata": {
        "id": "Q_SZ_VD7n3cJ"
      },
      "execution_count": null,
      "outputs": []
    },
    {
      "cell_type": "code",
      "source": [
        "import matplotlib.pyplot as plt\n",
        "import seaborn as sns\n",
        "\n",
        "# Aggregate total quantity sold per product\n",
        "popular_products = df.groupby('Description')['Quantity'].sum().reset_index()\n",
        "\n",
        "# Sort by highest quantity and take the top 10\n",
        "top_10_products = popular_products.sort_values(by='Quantity', ascending=False).head(10)\n",
        "\n",
        "# Plot bar chart\n",
        "plt.figure(figsize=(12, 6))\n",
        "sns.barplot(x='Quantity', y='Description', data=top_10_products, palette='viridis')\n",
        "\n",
        "# Add labels and title\n",
        "plt.xlabel('Total Quantity Sold')\n",
        "plt.ylabel('Product Description')\n",
        "plt.title('Top 10 Popular Products by Quantity')\n",
        "plt.show()\n"
      ],
      "metadata": {
        "id": "GmXnY14Mn4DV"
      },
      "execution_count": null,
      "outputs": []
    }
  ]
}